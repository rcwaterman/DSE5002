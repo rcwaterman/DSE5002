{
 "cells": [
  {
   "cell_type": "markdown",
   "id": "622a091b-7559-43b8-96fc-a2674bd6f9e5",
   "metadata": {},
   "source": [
    "# Using Hashed Storage in Dictionaries to Avoid or Reduce Nested loops"
   ]
  },
  {
   "cell_type": "markdown",
   "id": "68f65484-2b0c-494c-a057-d6ec214803db",
   "metadata": {},
   "source": [
    "## Problem Statement\n",
    "\n",
    "We have two lists, list1 and list2\n",
    "\n",
    "We would like to know the indices in each list of any value that is present in both\n",
    "\n",
    "We can do this by looping through the list twice,   one loop per index\n"
   ]
  },
  {
   "cell_type": "code",
   "execution_count": 1,
   "id": "5a5b2762-4a1d-4baf-9903-1056edaffb3e",
   "metadata": {},
   "outputs": [
    {
     "name": "stdout",
     "output_type": "stream",
     "text": [
      "Both elements are the same. \n",
      "list1 indice is: 0\n",
      " list2 indice is: 0\n",
      "Both elements are the same. \n",
      "list1 indice is: 0\n",
      " list2 indice is: 4\n",
      "Both elements are the same. \n",
      "list1 indice is: 2\n",
      " list2 indice is: 3\n",
      "Both elements are the same. \n",
      "list1 indice is: 3\n",
      " list2 indice is: 0\n",
      "Both elements are the same. \n",
      "list1 indice is: 3\n",
      " list2 indice is: 4\n",
      "Both elements are the same. \n",
      "list1 indice is: 5\n",
      " list2 indice is: 1\n"
     ]
    }
   ],
   "source": [
    "list1 = [3,5,10,3,7,4,6]\n",
    "list2 = [3,4,2,10,3,8,9]\n",
    "work_on2 = 0\n",
    "for i in range(len(list1)):\n",
    "    for j in range(len(list2)):\n",
    "        work_on2+=1\n",
    "        if list1[i] == list2[j]:\n",
    "            print(\"Both elements are the same. \" + '\\nlist1 indice is: '+ str(i) + '\\n list2 indice is: ' + str(j) )"
   ]
  },
  {
   "cell_type": "markdown",
   "id": "cee41f5a-18b5-4ebd-84c2-634c566512b2",
   "metadata": {},
   "source": [
    "We will use hashed storage (a python dictionary) to reduce the number of steps needed\n",
    "\n",
    "First we create a dictionary that indicates whether each item in list1 is also in list2\n",
    "The key is the index in loop 1, the value is true or false depending on whether the value at that index is in list2\n",
    "\n",
    "Then we have a loop that goes through the key, value pairs.   For the cases where the list1 value is in list2, we loop \n",
    "through loop2 to find the matching index"
   ]
  },
  {
   "cell_type": "code",
   "execution_count": 7,
   "id": "f00ec570-2601-401a-b562-ad04894583a1",
   "metadata": {},
   "outputs": [
    {
     "name": "stdout",
     "output_type": "stream",
     "text": [
      "Both elements are the same. \n",
      "list1 indice is: 0\n",
      " list2 indice is: 0\n",
      "Both elements are the same. \n",
      "list1 indice is: 0\n",
      " list2 indice is: 4\n",
      "Both elements are the same. \n",
      "list1 indice is: 2\n",
      " list2 indice is: 3\n",
      "Both elements are the same. \n",
      "list1 indice is: 3\n",
      " list2 indice is: 0\n",
      "Both elements are the same. \n",
      "list1 indice is: 3\n",
      " list2 indice is: 4\n",
      "Both elements are the same. \n",
      "list1 indice is: 5\n",
      " list2 indice is: 1\n"
     ]
    }
   ],
   "source": [
    "from collections import defaultdict            \n",
    "work_on   = 0\n",
    "hash_map = defaultdict(int)\n",
    "\n",
    "for i in range(len(list1)):\n",
    "    work_on += 1\n",
    "    hash_map[i] = list1[i] in list2\n",
    "    \n",
    "for key, value in hash_map.items():\n",
    "   if value == True:\n",
    "        for j in range(len(list2)):\n",
    "            work_on += 1\n",
    "            if list1[key] == list2[j]:\n",
    "                print(\"Both elements are the same. \" + '\\nlist1 indice is: '+ str(key) + '\\n list2 indice is: ' + str(j))\n",
    "   else:\n",
    "        work_on += 1"
   ]
  },
  {
   "cell_type": "code",
   "execution_count": 8,
   "id": "f4474105-c51f-48d9-a85a-5b0b11796936",
   "metadata": {},
   "outputs": [
    {
     "name": "stdout",
     "output_type": "stream",
     "text": [
      "nested loop number of steps: 49\n",
      "hash map number of steps: 38\n"
     ]
    }
   ],
   "source": [
    "print('nested loop number of steps: ' + str(work_on2))\n",
    "print('hash map number of steps: ' + str(work_on))\n",
    "                "
   ]
  },
  {
   "cell_type": "markdown",
   "id": "8f6ab0d1-c510-458a-8a8e-be014bad3bb2",
   "metadata": {},
   "source": [
    "# * Question/Action*\n",
    "\n",
    "Can you estimate the order of the first approach, if the loop sizes are M and N?\n",
    "\n",
    "For the second approach,  the number of loops depends on slightly different factors.  What would be the order if there are no matches in the lists?   What would be the order if all values in the two list had a match?"
   ]
  },
  {
   "cell_type": "markdown",
   "id": "aaec286b",
   "metadata": {},
   "source": [
    "1. This requires M*N operations. Because M and N are the same length, the time complexity would be O(n^2)\n",
    "\n",
    "2. No matches would be M items, or O(n) time complexity. All matches would be M+M*N operations, or O(n^2 + n) because M and N would be equivalent. "
   ]
  },
  {
   "cell_type": "markdown",
   "id": "5a73c7e2-c073-4d48-9a54-a2daa240963c",
   "metadata": {},
   "source": [
    "# *Question/Action*\n",
    "\n",
    "Add the timing measurement tools from the other pair programming exercises to this notebook to get the elapsed time as \n",
    "well as the number of steps.\n",
    "\n",
    "Which is actually more important,  the elapsed time or the order?"
   ]
  },
  {
   "cell_type": "code",
   "execution_count": 5,
   "id": "05933c1c-6c32-461c-bcda-527f45a34e2c",
   "metadata": {},
   "outputs": [
    {
     "name": "stdout",
     "output_type": "stream",
     "text": [
      "1.46 μs ± 7.93 ns per loop (mean ± std. dev. of 7 runs, 1,000,000 loops each)\n",
      "2.03 μs ± 43.7 ns per loop (mean ± std. dev. of 7 runs, 100,000 loops each)\n"
     ]
    }
   ],
   "source": [
    "def nested():\n",
    "    work_on2 = 0\n",
    "    for i in range(len(list1)):\n",
    "        for j in range(len(list2)):\n",
    "            work_on2+=1\n",
    "            #if list1[i] == list2[j]:\n",
    "                #print(\"Both elements are the same. \" + '\\nlist1 indice is: '+ str(i) + '\\n list2 indice is: ' + str(j) )\n",
    "\n",
    "def hashed():\n",
    "    work_on   = 0\n",
    "    hash_map = defaultdict(int)\n",
    "\n",
    "    for i in range(len(list1)):\n",
    "        work_on += 1\n",
    "        hash_map[i] = list1[i] in list2\n",
    "        \n",
    "    for key, value in hash_map.items():\n",
    "        if value == True:\n",
    "                for j in range(len(list2)):\n",
    "                    work_on += 1\n",
    "                    #if list1[key] == list2[j]:\n",
    "                        #print(\"Both elements are the same. \" + '\\nlist1 indice is: '+ str(key) + '\\n list2 indice is: ' + str(j))\n",
    "        else:\n",
    "                work_on += 1\n",
    "\n",
    "%timeit nested()\n",
    "%timeit hashed()"
   ]
  },
  {
   "cell_type": "markdown",
   "id": "37a63304",
   "metadata": {},
   "source": [
    "The critical factor is the order. Elapsed time for a given sorting algorithm can be deceiving, depending on the input size of the array. Order is a tool that can be used to show how efficient an algorithm is depending on the scale of the array, which is far more generalized than elapsed time."
   ]
  }
 ],
 "metadata": {
  "kernelspec": {
   "display_name": "Python [conda env:DSE5002]",
   "language": "python",
   "name": "conda-env-DSE5002-py"
  },
  "language_info": {
   "codemirror_mode": {
    "name": "ipython",
    "version": 3
   },
   "file_extension": ".py",
   "mimetype": "text/x-python",
   "name": "python",
   "nbconvert_exporter": "python",
   "pygments_lexer": "ipython3",
   "version": "3.12.3"
  }
 },
 "nbformat": 4,
 "nbformat_minor": 5
}
