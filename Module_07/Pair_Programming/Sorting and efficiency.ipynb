{
 "cells": [
  {
   "cell_type": "markdown",
   "id": "d3ea84c3-f85b-4a2f-8825-85a28f580fa6",
   "metadata": {},
   "source": [
    "# Sorting algorithms\n",
    "\n",
    "Most of the time, we will used \"canned\" sorting algorithms when we do data science.\n",
    "\n",
    "But, it is important to be aware of some common algorithms,  so we will look at a couple sorting algorithms\n",
    "\n",
    "We also need to understand how to characterize the run time or efficiency of an algorithm\n",
    "\n",
    "\n",
    "\n",
    "Bubble sort is from: \n",
    "\n",
    "https://www.geeksforgeeks.org/python-program-for-bubble-sort/    \n"
   ]
  },
  {
   "cell_type": "markdown",
   "id": "e20e0d21-59f0-4edd-9a57-ca27915ba1ca",
   "metadata": {},
   "source": [
    "# Bubble Sort\n",
    "\n",
    "This was invented by Edward Friend in 1956.\n",
    "\n",
    "It is not the best available sort, but it is taught in most intro to programming courses, so we need to see it.\n",
    "\n"
   ]
  },
  {
   "cell_type": "code",
   "execution_count": 97,
   "id": "61e158ac-a097-490c-a98e-2d3d567ca0b6",
   "metadata": {},
   "outputs": [
    {
     "name": "stdout",
     "output_type": "stream",
     "text": [
      "Unsorted list is:\n",
      "[39, 12, 18, 85, 72, 10, 2, 18]\n",
      "Sorted list is:\n",
      "[2, 10, 12, 18, 18, 39, 72, 85]\n"
     ]
    }
   ],
   "source": [
    "def bubble_sort(arr):\n",
    "\n",
    "    nouter=len(arr)\n",
    "    \n",
    "    # Outer loop to iterate through the list n times, starting at the 2nd to last item in the array, ending at zero, moving in steps of -1\n",
    "    for n in range(nouter - 1, 0, -1):\n",
    "             \n",
    "        # Inner loop to compare adjacent elements  \n",
    "        # start at zero and go up to \n",
    "        \n",
    "        for i in range(n):\n",
    "            if arr[i] > arr[i + 1]:\n",
    "                # Swap elements if they are in the wrong order\n",
    "                arr[i], arr[i + 1] = arr[i + 1], arr[i]\n",
    "\n",
    "# the outer loop starts with n=length-1\n",
    "# the inner loop then moves the largest item it finds to the end of the list,  like a bubble floating to the top\n",
    "# the outer loop then runs at n=length-2, and the second largest item is moved to the end\n",
    "       \n",
    "\n",
    "# Sample list to be sorted\n",
    "arr = [39, 12, 18, 85, 72, 10, 2, 18]\n",
    "print(\"Unsorted list is:\")\n",
    "print(arr)\n",
    "\n",
    "bubble_sort(arr)\n",
    "\n",
    "print(\"Sorted list is:\")\n",
    "print(arr)"
   ]
  },
  {
   "cell_type": "markdown",
   "id": "77cdb27e-f6aa-473e-aacb-3b44f00b04fc",
   "metadata": {},
   "source": [
    "# *Question/Action *\n",
    "\n",
    "Only one simple change on one line of the function is needed to make it sort in descending form\n",
    "\n",
    "Copy and paste, then edit to bubble_sort_descending,   show that this works.\n",
    "\n",
    "Dont' alter the loop directions..."
   ]
  },
  {
   "cell_type": "code",
   "execution_count": 98,
   "id": "bc22e79e",
   "metadata": {},
   "outputs": [
    {
     "name": "stdout",
     "output_type": "stream",
     "text": [
      "Unsorted list is:\n",
      "[39, 12, 18, 85, 72, 10, 2, 18]\n",
      "Sorted list is:\n",
      "[85, 72, 39, 18, 18, 12, 10, 2]\n"
     ]
    }
   ],
   "source": [
    "def bubble_sort_descending(arr):\n",
    "\n",
    "    nouter=len(arr)\n",
    "    \n",
    "    # Outer loop to iterate through the list n times, starting at the 2nd to last item in the array, ending at zero, moving in steps of -1\n",
    "    for n in range(nouter - 1, 0, -1):\n",
    "             \n",
    "        # Inner loop to compare adjacent elements  \n",
    "        # start at zero and go up to \n",
    "        \n",
    "        for i in range(n):\n",
    "            if arr[i] < arr[i + 1]:\n",
    "                # Swap elements if they are in the wrong order\n",
    "                arr[i], arr[i + 1] = arr[i + 1], arr[i]\n",
    "\n",
    "# the outer loop starts with n=length-1\n",
    "# the inner loop then moves the largest item it finds to the end of the list,  like a bubble floating to the top\n",
    "# the outer loop then runs at n=length-2, and the second largest item is moved to the end\n",
    "       \n",
    "\n",
    "# Sample list to be sorted\n",
    "arr = [39, 12, 18, 85, 72, 10, 2, 18]\n",
    "print(\"Unsorted list is:\")\n",
    "print(arr)\n",
    "\n",
    "bubble_sort_descending(arr)\n",
    "\n",
    "print(\"Sorted list is:\")\n",
    "print(arr)"
   ]
  },
  {
   "cell_type": "markdown",
   "id": "15a502db-6012-4a4b-8813-3bf5e63fcd9b",
   "metadata": {},
   "source": [
    "# time\n",
    "\n",
    "## How fast is our code?  How do we describe this?\n",
    "\n",
    "Let's use %timeit to time how long  a bubble sort takes at some different array lengths\n",
    "\n",
    "The number of repetitions of the loop is n*(n-1), so the run time should be proportional to $n^2$\n",
    "\n",
    "The speed of the algorithm is said to be order of $n^2$,   written as *O*($n^2$)\n",
    "\n",
    "In Computer science, we really want to know the order of the algorithms we use\n",
    "\n"
   ]
  },
  {
   "cell_type": "code",
   "execution_count": 99,
   "id": "00ec5def-3dd7-491f-bed4-7c3474c027cb",
   "metadata": {},
   "outputs": [],
   "source": [
    "import random\n",
    "import numpy as np\n",
    "random_numbers = [random.random() for _ in range(50)]"
   ]
  },
  {
   "cell_type": "code",
   "execution_count": 100,
   "id": "673d4dba-f249-408b-9e73-2b3af8280bba",
   "metadata": {},
   "outputs": [
    {
     "name": "stdout",
     "output_type": "stream",
     "text": [
      "43.8 μs ± 2 μs per loop (mean ± std. dev. of 7 runs, 10,000 loops each)\n"
     ]
    }
   ],
   "source": [
    "#50 values in random numbers\n",
    "\n",
    "b50 = %timeit -o bubble_sort(random_numbers)\n",
    "b50 = b50.best\n"
   ]
  },
  {
   "cell_type": "code",
   "execution_count": 101,
   "id": "bf71dc6c-6f83-4f91-adbc-526a36769abf",
   "metadata": {},
   "outputs": [
    {
     "name": "stdout",
     "output_type": "stream",
     "text": [
      "4.09 ms ± 112 μs per loop (mean ± std. dev. of 7 runs, 100 loops each)\n"
     ]
    }
   ],
   "source": [
    "random_numbers = [random.random() for _ in range(500)]\n",
    "b500 = %timeit -o bubble_sort(random_numbers)\n",
    "b500 = b500.best"
   ]
  },
  {
   "cell_type": "code",
   "execution_count": 102,
   "id": "c76c01f5-2747-49d5-9ea0-9430d2114801",
   "metadata": {},
   "outputs": [
    {
     "name": "stdout",
     "output_type": "stream",
     "text": [
      "86.4 ms ± 2.08 ms per loop (mean ± std. dev. of 7 runs, 10 loops each)\n"
     ]
    }
   ],
   "source": [
    "random_numbers = [random.random() for _ in range(2000)]\n",
    "b2000 = %timeit -o bubble_sort(random_numbers)\n",
    "b2000 = b2000.best"
   ]
  },
  {
   "cell_type": "code",
   "execution_count": 103,
   "id": "fbc9f96a-cf8b-40c2-8ca4-3cd1c046418a",
   "metadata": {},
   "outputs": [
    {
     "name": "stdout",
     "output_type": "stream",
     "text": [
      "581 ms ± 13.2 ms per loop (mean ± std. dev. of 7 runs, 1 loop each)\n"
     ]
    }
   ],
   "source": [
    "random_numbers = [random.random() for _ in range(5000)]\n",
    "b5000 = %timeit -o bubble_sort(random_numbers)\n",
    "b5000 = b5000.best"
   ]
  },
  {
   "cell_type": "code",
   "execution_count": 104,
   "id": "b06140db-4a65-475e-a1bd-c684b5308fd4",
   "metadata": {},
   "outputs": [
    {
     "data": {
      "text/plain": [
       "[<matplotlib.lines.Line2D at 0x23d559e33e0>]"
      ]
     },
     "execution_count": 104,
     "metadata": {},
     "output_type": "execute_result"
    },
    {
     "data": {
      "image/png": "[encoded data removed]",
      "text/plain": [
       "<Figure size 640x480 with 1 Axes>"
      ]
     },
     "metadata": {},
     "output_type": "display_data"
    }
   ],
   "source": [
    "import matplotlib.pyplot as plt\n",
    "\n",
    "bubble_t=[b50, b500, b2000, b5000]\n",
    "bubble_n=[50,500,2000,5000]      \n",
    "\n",
    "plt.plot(bubble_n,bubble_t)"
   ]
  },
  {
   "cell_type": "markdown",
   "id": "c3f6f51b-750e-4c10-aa58-e22fa4b3e2d8",
   "metadata": {},
   "source": [
    "# A better sorting algorithm\n",
    "\n",
    "The mergesort is a faster, more efficient way to sort."
   ]
  },
  {
   "cell_type": "code",
   "execution_count": 105,
   "id": "f21436ac-5345-47cb-acdf-c9dba54e4be4",
   "metadata": {},
   "outputs": [],
   "source": [
    "import math   # needed for the floor() operation\n",
    "\n",
    "def merge(left, right):                         #left and right are two lists, each is in order internally\n",
    "    result = []                                 # result will hold the merged list\n",
    "    i ,j = 0, 0                                 # \"cursor\" positions in the two lists\n",
    "    while i < len(left) and j < len(right):    # repeat until we run out of items in the lists\n",
    "        if left[i] <= right[j]:                # figure out which is smaller, the next item in left or right, put the smaller into the results\n",
    "            result.append(left[i])             # increase i or j to the next time in the list\n",
    "            i += 1\n",
    "        else:\n",
    "            result.append(right[j])\n",
    "            j += 1\n",
    "    result += left[i:]                         # add the remaining items in each list to results,  only one will have remaining values\n",
    "    result += right[j:]\n",
    "    return result                              # we have now merged left and right into a merged list\n",
    "\n",
    "def mergesort(list):\n",
    "    if len(list) < 2:\n",
    "        return list\n",
    "    middle = math.floor(len(list) / 2)\n",
    "    left = mergesort(list[:middle])              # note the recursion,   it will keep splitting the left list till only 1 element remains,\n",
    "                                                    # then merger the 1 element listing,  ordering them as it goes,  it will do the same \n",
    "                                                    # to the right list,\n",
    "    right = mergesort(list[middle:])\n",
    "    return merge(left, right)"
   ]
  },
  {
   "cell_type": "code",
   "execution_count": 106,
   "id": "394640ae-7b09-42f7-8eac-b2a9005c81e4",
   "metadata": {},
   "outputs": [
    {
     "data": {
      "text/plain": [
       "[2, 10, 12, 18, 18, 39, 72, 85]"
      ]
     },
     "execution_count": 106,
     "metadata": {},
     "output_type": "execute_result"
    }
   ],
   "source": [
    "mergesort(arr)"
   ]
  },
  {
   "cell_type": "markdown",
   "id": "5487347b-827d-41df-ab9c-e6ca73ab8dfe",
   "metadata": {},
   "source": [
    "# How does the Mergesort work?\n",
    "\n",
    "Note this implementation is recursive.\n",
    "\n",
    "If the length of a list is 1, we just return it\n",
    "\n",
    "Other wise\n",
    "\n",
    "1.) find the midpoint\n",
    "2.) Mergesort the left half\n",
    "3.) Mergestor the right half\n",
    "3.) \"Merge\" the two sorted halves of the two lists,  in the values in the two lists are combined back into a single list, always by \n",
    "adding the smallest value in either the two lists into the single merged list."
   ]
  },
  {
   "cell_type": "markdown",
   "id": "41426672-5eb2-4962-93f6-8f65d0d6c471",
   "metadata": {},
   "source": [
    "# How fast should mergesort be?\n",
    "\n",
    "This can get complicated, but it appears that mergesort is faster than\n",
    "\n",
    "O($n log n + n + O(log n)$)\n",
    "\n",
    "the lead term here is nlog(n),   which is less than $n^2$ \n",
    "\n",
    "mergesort is a bit unpredictable in it's timing, it can vary greatly with the amount of order already present"
   ]
  },
  {
   "cell_type": "code",
   "execution_count": 107,
   "id": "c26c0cde-ca2a-4d27-afd7-0e1ba61ccc2c",
   "metadata": {},
   "outputs": [
    {
     "name": "stdout",
     "output_type": "stream",
     "text": [
      "590 μs ± 10.5 μs per loop (mean ± std. dev. of 7 runs, 1,000 loops each)\n"
     ]
    }
   ],
   "source": [
    "random_numbers = [random.random() for _ in range(500)]\n",
    "m500 = %timeit -o mergesort(random_numbers)\n",
    "m500 = m500.best"
   ]
  },
  {
   "cell_type": "code",
   "execution_count": 108,
   "id": "fe6ad512-c67b-4446-b377-e0af7bd4ff09",
   "metadata": {},
   "outputs": [
    {
     "name": "stdout",
     "output_type": "stream",
     "text": [
      "7.93 ms ± 139 μs per loop (mean ± std. dev. of 7 runs, 100 loops each)\n"
     ]
    }
   ],
   "source": [
    "random_numbers = [random.random() for _ in range(5000)]\n",
    "m5000 = %timeit -o mergesort(random_numbers)\n",
    "m5000 = m5000.best"
   ]
  },
  {
   "cell_type": "markdown",
   "id": "541a264c-a1c1-4c08-b688-927da31d9a66",
   "metadata": {},
   "source": [
    "# *Question/Action*\n",
    "\n",
    "Generate a series of tests of the time to run a mergesort over the same range of n values we used for the bubblesort\n",
    "and set up lists of n_merge and t_merger.\n",
    "\n",
    "Plot the time vs n for the bubblesort and the mergesort on a single graph."
   ]
  },
  {
   "cell_type": "code",
   "execution_count": 109,
   "id": "a487d53c",
   "metadata": {},
   "outputs": [
    {
     "name": "stdout",
     "output_type": "stream",
     "text": [
      "43.7 μs ± 1.54 μs per loop (mean ± std. dev. of 7 runs, 10,000 loops each)\n"
     ]
    }
   ],
   "source": [
    "random_numbers = [random.random() for _ in range(50)]\n",
    "m50 = %timeit -o mergesort(random_numbers)\n",
    "m50 = m50.best\n"
   ]
  },
  {
   "cell_type": "code",
   "execution_count": 110,
   "id": "933caf01",
   "metadata": {},
   "outputs": [
    {
     "name": "stdout",
     "output_type": "stream",
     "text": [
      "2.9 ms ± 64.5 μs per loop (mean ± std. dev. of 7 runs, 100 loops each)\n"
     ]
    }
   ],
   "source": [
    "random_numbers = [random.random() for _ in range(2000)]\n",
    "m2000 = %timeit -o mergesort(random_numbers)\n",
    "m2000 = m2000.best"
   ]
  },
  {
   "cell_type": "code",
   "execution_count": 111,
   "id": "759e5df1",
   "metadata": {},
   "outputs": [
    {
     "data": {
      "text/plain": [
       "[<matplotlib.lines.Line2D at 0x23d55ccef30>]"
      ]
     },
     "execution_count": 111,
     "metadata": {},
     "output_type": "execute_result"
    },
    {
     "data": {
      "image/png": "[encoded data removed]",
      "text/plain": [
       "<Figure size 640x480 with 1 Axes>"
      ]
     },
     "metadata": {},
     "output_type": "display_data"
    }
   ],
   "source": [
    "merge_t=[m50, m500, m2000, m5000]\n",
    "merge_n=[50,500,2000,5000]  \n",
    "\n",
    "plt.plot(bubble_n, merge_t, label = \"bubble\")\n",
    "plt.plot(merge_n, bubble_t, label = \"merge\")"
   ]
  }
 ],
 "metadata": {
  "kernelspec": {
   "display_name": "DSE5002",
   "language": "python",
   "name": "python3"
  },
  "language_info": {
   "codemirror_mode": {
    "name": "ipython",
    "version": 3
   },
   "file_extension": ".py",
   "mimetype": "text/x-python",
   "name": "python",
   "nbconvert_exporter": "python",
   "pygments_lexer": "ipython3",
   "version": "3.12.9"
  }
 },
 "nbformat": 4,
 "nbformat_minor": 5
}
