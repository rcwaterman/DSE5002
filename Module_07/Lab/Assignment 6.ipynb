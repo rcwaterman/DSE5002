{
 "cells": [
  {
   "cell_type": "markdown",
   "id": "868f20a6",
   "metadata": {},
   "source": [
    "# Assignment 6\n",
    "### Ryan Waterman\n",
    "### 4/30/25"
   ]
  },
  {
   "cell_type": "markdown",
   "id": "6b3cc38d",
   "metadata": {},
   "source": [
    "## Question 1\n",
    "1) import the random library. \n",
    "\n",
    "2) Use `random.seed(10)` to initialize a pseudorandom number generator. \n",
    "\n",
    "3) Create a list of 50 random integers from 0 to 15. Call this list `int_list`.\n",
    "\n",
    "4) Print the 10th and 30th elements of the list. \n",
    "\n",
    "You will need to use list comprehension to do this. The syntax for list comprehension is: <new_list> = `[<expression> for <item> in <iterable>]`. For this question your expression will be a randint generator from the random library and your iterable will be `range()`. Researh the documentation on how to use both functions. "
   ]
  },
  {
   "cell_type": "code",
   "execution_count": 5,
   "id": "7abe6a13",
   "metadata": {},
   "outputs": [
    {
     "name": "stdout",
     "output_type": "stream",
     "text": [
      "1 7\n"
     ]
    }
   ],
   "source": [
    "import random\n",
    "\n",
    "random.seed(10)\n",
    "\n",
    "int_list = [random.randint(0,15) for i in range(50)]\n",
    "\n",
    "print(int_list[9], int_list[29])"
   ]
  },
  {
   "cell_type": "markdown",
   "id": "48d4d289",
   "metadata": {},
   "source": [
    "## Question 2\n",
    "1) import the string library.\n",
    "\n",
    "2) Create the string `az_upper` using `string.ascii_uppercase`. This is a single string of uppercase letters\n",
    "\n",
    "3) Create a list of each individual letter from the string. To do this you will need to iterate over the string and append each letter to the an empty list. Call this list `az_list`. \n",
    "\n",
    "4) Print the list.\n",
    "\n",
    "You will need to use a for-loop for this. The syntax for this for-loop should be: \n",
    "\n",
    "`for i in string>:\n",
    "   <list operation>\n",
    "`"
   ]
  },
  {
   "cell_type": "code",
   "execution_count": 11,
   "id": "e259b56f",
   "metadata": {},
   "outputs": [
    {
     "name": "stdout",
     "output_type": "stream",
     "text": [
      "['A', 'B', 'C', 'D', 'E', 'F', 'G', 'H', 'I', 'J', 'K', 'L', 'M', 'N', 'O', 'P', 'Q', 'R', 'S', 'T', 'U', 'V', 'W', 'X', 'Y', 'Z']\n",
      "['A', 'B', 'C', 'D', 'E', 'F', 'G', 'H', 'I', 'J', 'K', 'L', 'M', 'N', 'O', 'P', 'Q', 'R', 'S', 'T', 'U', 'V', 'W', 'X', 'Y', 'Z']\n"
     ]
    }
   ],
   "source": [
    "import string\n",
    "\n",
    "# First, doing this the way the question asks\n",
    "az_upper = string.ascii_uppercase\n",
    "\n",
    "az_list = []\n",
    "for i in az_upper:\n",
    "    az_list.append(i)\n",
    "    \n",
    "print(az_list)\n",
    "\n",
    "# I prefer to do this operation with list comprehension, though\n",
    "az_upper = [letter for letter in string.ascii_uppercase]\n",
    "\n",
    "print(az_upper)"
   ]
  },
  {
   "cell_type": "markdown",
   "id": "5b775542",
   "metadata": {},
   "source": [
    "## Question 3\n",
    "1) Create a set from 1 to 5. Call this `set_1`.\n",
    "\n",
    "2) Create a set from int_list. Call this `set_2`.\n",
    "\n",
    "3) Create a set by finding the `symmetric_difference()` of `set_1` and `set_2`. Call this `set_3`.\n",
    "\n",
    "4) What is the length of all three sets?\n",
    "\n"
   ]
  },
  {
   "cell_type": "code",
   "execution_count": 7,
   "id": "4300df51",
   "metadata": {},
   "outputs": [
    {
     "name": "stdout",
     "output_type": "stream",
     "text": [
      "{1, 2, 3, 4, 5} {0, 1, 2, 4, 5, 6, 7, 8, 9, 10, 11, 12, 13, 14, 15} {0, 3, 6, 7, 8, 9, 10, 11, 12, 13, 14, 15}\n",
      "5 15 12\n"
     ]
    }
   ],
   "source": [
    "set_1 = set(range(1, 6))\n",
    "set_2 = set(int_list)\n",
    "set_3 = set.symmetric_difference(set_1, set_2)\n",
    "\n",
    "print(set_1, set_2, set_3)\n",
    "print(len(set_1), len(set_2), len(set_3))"
   ]
  },
  {
   "cell_type": "markdown",
   "id": "7cd5e698",
   "metadata": {},
   "source": [
    "## Question 4\n",
    "1) Import default dict and set the default value to 'Not Present'. Call this dict_1.\n",
    "\n",
    "2) Add `int_list`, `set_2`, and `set_3` to `dict_1` using the object names as the key names. \n",
    "\n",
    "3) Create a new dictionary, `dict_2`, using curly bracket notation with `set_1` and `az_list` as the keys and values. \n",
    "\n",
    "4) Invoke the default value of `dict_1` by trying to access the key `az_list`. Create a new set named `set_4` from the value of `dict_1['az_list']`. What is the lenght of the difference between `dict_2['az_list']` and `set_4'?\n",
    "\n",
    "5) Update `dict_2` with `dict_1`. Print the value of the key `az_list` from `dict_2`. What happened?\n",
    "\n",
    "\n",
    "\n",
    "\n"
   ]
  },
  {
   "cell_type": "code",
   "execution_count": 16,
   "id": "6c85d4be",
   "metadata": {},
   "outputs": [],
   "source": [
    "from collections import defaultdict\n",
    "\n",
    "dict_1 = defaultdict(lambda: 'Not Present')\n",
    "\n",
    "dict_1[\"int_list\"] = int_list\n",
    "dict_1[\"set_2\"] = set_2\n",
    "dict_1[\"set_3\"] = set_3\n"
   ]
  },
  {
   "cell_type": "code",
   "execution_count": 17,
   "id": "5e4fca07",
   "metadata": {},
   "outputs": [],
   "source": [
    "dict_2 = {\n",
    "    \"set_1\":set_1,\n",
    "    \"az_list\": az_list\n",
    "    }"
   ]
  },
  {
   "cell_type": "code",
   "execution_count": 19,
   "id": "1b2d67eb",
   "metadata": {},
   "outputs": [
    {
     "data": {
      "text/plain": [
       "'Not Present'"
      ]
     },
     "execution_count": 19,
     "metadata": {},
     "output_type": "execute_result"
    }
   ],
   "source": [
    "dict_1['az_list']"
   ]
  },
  {
   "cell_type": "code",
   "execution_count": 27,
   "id": "cbfed78d",
   "metadata": {},
   "outputs": [
    {
     "name": "stdout",
     "output_type": "stream",
     "text": [
      "{'P', 'n', 'r', ' ', 't', 'e', 'N', 'o', 's'}\n"
     ]
    }
   ],
   "source": [
    "set_4 = set(dict_1['az_list'])\n",
    "print(set_4)"
   ]
  },
  {
   "cell_type": "code",
   "execution_count": 29,
   "id": "d74c5e0d",
   "metadata": {},
   "outputs": [],
   "source": [
    "set_5 = set(dict_2['az_list'])"
   ]
  },
  {
   "cell_type": "code",
   "execution_count": 32,
   "id": "daeaec34",
   "metadata": {},
   "outputs": [
    {
     "name": "stdout",
     "output_type": "stream",
     "text": [
      "24\n"
     ]
    }
   ],
   "source": [
    "print(len(set_5 - set_4))"
   ]
  },
  {
   "cell_type": "code",
   "execution_count": 33,
   "id": "8d09e861",
   "metadata": {},
   "outputs": [],
   "source": [
    "dict_2.update(dict_1)"
   ]
  },
  {
   "cell_type": "code",
   "execution_count": 34,
   "id": "d2808f0f",
   "metadata": {},
   "outputs": [
    {
     "data": {
      "text/plain": [
       "'Not Present'"
      ]
     },
     "execution_count": 34,
     "metadata": {},
     "output_type": "execute_result"
    }
   ],
   "source": [
    "dict_2['az_list']"
   ]
  },
  {
   "cell_type": "markdown",
   "id": "31a6cd80",
   "metadata": {},
   "source": [
    "The value of dict_2's az_list key is now overwritten with the value from dict_1"
   ]
  },
  {
   "cell_type": "markdown",
   "id": "f3a88e80-5b04-49ee-9c8e-c26d7501b12b",
   "metadata": {},
   "source": [
    "## Question 5\n",
    "A palindrome is a word, phrase, or sequence that is the same spelled forward as it is backwards.\n",
    "Write a function using a for-loop to determine if a string is a palindrome. Your function should only have one argument. "
   ]
  },
  {
   "cell_type": "code",
   "execution_count": 41,
   "id": "a84712bc",
   "metadata": {},
   "outputs": [],
   "source": [
    "def is_palindrome(word):\n",
    "    for i in range(len(word)):\n",
    "        if i+1>len(word)/2:\n",
    "            return True\n",
    "        if word[i] != word[-(i+1)]:\n",
    "            return False\n",
    "\n",
    "def is_palindrome_no_loop(word):\n",
    "    return True if word==''.join(reversed(word)) else False"
   ]
  },
  {
   "cell_type": "code",
   "execution_count": 42,
   "id": "7f563ddf",
   "metadata": {},
   "outputs": [
    {
     "name": "stdout",
     "output_type": "stream",
     "text": [
      "True True\n",
      "False False\n",
      "True True\n",
      "False False\n",
      "True True\n",
      "True True\n",
      "False False\n",
      "True True\n",
      "False False\n",
      "True True\n",
      "False False\n",
      "True True\n",
      "False False\n",
      "True True\n",
      "False False\n",
      "True True\n",
      "False False\n",
      "True True\n",
      "False False\n",
      "True True\n",
      "False False\n",
      "True True\n",
      "False False\n",
      "True True\n",
      "False False\n"
     ]
    }
   ],
   "source": [
    "word_list = [    #Courtesy of ChatGPT\n",
    "    \"racecar\",   # Palindrome\n",
    "    \"table\",     # Non-palindrome\n",
    "    \"rotor\",     # Palindrome\n",
    "    \"lamp\",      # Non-palindrome\n",
    "    \"repaper\",   # Palindrome\n",
    "    \"level\",     # Palindrome\n",
    "    \"mirror\",    # Non-palindrome\n",
    "    \"kayak\",     # Palindrome\n",
    "    \"river\",     # Non-palindrome\n",
    "    \"civic\",     # Palindrome\n",
    "    \"phone\",     # Non-palindrome\n",
    "    \"rotator\",   # Palindrome\n",
    "    \"paper\",     # Non-palindrome\n",
    "    \"stats\",     # Palindrome\n",
    "    \"chair\",     # Non-palindrome\n",
    "    \"madam\",     # Palindrome\n",
    "    \"camera\",    # Non-palindrome\n",
    "    \"refer\",     # Palindrome\n",
    "    \"gadget\",    # Non-palindrome\n",
    "    \"noon\",      # Palindrome\n",
    "    \"window\",    # Non-palindrome\n",
    "    \"mom\",       # Palindrome\n",
    "    \"textbook\",  # Non-palindrome\n",
    "    \"pop\",       # Palindrome\n",
    "    \"random\"     # Non-palindrome\n",
    "]\n",
    "\n",
    "for word in word_list:\n",
    "    print(is_palindrome(word), is_palindrome_no_loop(word))"
   ]
  },
  {
   "cell_type": "markdown",
   "id": "c1fcde8d-7830-4159-a82d-67d68bed6372",
   "metadata": {},
   "source": [
    "## Question 6\n",
    "\n",
    "Two Sum - Write a function named two_sum() Given a vector of integers nums and an integer target, return indices of the two numbers such that they add up to target. You may assume that each input would have exactly one solution, and you may not use the same element twice. You can return the answer in any order.Use defaultdict and hash maps/tables to complete this problem.\n",
    "\n",
    "Example 1: Input: nums = [2,7,11,15], target = 9 Output: [0,1] Explanation: Because nums[0] + nums[1] == 9, we return [0, 1].\n",
    "\n",
    "Example 2: Input: nums = [3,2,4], target = 6 Output: [1,2]\n",
    "\n",
    "Example 3: Input: nums = [3,3], target = 6 Output: [0,1]\n",
    "\n",
    "Constraints: 2 <= nums.length <= 104 –109 <= nums[i] <= 109 –109 <= target <= 109 Only one valid answer exists."
   ]
  },
  {
   "cell_type": "code",
   "execution_count": 80,
   "id": "ad9718b8-e2d1-4509-a650-ed9bc5136be0",
   "metadata": {},
   "outputs": [],
   "source": [
    "\"\"\"\n",
    "I was actually able to come up with this on my own without referencing the answer... it took me about a minute to get the basic logic done, \n",
    "then thirty minutes to debug that I was checking for 'if compliment in nums' instead of 'if number in nums' :(\n",
    "\"\"\"\n",
    "\n",
    "def two_sum(vect, target):\n",
    "    nums = {}\n",
    "    for i,number in enumerate(vect):\n",
    "        compliment = target-number\n",
    "        if number in nums:\n",
    "            return [nums[number], i]\n",
    "        else:\n",
    "            nums[compliment]=i\n",
    "    return None"
   ]
  },
  {
   "cell_type": "code",
   "execution_count": 81,
   "id": "b06bcc97",
   "metadata": {},
   "outputs": [
    {
     "name": "stdout",
     "output_type": "stream",
     "text": [
      "[0, 1]\n"
     ]
    }
   ],
   "source": [
    "list_1 = [2,7,11,15]\n",
    "target_1 = 9\n",
    "\n",
    "print(two_sum(list_1, target_1))"
   ]
  },
  {
   "cell_type": "code",
   "execution_count": 82,
   "id": "a460f511",
   "metadata": {},
   "outputs": [
    {
     "name": "stdout",
     "output_type": "stream",
     "text": [
      "[1, 2]\n"
     ]
    }
   ],
   "source": [
    "list_2 = [3,2,4]\n",
    "target_2 = 6\n",
    "\n",
    "print(two_sum(list_2, target_2))"
   ]
  },
  {
   "cell_type": "code",
   "execution_count": 88,
   "id": "5cf86312",
   "metadata": {},
   "outputs": [
    {
     "name": "stdout",
     "output_type": "stream",
     "text": [
      "[0, 1]\n"
     ]
    }
   ],
   "source": [
    "list_3 = [3,3]\n",
    "target_3 = 6\n",
    "\n",
    "print(two_sum(list_3, target_3))"
   ]
  },
  {
   "cell_type": "markdown",
   "id": "023a9e51",
   "metadata": {},
   "source": [
    "The following is code and test cases courtesy of ChatGPT. I had to tweak a two of the test cases (97,99) to remove multiple solutions, but other than that, it worked well!"
   ]
  },
  {
   "cell_type": "code",
   "execution_count": 90,
   "id": "2e92a826",
   "metadata": {},
   "outputs": [
    {
     "name": "stdout",
     "output_type": "stream",
     "text": [
      "✅ all test cases pass!\n"
     ]
    }
   ],
   "source": [
    "import json\n",
    "\n",
    "with open(\"data/two_sum_test_cases.json\") as f:\n",
    "    cases = json.load(f)\n",
    "\n",
    "for k, case in enumerate(cases, 1):\n",
    "    got = two_sum(case[\"nums\"], case[\"target\"])\n",
    "    assert got == case[\"expected\"], f\"❌ case {k} failed: expected {case['expected']} got {got}, target {case['target']}\"\n",
    "print(\"✅ all test cases pass!\")"
   ]
  }
 ],
 "metadata": {
  "kernelspec": {
   "display_name": "DSE5002",
   "language": "python",
   "name": "python3"
  },
  "language_info": {
   "codemirror_mode": {
    "name": "ipython",
    "version": 3
   },
   "file_extension": ".py",
   "mimetype": "text/x-python",
   "name": "python",
   "nbconvert_exporter": "python",
   "pygments_lexer": "ipython3",
   "version": "3.12.9"
  }
 },
 "nbformat": 4,
 "nbformat_minor": 5
}
