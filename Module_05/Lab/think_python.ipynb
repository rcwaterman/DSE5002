{
 "cells": [
  {
   "cell_type": "markdown",
   "id": "08b45789",
   "metadata": {},
   "source": [
    "# Exercise 10.11.2\n",
    "\n",
    "Dictionaries have a method called get that takes a key and a default value. If the key appears in the dictionary, get returns the corresponding value; otherwise it returns the default value. For example, here’s a dictionary that maps from the letters in a string to the number of times they appear.\n",
    "\n",
    "\n",
    "```python\n",
    "def value_counts(string):\n",
    "    counter = {}\n",
    "    for letter in string:\n",
    "        if letter not in counter:\n",
    "            counter[letter] = 1\n",
    "        else:\n",
    "            counter[letter] += 1\n",
    "    return counter\n",
    "```\n",
    "\n",
    "```python\n",
    "counter = value_counts('brontosaurus')\n",
    "```\n",
    "\n",
    "If we look up a letter that appears in the word, get returns the number of times it appears.\n",
    "\n",
    "```python\n",
    "counter.get('b', 0)\n",
    "```\n",
    "\n",
    "```\n",
    "1\n",
    "```\n",
    "\n",
    "If we look up a letter that doesn’t appear, we get the default value, 0.\n",
    "\n",
    "```python\n",
    "counter.get('c', 0)\n",
    "```\n",
    "\n",
    "```\n",
    "0\n",
    "```\n",
    "\n",
    "Use get to write a more concise version of value_counts. You should be able to eliminate the if statement."
   ]
  },
  {
   "cell_type": "code",
   "execution_count": 17,
   "id": "f771f235",
   "metadata": {},
   "outputs": [
    {
     "name": "stdout",
     "output_type": "stream",
     "text": [
      "Letter: a\tCount: 1\n",
      "Letter: b\tCount: 1\n",
      "Letter: n\tCount: 1\n",
      "Letter: o\tCount: 2\n",
      "Letter: r\tCount: 2\n",
      "Letter: s\tCount: 2\n",
      "Letter: t\tCount: 1\n",
      "Letter: u\tCount: 2\n"
     ]
    }
   ],
   "source": [
    "#Updated function to use get\n",
    "def value_counts(string):\n",
    "    counter = {}\n",
    "    #loop through the string\n",
    "    for letter in string:\n",
    "        #Use the get method to return the current count in the counter dict\n",
    "        current_count = counter.get(letter, 0)\n",
    "        #add 1 to the current count for the letter\n",
    "        counter[letter] = current_count+1\n",
    "    #return the dictionary\n",
    "    return counter\n",
    "\n",
    "#Set up the test string and get the test result\n",
    "test_string = 'brontosaurus'\n",
    "test = value_counts(test_string)\n",
    "\n",
    "#Create a list of the unique values in the test string\n",
    "unique_letters = sorted(list(set(test_string)))\n",
    "\n",
    "#Loop through the unique letters and print the letter and it's count\n",
    "for letter in unique_letters:\n",
    "    print(f'Letter: {letter}\\tCount: {test.get(letter,0)}')"
   ]
  },
  {
   "cell_type": "markdown",
   "id": "c4a4fd2a",
   "metadata": {},
   "source": [
    "# Exercise 10.11.4\n",
    "\n",
    "Write function called find_repeats that takes a dictionary that maps from each key to a counter, like the result from value_counts. It should loop through the dictionary and return a list of keys that have counts greater than 1. You can use the following outline to get started.\n",
    "\n",
    "```python\n",
    "def find_repeats(counter):\n",
    "\n",
    "    \"\"\"Makes a list of keys with values greater than 1. \n",
    "\n",
    "    counter: dictionary that maps from keys to counts\n",
    "\n",
    "    returns: list of keys\n",
    "\n",
    "    \"\"\"\n",
    "\n",
    "    return []\n",
    "```"
   ]
  },
  {
   "cell_type": "code",
   "execution_count": null,
   "id": "6999a861",
   "metadata": {},
   "outputs": [
    {
     "data": {
      "text/plain": [
       "['r', 'o', 's', 'u']"
      ]
     },
     "execution_count": 18,
     "metadata": {},
     "output_type": "execute_result"
    }
   ],
   "source": [
    "def find_repeats(counter):\n",
    "    #Create an empty list\n",
    "    key_list = []\n",
    "\n",
    "    #loop through the keys and values of each dictionary item\n",
    "    for k, v in counter.items():\n",
    "\n",
    "        #Append the key to the list if the value is greater than 1\n",
    "        if v>1:\n",
    "            key_list.append(k)\n",
    "\n",
    "    #return the list\n",
    "    return key_list\n",
    "\n",
    "find_repeats(test)"
   ]
  }
 ],
 "metadata": {
  "kernelspec": {
   "display_name": "DSE5002",
   "language": "python",
   "name": "python3"
  },
  "language_info": {
   "codemirror_mode": {
    "name": "ipython",
    "version": 3
   },
   "file_extension": ".py",
   "mimetype": "text/x-python",
   "name": "python",
   "nbconvert_exporter": "python",
   "pygments_lexer": "ipython3",
   "version": "3.12.3"
  }
 },
 "nbformat": 4,
 "nbformat_minor": 5
}
