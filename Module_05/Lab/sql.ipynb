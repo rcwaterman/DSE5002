{
 "cells": [
  {
   "cell_type": "markdown",
   "id": "cd2473bf",
   "metadata": {},
   "source": [
    "# TODO: Exercise 6-2, 6-3, 8-1, 8-2, 10-1"
   ]
  },
  {
   "cell_type": "markdown",
   "id": "e315ff83",
   "metadata": {},
   "source": [
    "# Exercise 6-2\n",
    "\n",
    "Write a compound query that finds the first and last names of all individual customers along with the first and last names of all employees."
   ]
  },
  {
   "cell_type": "code",
   "execution_count": null,
   "id": "0de798f4",
   "metadata": {
    "vscode": {
     "languageId": "plaintext"
    }
   },
   "outputs": [],
   "source": []
  }
 ],
 "metadata": {
  "language_info": {
   "name": "python"
  }
 },
 "nbformat": 4,
 "nbformat_minor": 5
}
