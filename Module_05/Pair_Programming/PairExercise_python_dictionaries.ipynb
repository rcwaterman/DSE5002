{
 "cells": [
  {
   "cell_type": "markdown",
   "id": "cb77b777-a182-46a0-8c1f-b01d27ef1411",
   "metadata": {},
   "source": [
    "# Pair exercise, Introduction to Dictionaries\n",
    "\n",
    "HD Sheets,  July 2024\n",
    "updated 11/13/2024\n",
    "\n",
    "For DSE5002\n",
    "\n",
    "Dictionaries are Python data storage structures that use a key-value pair storage system,  this is a hashed data storage system.  \n",
    "\n",
    "you look up values by providing the key\n",
    "\n",
    "This approach is common in NOSQL database systems.\n",
    "\n",
    "The lookup is fast, since dictionaries hash the key to find the value,  they don't have to sort through\n",
    "the dictionary to find the value.\n",
    "\n",
    "The key can be an integer or a string\n",
    "\n",
    "If you need to do a lot of look-up or searching based on a string, use a dictionary, not a list, to run faster.\n",
    "\n",
    "Dictionaries are declared using curly brackets\n",
    "\n",
    "When the system looks up a value in a dictionary,  it computes a hash (complicated function) of the key and that value indicates where the data is stored.   Hashing is quick relative to searching for an value in a list or a column of a data frame.\n",
    "\n",
    "Think Python\n",
    "\n",
    "https://allendowney.github.io/ThinkPython/chap10.html"
   ]
  },
  {
   "cell_type": "code",
   "execution_count": 23,
   "id": "a73578ae-4045-4cbc-8b61-c9fe3459fe67",
   "metadata": {},
   "outputs": [],
   "source": [
    "# creating a dictionary\n",
    "\n",
    "dictionary_emp1={\"first\":\"Bob\",\"middle\":\"J.\",\"last\":\"Smith\"}"
   ]
  },
  {
   "cell_type": "code",
   "execution_count": 24,
   "id": "9e41f672-0597-4986-9bc0-da94147d5e29",
   "metadata": {},
   "outputs": [
    {
     "data": {
      "text/plain": [
       "'Smith'"
      ]
     },
     "execution_count": 24,
     "metadata": {},
     "output_type": "execute_result"
    }
   ],
   "source": [
    "#retrieve values using the key\n",
    "\n",
    "dictionary_emp1[\"last\"]"
   ]
  },
  {
   "cell_type": "code",
   "execution_count": 25,
   "id": "6b3fb4bd-9e2f-4f90-bff0-363e1468ac0d",
   "metadata": {},
   "outputs": [
    {
     "data": {
      "text/plain": [
       "['__class__',\n",
       " '__class_getitem__',\n",
       " '__contains__',\n",
       " '__delattr__',\n",
       " '__delitem__',\n",
       " '__dir__',\n",
       " '__doc__',\n",
       " '__eq__',\n",
       " '__format__',\n",
       " '__ge__',\n",
       " '__getattribute__',\n",
       " '__getitem__',\n",
       " '__getstate__',\n",
       " '__gt__',\n",
       " '__hash__',\n",
       " '__init__',\n",
       " '__init_subclass__',\n",
       " '__ior__',\n",
       " '__iter__',\n",
       " '__le__',\n",
       " '__len__',\n",
       " '__lt__',\n",
       " '__ne__',\n",
       " '__new__',\n",
       " '__or__',\n",
       " '__reduce__',\n",
       " '__reduce_ex__',\n",
       " '__repr__',\n",
       " '__reversed__',\n",
       " '__ror__',\n",
       " '__setattr__',\n",
       " '__setitem__',\n",
       " '__sizeof__',\n",
       " '__str__',\n",
       " '__subclasshook__',\n",
       " 'clear',\n",
       " 'copy',\n",
       " 'fromkeys',\n",
       " 'get',\n",
       " 'items',\n",
       " 'keys',\n",
       " 'pop',\n",
       " 'popitem',\n",
       " 'setdefault',\n",
       " 'update',\n",
       " 'values']"
      ]
     },
     "execution_count": 25,
     "metadata": {},
     "output_type": "execute_result"
    }
   ],
   "source": [
    "# what do we have for Member functions\n",
    "\n",
    "dir(dictionary_emp1)"
   ]
  },
  {
   "cell_type": "code",
   "execution_count": 26,
   "id": "9a69a641-dd8b-4e1b-a286-7b6becba6885",
   "metadata": {},
   "outputs": [
    {
     "data": {
      "text/plain": [
       "dict_keys(['first', 'middle', 'last'])"
      ]
     },
     "execution_count": 26,
     "metadata": {},
     "output_type": "execute_result"
    }
   ],
   "source": [
    "# list of all keys\n",
    "\n",
    "dictionary_emp1.keys()"
   ]
  },
  {
   "cell_type": "code",
   "execution_count": 27,
   "id": "73ab29e7-45d5-4cd5-92d1-2ba4b812ab7d",
   "metadata": {},
   "outputs": [
    {
     "data": {
      "text/plain": [
       "dict_items([('first', 'Bob'), ('middle', 'J.'), ('last', 'Smith')])"
      ]
     },
     "execution_count": 27,
     "metadata": {},
     "output_type": "execute_result"
    }
   ],
   "source": [
    "#getting all the items in a dictionary\n",
    "\n",
    "dictionary_emp1.items()"
   ]
  },
  {
   "cell_type": "code",
   "execution_count": 28,
   "id": "98d243db-0cef-4497-b36e-f2a42709eb38",
   "metadata": {},
   "outputs": [
    {
     "data": {
      "text/plain": [
       "{'first': 'Bob',\n",
       " 'middle': 'J.',\n",
       " 'last': 'Smith',\n",
       " 'street': '156 Broadway',\n",
       " 'town': 'Milwaukee',\n",
       " 'state': 'Wisconson',\n",
       " 'zip': '34098'}"
      ]
     },
     "execution_count": 28,
     "metadata": {},
     "output_type": "execute_result"
    }
   ],
   "source": [
    "#adding one dictionary to another\n",
    "\n",
    "address1={\"street\":\"156 Broadway\",\"town\":\"Milwaukee\",\"state\":\"Wisconson\",\"zip\":\"34098\"}\n",
    "\n",
    "#add the address1 dictionary to dictionary_emp1\n",
    "\n",
    "dictionary_emp1.update(address1)\n",
    "\n",
    "dictionary_emp1"
   ]
  },
  {
   "cell_type": "code",
   "execution_count": 29,
   "id": "561a74c0-620f-4473-b8c4-50fdce2da9cc",
   "metadata": {
    "scrolled": true
   },
   "outputs": [
    {
     "name": "stdout",
     "output_type": "stream",
     "text": [
      "34098\n",
      "{'first': 'Bob', 'middle': 'J.', 'last': 'Smith', 'street': '156 Broadway', 'town': 'Milwaukee', 'state': 'Wisconson'}\n"
     ]
    }
   ],
   "source": [
    "a=dictionary_emp1.pop('zip')\n",
    "print(a)\n",
    "print(dictionary_emp1)"
   ]
  },
  {
   "cell_type": "markdown",
   "id": "6e9129c7-627d-4334-a809-ca87c087340c",
   "metadata": {},
   "source": [
    "# The In operator and dictionaries\n",
    "\n",
    "This will tell you if a particular string or integer is a key to a dictionary\n",
    "\n",
    "\n"
   ]
  },
  {
   "cell_type": "code",
   "execution_count": 30,
   "id": "63cfd7e4-ba30-437a-9d33-97fc5592c4ab",
   "metadata": {},
   "outputs": [
    {
     "data": {
      "text/plain": [
       "True"
      ]
     },
     "execution_count": 30,
     "metadata": {},
     "output_type": "execute_result"
    }
   ],
   "source": [
    "'first' in dictionary_emp1"
   ]
  },
  {
   "cell_type": "code",
   "execution_count": 31,
   "id": "1f368255-9fcf-4650-8c31-648cbe1f605a",
   "metadata": {},
   "outputs": [
    {
     "data": {
      "text/plain": [
       "False"
      ]
     },
     "execution_count": 31,
     "metadata": {},
     "output_type": "execute_result"
    }
   ],
   "source": [
    "'biscuit' in dictionary_emp1"
   ]
  },
  {
   "cell_type": "markdown",
   "id": "a75676ff-8fd2-4f51-9395-65b7897ba6f3",
   "metadata": {},
   "source": [
    "## Mutability\n",
    "\n",
    "We can change a dictionary once created"
   ]
  },
  {
   "cell_type": "code",
   "execution_count": 32,
   "id": "3d86a670-3642-413d-8c84-dd2430f19a13",
   "metadata": {},
   "outputs": [
    {
     "data": {
      "text/plain": [
       "{'first': 'Robert',\n",
       " 'middle': 'J.',\n",
       " 'last': 'Smith',\n",
       " 'street': '156 Broadway',\n",
       " 'town': 'Milwaukee',\n",
       " 'state': 'Wisconson'}"
      ]
     },
     "execution_count": 32,
     "metadata": {},
     "output_type": "execute_result"
    }
   ],
   "source": [
    "dictionary_emp1['first']=\"Robert\"\n",
    "dictionary_emp1"
   ]
  },
  {
   "cell_type": "markdown",
   "id": "a0b88f75-0d5c-4f2a-aaf0-a708015e774f",
   "metadata": {},
   "source": [
    "## Dictionaries are iterable but they are not ordered\n",
    "\n",
    "The ordering can be random"
   ]
  },
  {
   "cell_type": "code",
   "execution_count": 33,
   "id": "7e0c76fe-3748-4e27-92ee-719e2bcb0357",
   "metadata": {},
   "outputs": [
    {
     "name": "stdout",
     "output_type": "stream",
     "text": [
      "first\n",
      "middle\n",
      "last\n",
      "street\n",
      "town\n",
      "state\n"
     ]
    }
   ],
   "source": [
    "#interating on key\n",
    "\n",
    "\n",
    "for key in dictionary_emp1:\n",
    "    print(key)"
   ]
  },
  {
   "cell_type": "code",
   "execution_count": 34,
   "id": "ebb95440-fce3-459d-937f-4feefbf2d721",
   "metadata": {},
   "outputs": [
    {
     "name": "stdout",
     "output_type": "stream",
     "text": [
      "first\n",
      "middle\n",
      "last\n",
      "street\n",
      "town\n",
      "state\n"
     ]
    }
   ],
   "source": [
    "#iteratign on the values \n",
    "\n",
    "for value in dictionary_emp1:\n",
    "    print(value)"
   ]
  },
  {
   "cell_type": "code",
   "execution_count": 35,
   "id": "c2c366fe-591f-45a5-b7e1-b31ba75665cf",
   "metadata": {},
   "outputs": [
    {
     "name": "stdout",
     "output_type": "stream",
     "text": [
      "first : Robert\n",
      "middle : J.\n",
      "last : Smith\n",
      "street : 156 Broadway\n",
      "town : Milwaukee\n",
      "state : Wisconson\n"
     ]
    }
   ],
   "source": [
    "#iterating on both at once\n",
    "\n",
    "for key,value in dictionary_emp1.items():\n",
    "    print(key+\" : \"+value)"
   ]
  },
  {
   "cell_type": "code",
   "execution_count": 36,
   "id": "a4b8f7b7-7cd2-4f04-b981-77ed29ad06ec",
   "metadata": {},
   "outputs": [
    {
     "data": {
      "text/plain": [
       "['first-Robert',\n",
       " 'middle-J.',\n",
       " 'last-Smith',\n",
       " 'street-156 Broadway',\n",
       " 'town-Milwaukee',\n",
       " 'state-Wisconson']"
      ]
     },
     "execution_count": 36,
     "metadata": {},
     "output_type": "execute_result"
    }
   ],
   "source": [
    "# a comprehension using both key and value\n",
    "\n",
    "a=[key+\"-\"+value for key,value in dictionary_emp1.items()]\n",
    "a"
   ]
  },
  {
   "cell_type": "markdown",
   "id": "3e83fe69-e1c4-40d8-b846-22b597b10825",
   "metadata": {},
   "source": [
    "# *Question/Action*\n",
    "\n",
    "Set up a short dictionary, where each key is an item on your desktop and each value is the color.\n",
    "\n",
    "Put 5 items in your dictionary\n",
    "\n",
    "Use a comprehension to print out the list of items with their colors"
   ]
  },
  {
   "cell_type": "code",
   "execution_count": 37,
   "id": "7740b64e",
   "metadata": {},
   "outputs": [],
   "source": [
    "desktop_dict = {}"
   ]
  },
  {
   "cell_type": "code",
   "execution_count": 38,
   "id": "609b396a",
   "metadata": {},
   "outputs": [],
   "source": [
    "desktop_dict['Chrome']='yellow'\n",
    "desktop_dict['Edge']='blue'\n",
    "desktop_dict['File Explorer']='orange'\n",
    "desktop_dict['pqAdmin4']='white'\n",
    "desktop_dict['Solidworks']='red'"
   ]
  },
  {
   "cell_type": "code",
   "execution_count": 39,
   "id": "da47c9dc",
   "metadata": {},
   "outputs": [
    {
     "data": {
      "text/plain": [
       "['Chrome-yellow',\n",
       " 'Edge-blue',\n",
       " 'File Explorer-orange',\n",
       " 'pqAdmin4-white',\n",
       " 'Solidworks-red']"
      ]
     },
     "execution_count": 39,
     "metadata": {},
     "output_type": "execute_result"
    }
   ],
   "source": [
    "b=[key+\"-\"+value for key,value in desktop_dict.items()]\n",
    "b"
   ]
  },
  {
   "cell_type": "markdown",
   "id": "29a620f3-e043-4ae5-b473-5797cf984e56",
   "metadata": {},
   "source": [
    "# Default Dictionary\n",
    "\n",
    "This is a version of a dictionary that has a default value used when the key is not found"
   ]
  },
  {
   "cell_type": "code",
   "execution_count": 40,
   "id": "f3f866d6-b914-4e86-a295-d3c8a9082aa6",
   "metadata": {},
   "outputs": [
    {
     "name": "stdout",
     "output_type": "stream",
     "text": [
      "1\n",
      "2\n",
      "Not Present\n"
     ]
    }
   ],
   "source": [
    "from collections import defaultdict\n",
    "\n",
    "    \n",
    "# Defining the dict and passing \n",
    "# lambda as default_factory argument\n",
    "d = defaultdict(lambda: \"Not Present\")\n",
    "d[\"a\"] = 1\n",
    "d[\"b\"] = 2\n",
    "\n",
    "print(d[\"a\"])\n",
    "print(d[\"b\"])\n",
    "print(d[\"c\"])"
   ]
  },
  {
   "cell_type": "markdown",
   "id": "57e31958-1f8f-44bb-aae5-92d7d3d710e2",
   "metadata": {},
   "source": [
    "# Dictionaries as collections of counters\n",
    "\n",
    "One classic application of a dictionary is to develop counts of events, such as the number of times a word appears\n",
    "in a document.\n",
    "\n",
    "We work our way through the document, word by word.    If the word is not in the dictionary, we add it with a value of 1,  if it is in the \n",
    "dictionary already we increase the count by 1\n",
    "\n"
   ]
  },
  {
   "cell_type": "code",
   "execution_count": 41,
   "id": "8328d6d9-018b-4a34-a1b5-7f9e670d38c5",
   "metadata": {},
   "outputs": [],
   "source": [
    "filename = 'data/dr_jeckyl-1.txt'"
   ]
  },
  {
   "cell_type": "code",
   "execution_count": 42,
   "id": "989d5d76-65e7-482a-abe6-1810f646cbf3",
   "metadata": {},
   "outputs": [
    {
     "data": {
      "text/plain": [
       "28739"
      ]
     },
     "execution_count": 42,
     "metadata": {},
     "output_type": "execute_result"
    }
   ],
   "source": [
    "# we are going to open the file, and pull in all the words in at once\n",
    "# as reach line is read it, it will be split into individual words\n",
    "\n",
    "word_list = open(filename,encoding=\"utf8\").read().split()\n",
    "len(word_list)"
   ]
  },
  {
   "cell_type": "code",
   "execution_count": 43,
   "id": "9ed2c03b-73b8-456d-8146-8715910462b7",
   "metadata": {},
   "outputs": [],
   "source": [
    "# set up dictionary\n",
    "\n",
    "word_count={}\n",
    "\n",
    "for word in word_list:\n",
    "    target=word.lower()\n",
    "    if(target in word_count):\n",
    "        word_count[target]=word_count[target]+1\n",
    "    else:\n",
    "        word_count[target]=1\n",
    "\n",
    "      \n",
    "\n"
   ]
  },
  {
   "cell_type": "code",
   "execution_count": 44,
   "id": "73c0b1b8-6d0b-4539-ba30-cf5c8f08f5fa",
   "metadata": {},
   "outputs": [
    {
     "data": {
      "text/plain": [
       "53"
      ]
     },
     "execution_count": 44,
     "metadata": {},
     "output_type": "execute_result"
    }
   ],
   "source": [
    "word_count['hyde']"
   ]
  },
  {
   "cell_type": "code",
   "execution_count": 45,
   "id": "486c5bbd-b9c4-450a-9337-b57230fab664",
   "metadata": {},
   "outputs": [
    {
     "data": {
      "text/plain": [
       "13"
      ]
     },
     "execution_count": 45,
     "metadata": {},
     "output_type": "execute_result"
    }
   ],
   "source": [
    "word_count['doctor']"
   ]
  },
  {
   "cell_type": "markdown",
   "id": "3aa021cb-6378-4c4a-9d70-d8b5fdb41502",
   "metadata": {},
   "source": [
    "# Setting up forward and reverse Dictionaries\n",
    "\n",
    "Let's create a dictionary of all the words in the file,  but assign each one a numerical value as we go\n",
    "\n",
    "This first word will be coded as 1 and we'll go from there"
   ]
  },
  {
   "cell_type": "code",
   "execution_count": 46,
   "id": "1cbd82fb-bc43-4fc1-bca8-f36dd2548628",
   "metadata": {},
   "outputs": [
    {
     "data": {
      "text/plain": [
       "6441"
      ]
     },
     "execution_count": 46,
     "metadata": {},
     "output_type": "execute_result"
    }
   ],
   "source": [
    "# create a forward dictionary\n",
    "\n",
    "forward = {}\n",
    "count=0\n",
    "\n",
    "for word in word_list:\n",
    "    target=word.lower()\n",
    "    if  not target in forward:\n",
    "        forward[target]=count\n",
    "        count=count+1\n",
    "\n",
    "len(forward)"
   ]
  },
  {
   "cell_type": "code",
   "execution_count": 47,
   "id": "c0cfb6c2-7890-4cae-ab38-535bc46d9e2c",
   "metadata": {},
   "outputs": [
    {
     "data": {
      "text/plain": [
       "12"
      ]
     },
     "execution_count": 47,
     "metadata": {},
     "output_type": "execute_result"
    }
   ],
   "source": [
    "forward['hyde']"
   ]
  },
  {
   "cell_type": "code",
   "execution_count": 48,
   "id": "f8cf52c8-125f-4b23-ba42-1bbeb8175206",
   "metadata": {},
   "outputs": [
    {
     "data": {
      "text/plain": [
       "136"
      ]
     },
     "execution_count": 48,
     "metadata": {},
     "output_type": "execute_result"
    }
   ],
   "source": [
    "forward['a']"
   ]
  },
  {
   "cell_type": "markdown",
   "id": "423bd4cb-0ea6-49f2-bf28-d44056d81c87",
   "metadata": {},
   "source": [
    "This gives us a numeric code for each word in the document, so we could code the words for input to a neural net\n",
    "for example,  this is a tokenization of the language\n",
    "\n",
    "We will need a reverse dictionary, to go from codes to words\n"
   ]
  },
  {
   "cell_type": "code",
   "execution_count": 49,
   "id": "94918ded-ca8f-4221-b1d0-71314c20b8db",
   "metadata": {},
   "outputs": [],
   "source": [
    "# just do a list comprehension using the forward items and reverse the key:value pairing to create\n",
    "# a dictionary where we can look up the words based on their codes\n",
    "\n",
    "reverse=[ {value:key} for key,value in forward.items()]"
   ]
  },
  {
   "cell_type": "code",
   "execution_count": 50,
   "id": "0303af6f-1e59-4d0e-901c-23b46cecd9d7",
   "metadata": {},
   "outputs": [
    {
     "data": {
      "text/plain": [
       "{12: 'hyde'}"
      ]
     },
     "execution_count": 50,
     "metadata": {},
     "output_type": "execute_result"
    }
   ],
   "source": [
    "reverse[12]\n"
   ]
  },
  {
   "cell_type": "code",
   "execution_count": 51,
   "id": "c7ab42ab-ec0e-4d09-baae-2904051e1873",
   "metadata": {},
   "outputs": [
    {
     "data": {
      "text/plain": [
       "{11: 'mr.'}"
      ]
     },
     "execution_count": 51,
     "metadata": {},
     "output_type": "execute_result"
    }
   ],
   "source": [
    "reverse[11]"
   ]
  },
  {
   "cell_type": "code",
   "execution_count": null,
   "id": "456c1cbf-da91-4e1d-875f-04cb06195e5c",
   "metadata": {},
   "outputs": [],
   "source": []
  }
 ],
 "metadata": {
  "kernelspec": {
   "display_name": "Python [conda env:DSE5002]",
   "language": "python",
   "name": "conda-env-DSE5002-py"
  },
  "language_info": {
   "codemirror_mode": {
    "name": "ipython",
    "version": 3
   },
   "file_extension": ".py",
   "mimetype": "text/x-python",
   "name": "python",
   "nbconvert_exporter": "python",
   "pygments_lexer": "ipython3",
   "version": "3.12.3"
  }
 },
 "nbformat": 4,
 "nbformat_minor": 5
}
