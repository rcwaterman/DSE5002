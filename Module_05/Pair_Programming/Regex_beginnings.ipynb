{
 "cells": [
  {
   "cell_type": "markdown",
   "id": "50a3cffa-919f-4874-8147-fa9d1a3b4560",
   "metadata": {},
   "source": [
    "# Regular expressions\n",
    "\n",
    "This is a formalism, a set of rules on how to search for patterns of letters in text\n",
    "\n",
    "It can be used in find and replace operations, in string splitting,  etc\n",
    "\n",
    "Regular expressions were developed by Stephen Kleene in 1951.    Kleene was a mathematician, and he came up with a systematic approach to \n",
    "searching text that is still in wide use.   This is a domain specific language (in modern terms) that is used within many other systems, including R, Python and SQL.\n",
    "\n",
    "The MS office tools have a more limited approach to text searches,   regex is more powerful, but a bit harder to learn.\n",
    "\n",
    "Many tools for using regex are built into r strings, but the re package is also available"
   ]
  },
  {
   "cell_type": "code",
   "execution_count": 1,
   "id": "a7fae1c0-e8c8-4707-9536-fe1e72204d75",
   "metadata": {},
   "outputs": [],
   "source": [
    "import re\n",
    "import pandas as pd"
   ]
  },
  {
   "cell_type": "markdown",
   "id": "741c10e9-8e07-43ad-b086-22a7d3727d38",
   "metadata": {},
   "source": [
    "## Search\n",
    "\n",
    "The first tool in re we will look at is search\n",
    "\n",
    "This searches a string for a pattern\n",
    "\n",
    "It returns a match object"
   ]
  },
  {
   "cell_type": "code",
   "execution_count": 2,
   "id": "cff03351-bf78-450f-97d2-5c9d4f78ef6d",
   "metadata": {},
   "outputs": [
    {
     "name": "stdout",
     "output_type": "stream",
     "text": [
      "<re.Match object; span=(10, 13), match='cat'>\n",
      "(10, 13)\n",
      "10\n",
      "13\n",
      "cat\n"
     ]
    }
   ],
   "source": [
    "a=\"Hey, that cat just stole my hamburger!\"\n",
    "\n",
    "res1=re.search(\"cat\",a)\n",
    "\n",
    "print(res1)\n",
    "\n",
    "if(res1!=None):\n",
    "    print(res1.span())\n",
    "    print(res1.start())\n",
    "    print(res1.end())\n",
    "    print(res1.group())\n",
    "\n"
   ]
  },
  {
   "cell_type": "code",
   "execution_count": 3,
   "id": "f2259c48-3281-42aa-807b-561120e90fc2",
   "metadata": {},
   "outputs": [
    {
     "name": "stdout",
     "output_type": "stream",
     "text": [
      "None\n",
      "Ah, no, a dog is too loyal to steal your burger!\n"
     ]
    }
   ],
   "source": [
    "res2=re.search(\"dog\",a)\n",
    "\n",
    "print(res2)\n",
    "\n",
    "if(res2==None):\n",
    "    print(\"Ah, no, a dog is too loyal to steal your burger!\")\n"
   ]
  },
  {
   "cell_type": "markdown",
   "id": "7897c319-a599-4c5c-b85a-17f0c4f3fed4",
   "metadata": {},
   "source": [
    "The re.search gives us info on whether or not the pattern was found and if so where it was found"
   ]
  },
  {
   "cell_type": "code",
   "execution_count": 4,
   "id": "9cf68dc7-30c7-4a79-a097-0ccfa01bac3e",
   "metadata": {},
   "outputs": [
    {
     "data": {
      "text/plain": [
       "['spam', 'spam', 'spam', 'spam', 'spam']"
      ]
     },
     "execution_count": 4,
     "metadata": {},
     "output_type": "execute_result"
    }
   ],
   "source": [
    "# findall returns all matches\n",
    "# the pattern \"sp.. \" means the letters sp followed by any two letters,  indicated by the wild card . which stands for\n",
    "# any letter\n",
    "\n",
    "b=\"spam, spam, spam, spam, beautiful spam\"\n",
    "\n",
    "re.findall(\"sp..\", b)"
   ]
  },
  {
   "cell_type": "markdown",
   "id": "beb9899b-ebe3-401b-a0d8-47129b3cecf9",
   "metadata": {},
   "source": [
    "We can make replacements with the re.sub() function\n",
    "\n",
    "we send in a search target (\"sp\") and a replacement (\"cr\")"
   ]
  },
  {
   "cell_type": "code",
   "execution_count": 5,
   "id": "c5da2198-00a1-4085-82b5-aef4e597dafe",
   "metadata": {},
   "outputs": [
    {
     "data": {
      "text/plain": [
       "'dream, dream, dream, dream, beautiful dream'"
      ]
     },
     "execution_count": 5,
     "metadata": {},
     "output_type": "execute_result"
    }
   ],
   "source": [
    "re.sub(\"sp\",\"dre\",b)"
   ]
  },
  {
   "cell_type": "markdown",
   "id": "193a274f-1eaa-46b0-b84d-133b4215afa2",
   "metadata": {},
   "source": [
    "# Splitting a string\n",
    "\n",
    "this refers to splitting a string into pieces based on some delimiter,  like a space, or comma or colon"
   ]
  },
  {
   "cell_type": "code",
   "execution_count": 6,
   "id": "da11799d-7a14-4e41-b50c-58890f73bad4",
   "metadata": {},
   "outputs": [
    {
     "data": {
      "text/plain": [
       "['spam', ' spam', ' spam', ' spam', ' beautiful spam']"
      ]
     },
     "execution_count": 6,
     "metadata": {},
     "output_type": "execute_result"
    }
   ],
   "source": [
    "re.split(\",\",b)"
   ]
  },
  {
   "cell_type": "code",
   "execution_count": 7,
   "id": "03086432-62b7-4583-859f-407340eb495b",
   "metadata": {},
   "outputs": [
    {
     "data": {
      "text/plain": [
       "['Hey,', 'that', 'cat', 'just', 'stole', 'my', 'hamburger!']"
      ]
     },
     "execution_count": 7,
     "metadata": {},
     "output_type": "execute_result"
    }
   ],
   "source": [
    "re.split(\" \",a)"
   ]
  },
  {
   "cell_type": "markdown",
   "id": "c667fa6f-0d70-4802-a205-268e1b3bffaa",
   "metadata": {},
   "source": [
    "# Using regex with pandas\n"
   ]
  },
  {
   "cell_type": "code",
   "execution_count": 8,
   "id": "b284ff77-6148-44f8-96d8-e4ab787f7a0a",
   "metadata": {},
   "outputs": [],
   "source": [
    "spam_df=pd.DataFrame( {\"Menu\" : [\"spam and eggs\",\"spam, spam, spam and eggs\",\"spam, spam, spam\", \"spam,eggs,spam, bacon and spam\"],\"prices\" : [2,2.5,1.75,3.25] })"
   ]
  },
  {
   "cell_type": "code",
   "execution_count": 9,
   "id": "0aabf9be-af0f-4fed-b668-7fdf4e31fee3",
   "metadata": {},
   "outputs": [
    {
     "data": {
      "text/html": [
       "<div>\n",
       "<style scoped>\n",
       "    .dataframe tbody tr th:only-of-type {\n",
       "        vertical-align: middle;\n",
       "    }\n",
       "\n",
       "    .dataframe tbody tr th {\n",
       "        vertical-align: top;\n",
       "    }\n",
       "\n",
       "    .dataframe thead th {\n",
       "        text-align: right;\n",
       "    }\n",
       "</style>\n",
       "<table border=\"1\" class=\"dataframe\">\n",
       "  <thead>\n",
       "    <tr style=\"text-align: right;\">\n",
       "      <th></th>\n",
       "      <th>Menu</th>\n",
       "      <th>prices</th>\n",
       "    </tr>\n",
       "  </thead>\n",
       "  <tbody>\n",
       "    <tr>\n",
       "      <th>0</th>\n",
       "      <td>spam and eggs</td>\n",
       "      <td>2.00</td>\n",
       "    </tr>\n",
       "    <tr>\n",
       "      <th>1</th>\n",
       "      <td>spam, spam, spam and eggs</td>\n",
       "      <td>2.50</td>\n",
       "    </tr>\n",
       "    <tr>\n",
       "      <th>2</th>\n",
       "      <td>spam, spam, spam</td>\n",
       "      <td>1.75</td>\n",
       "    </tr>\n",
       "    <tr>\n",
       "      <th>3</th>\n",
       "      <td>spam,eggs,spam, bacon and spam</td>\n",
       "      <td>3.25</td>\n",
       "    </tr>\n",
       "  </tbody>\n",
       "</table>\n",
       "</div>"
      ],
      "text/plain": [
       "                             Menu  prices\n",
       "0                   spam and eggs    2.00\n",
       "1       spam, spam, spam and eggs    2.50\n",
       "2                spam, spam, spam    1.75\n",
       "3  spam,eggs,spam, bacon and spam    3.25"
      ]
     },
     "execution_count": 9,
     "metadata": {},
     "output_type": "execute_result"
    }
   ],
   "source": [
    "spam_df"
   ]
  },
  {
   "cell_type": "code",
   "execution_count": 10,
   "id": "d947cc77-2566-42f7-940d-27aadee095fd",
   "metadata": {
    "scrolled": true
   },
   "outputs": [
    {
     "data": {
      "text/html": [
       "<div>\n",
       "<style scoped>\n",
       "    .dataframe tbody tr th:only-of-type {\n",
       "        vertical-align: middle;\n",
       "    }\n",
       "\n",
       "    .dataframe tbody tr th {\n",
       "        vertical-align: top;\n",
       "    }\n",
       "\n",
       "    .dataframe thead th {\n",
       "        text-align: right;\n",
       "    }\n",
       "</style>\n",
       "<table border=\"1\" class=\"dataframe\">\n",
       "  <thead>\n",
       "    <tr style=\"text-align: right;\">\n",
       "      <th></th>\n",
       "      <th>Menu</th>\n",
       "      <th>prices</th>\n",
       "    </tr>\n",
       "  </thead>\n",
       "  <tbody>\n",
       "    <tr>\n",
       "      <th>0</th>\n",
       "      <td>spam and eggs</td>\n",
       "      <td>2.00</td>\n",
       "    </tr>\n",
       "    <tr>\n",
       "      <th>1</th>\n",
       "      <td>spam, spam, spam and eggs</td>\n",
       "      <td>2.50</td>\n",
       "    </tr>\n",
       "    <tr>\n",
       "      <th>2</th>\n",
       "      <td>spam, spam, spam</td>\n",
       "      <td>1.75</td>\n",
       "    </tr>\n",
       "    <tr>\n",
       "      <th>3</th>\n",
       "      <td>spam,eggs,spam, bacon and spam</td>\n",
       "      <td>3.25</td>\n",
       "    </tr>\n",
       "  </tbody>\n",
       "</table>\n",
       "</div>"
      ],
      "text/plain": [
       "                             Menu  prices\n",
       "0                   spam and eggs    2.00\n",
       "1       spam, spam, spam and eggs    2.50\n",
       "2                spam, spam, spam    1.75\n",
       "3  spam,eggs,spam, bacon and spam    3.25"
      ]
     },
     "execution_count": 10,
     "metadata": {},
     "output_type": "execute_result"
    }
   ],
   "source": [
    "spam_df.head()"
   ]
  },
  {
   "cell_type": "markdown",
   "id": "d348934d-4f8b-4435-92d6-9e0b260f66ad",
   "metadata": {},
   "source": [
    "# We can now use the str.find operation on the column spam_df.Menu\n",
    "\n",
    "The return value is a list.\n",
    "\n",
    "For each entry in the df,  a negative one means the value was not found,  otherwise the value is the first location the pattern was found at"
   ]
  },
  {
   "cell_type": "code",
   "execution_count": 11,
   "id": "387ae146-395e-4f1e-8ca1-56b3043d587c",
   "metadata": {},
   "outputs": [
    {
     "data": {
      "text/plain": [
       "0     9\n",
       "1    21\n",
       "2    -1\n",
       "3     5\n",
       "Name: Menu, dtype: int64"
      ]
     },
     "execution_count": 11,
     "metadata": {},
     "output_type": "execute_result"
    }
   ],
   "source": [
    "temp=spam_df.Menu.str.find(\"eggs\")\n",
    "temp"
   ]
  },
  {
   "cell_type": "code",
   "execution_count": 12,
   "id": "82dd8d1e-34d4-4e56-800f-2004fe960d95",
   "metadata": {},
   "outputs": [
    {
     "data": {
      "text/plain": [
       "0    0\n",
       "1    0\n",
       "2    0\n",
       "3    0\n",
       "Name: Menu, dtype: int64"
      ]
     },
     "execution_count": 12,
     "metadata": {},
     "output_type": "execute_result"
    }
   ],
   "source": [
    "temp=spam_df.Menu.str.find(\"spam\")\n",
    "temp"
   ]
  },
  {
   "cell_type": "code",
   "execution_count": 13,
   "id": "9508c624-1f1f-4586-a6d7-41538d4063f8",
   "metadata": {},
   "outputs": [
    {
     "data": {
      "text/plain": [
       "0                           waffles and eggs\n",
       "1         waffles, waffles, waffles and eggs\n",
       "2                  waffles, waffles, waffles\n",
       "3    waffles,eggs,waffles, bacon and waffles\n",
       "Name: Menu, dtype: object"
      ]
     },
     "execution_count": 13,
     "metadata": {},
     "output_type": "execute_result"
    }
   ],
   "source": [
    "# the replace function should work normally\n",
    "\n",
    "spam_df.Menu.str.replace(\"spam\",\"waffles\")"
   ]
  },
  {
   "cell_type": "code",
   "execution_count": 14,
   "id": "d8256c3f-002b-45ac-875c-d95981eb332b",
   "metadata": {},
   "outputs": [
    {
     "data": {
      "text/plain": [
       "0                        [spam and eggs]\n",
       "1          [spam,  spam,  spam and eggs]\n",
       "2                   [spam,  spam,  spam]\n",
       "3    [spam, eggs, spam,  bacon and spam]\n",
       "Name: Menu, dtype: object"
      ]
     },
     "execution_count": 14,
     "metadata": {},
     "output_type": "execute_result"
    }
   ],
   "source": [
    "#here is the string split\n",
    "\n",
    "temp=spam_df.Menu.str.split(\",\")\n",
    "temp"
   ]
  },
  {
   "cell_type": "code",
   "execution_count": 15,
   "id": "bd0b691f-9f40-449f-b41d-94215f24a747",
   "metadata": {},
   "outputs": [
    {
     "data": {
      "text/plain": [
       "['spam', ' spam', ' spam and eggs']"
      ]
     },
     "execution_count": 15,
     "metadata": {},
     "output_type": "execute_result"
    }
   ],
   "source": [
    "temp[1]"
   ]
  },
  {
   "cell_type": "code",
   "execution_count": 16,
   "id": "01438fd2-c34a-4adf-ba10-2d0337d04f32",
   "metadata": {},
   "outputs": [
    {
     "data": {
      "text/plain": [
       "' spam and eggs'"
      ]
     },
     "execution_count": 16,
     "metadata": {},
     "output_type": "execute_result"
    }
   ],
   "source": [
    "temp[1][2]"
   ]
  },
  {
   "cell_type": "markdown",
   "id": "6ecbb3ba-b544-4680-8615-0bc82276565a",
   "metadata": {},
   "source": [
    "the str.split on a pandas column returns a list of lists of strings,  so each item returned at locations 0-3 is\n",
    "itself a list of variable length, the contents of which are strings.    Takes a bit of thought\n",
    "\n",
    "we can specify n=1,  meaning only the first item in the split"
   ]
  },
  {
   "cell_type": "code",
   "execution_count": 17,
   "id": "421d9bda-9861-420e-9a64-35ec9163d018",
   "metadata": {},
   "outputs": [
    {
     "data": {
      "text/plain": [
       "0                      [spam and eggs]\n",
       "1         [spam,  spam, spam and eggs]\n",
       "2                  [spam,  spam, spam]\n",
       "3    [spam, eggs,spam, bacon and spam]\n",
       "Name: Menu, dtype: object"
      ]
     },
     "execution_count": 17,
     "metadata": {},
     "output_type": "execute_result"
    }
   ],
   "source": [
    "temp=spam_df.Menu.str.split(\",\",n=1)\n",
    "temp"
   ]
  },
  {
   "cell_type": "code",
   "execution_count": 18,
   "id": "c3d1e18f-0b12-4347-8ca7-52dab7fdd1a3",
   "metadata": {},
   "outputs": [
    {
     "data": {
      "text/plain": [
       "0                       [spam and eggs]\n",
       "1         [spam,  spam,  spam and eggs]\n",
       "2                  [spam,  spam,  spam]\n",
       "3    [spam, eggs, spam, bacon and spam]\n",
       "Name: Menu, dtype: object"
      ]
     },
     "execution_count": 18,
     "metadata": {},
     "output_type": "execute_result"
    }
   ],
   "source": [
    "temp=spam_df.Menu.str.split(\",\",n=2)\n",
    "temp"
   ]
  },
  {
   "cell_type": "code",
   "execution_count": 19,
   "id": "0c24e30a-d800-483f-951f-b88127d169ff",
   "metadata": {},
   "outputs": [
    {
     "ename": "SyntaxError",
     "evalue": "invalid syntax (3789945436.py, line 3)",
     "output_type": "error",
     "traceback": [
      "\u001b[1;36m  Cell \u001b[1;32mIn[19], line 3\u001b[1;36m\u001b[0m\n\u001b[1;33m    . a wild card, meaning any symbol\u001b[0m\n\u001b[1;37m    ^\u001b[0m\n\u001b[1;31mSyntaxError\u001b[0m\u001b[1;31m:\u001b[0m invalid syntax\n"
     ]
    }
   ],
   "source": [
    "# Regex options\n",
    "\n",
    ". a wild card, meaning any symbol\n",
    "* a wild card, meaning any number of symbols\n",
    "\n",
    "(a|b)   the Symbol a or the symbol b\n",
    "\n",
    "a{3}- the value a three times in a row\n",
    "a{2,3} - the value a two or three times in a row\n",
    "a+     - one or more a\n",
    "\n",
    "^a   an a at the start of the string\n",
    "a$   an a at the end of the string\n",
    "\n",
    "[0-9]    numbers in the range 0 to 9\n",
    "[a-z]    letters in the range a to z\n",
    "[A-Z]    letters in the range A to Z\n",
    "\n",
    "\n"
   ]
  },
  {
   "cell_type": "code",
   "execution_count": 20,
   "id": "4c6f1318-c88c-489e-93cb-a6d76f6831f2",
   "metadata": {},
   "outputs": [
    {
     "name": "stdout",
     "output_type": "stream",
     "text": [
      "<re.Match object; span=(51, 54), match='800'>\n"
     ]
    }
   ],
   "source": [
    "test_1=\"I got your number written on the back of my hand 1-800-121-3456\"\n",
    "\n",
    "res_1=re.search(\"[0-9]{3}\",test_1)\n",
    "\n",
    "print(res_1)\n"
   ]
  },
  {
   "cell_type": "code",
   "execution_count": null,
   "id": "35925e21-7232-4317-984a-dac5ee624c8b",
   "metadata": {},
   "outputs": [],
   "source": []
  }
 ],
 "metadata": {
  "kernelspec": {
   "display_name": "Python [conda env:DSE5002]",
   "language": "python",
   "name": "conda-env-DSE5002-py"
  },
  "language_info": {
   "codemirror_mode": {
    "name": "ipython",
    "version": 3
   },
   "file_extension": ".py",
   "mimetype": "text/x-python",
   "name": "python",
   "nbconvert_exporter": "python",
   "pygments_lexer": "ipython3",
   "version": "3.12.3"
  }
 },
 "nbformat": 4,
 "nbformat_minor": 5
}
