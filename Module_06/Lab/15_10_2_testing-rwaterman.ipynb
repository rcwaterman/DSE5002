{
 "cells": [
  {
   "cell_type": "markdown",
   "id": "3249679b",
   "metadata": {},
   "source": [
    "# 15.10.2. Exercise\n",
    "In the previous chapter, a series of exercises asked you to write a Date class and several functions that work with Date objects. Now let’s practice rewriting those functions as methods.\n",
    "\n",
    "1. Write a definition for a Date class that represents a date – that is, a year, month, and day of the month.\n",
    "\n",
    "2. Write an __init__ method that takes year, month, and day as parameters and assigns the parameters to attributes. Create an object that represents June 22, 1933.\n",
    "\n",
    "3. Write __str__ method that uses an f-string to format the attributes and returns the result. If you test it with the Date you created, the result should be 1933-06-22.\n",
    "\n",
    "4. Write a method called is_after that takes two Date objects and returns True if the first comes after the second. Create a second object that represents September 17, 1933, and check whether it comes after the first object.\n",
    "\n",
    "Hint: You might find it useful write a method called to_tuple that returns a tuple that contains the attributes of a Date object in year-month-day order."
   ]
  },
  {
   "cell_type": "code",
   "execution_count": 1,
   "id": "760da7ef",
   "metadata": {},
   "outputs": [],
   "source": [
    "from date_15_10_2 import Date"
   ]
  },
  {
   "cell_type": "markdown",
   "id": "a17f3f4f",
   "metadata": {},
   "source": [
    "## Part 1 Completed in date_15_10_2 file"
   ]
  },
  {
   "cell_type": "markdown",
   "id": "45b678f1",
   "metadata": {},
   "source": [
    "## Part 2"
   ]
  },
  {
   "cell_type": "code",
   "execution_count": 2,
   "id": "fd8e5570",
   "metadata": {},
   "outputs": [],
   "source": [
    "june_22_1933 = Date(1933, 6, 22)"
   ]
  },
  {
   "cell_type": "markdown",
   "id": "cdff347d",
   "metadata": {},
   "source": [
    "## Part 3"
   ]
  },
  {
   "cell_type": "code",
   "execution_count": 3,
   "id": "85de747c",
   "metadata": {},
   "outputs": [
    {
     "name": "stdout",
     "output_type": "stream",
     "text": [
      "1933-June-22\n"
     ]
    }
   ],
   "source": [
    "print(june_22_1933)"
   ]
  },
  {
   "cell_type": "markdown",
   "id": "c6f19852",
   "metadata": {},
   "source": [
    "## Part 4"
   ]
  },
  {
   "cell_type": "code",
   "execution_count": 4,
   "id": "4c4d1b38",
   "metadata": {},
   "outputs": [
    {
     "name": "stdout",
     "output_type": "stream",
     "text": [
      "True\n"
     ]
    }
   ],
   "source": [
    "sept_17_1933 = Date(1933, 9, 17)\n",
    "print(sept_17_1933.is_after(june_22_1933))"
   ]
  }
 ],
 "metadata": {
  "kernelspec": {
   "display_name": "Python 3 (ipykernel)",
   "language": "python",
   "name": "python3"
  },
  "language_info": {
   "codemirror_mode": {
    "name": "ipython",
    "version": 3
   },
   "file_extension": ".py",
   "mimetype": "text/x-python",
   "name": "python",
   "nbconvert_exporter": "python",
   "pygments_lexer": "ipython3",
   "version": "3.12.9"
  }
 },
 "nbformat": 4,
 "nbformat_minor": 5
}
