{
 "cells": [
  {
   "cell_type": "markdown",
   "id": "34be226b",
   "metadata": {},
   "source": [
    "# 14.11.4. Exercise\n",
    "\n",
    "Here’s a definition for a Date class that represents a date – that is, a year, month, and day of the month.\n",
    "\n",
    "```python\n",
    "class Date:\n",
    "    \"\"\"Represents a year, month, and day\"\"\"\n",
    "```\n",
    "\n",
    "1. Write a function called make_date that takes year, month, and day as parameters, makes a Date object, assigns the parameters to attributes, and returns the result the new object. Create an object that represents June 22, 1933.\n",
    "\n",
    "2. Write a function called print_date that takes a Date object, uses an f-string to format the attributes, and prints the result. If you test it with the Date you created, the result should be 1933-06-22.\n",
    "\n",
    "3. Write a function called is_after that takes two Date objects as parameters and returns True if the first comes after the second. Create a second object that represents September 17, 1933, and check whether it comes after the first object.\n",
    "\n",
    "Hint: You might find it useful to write a function called date_to_tuple that takes a Date object and returns a tuple that contains its attributes in year, month, day order.\n",
    "\n",
    "\n",
    "## Modification from Module 06: Lab 01:\n",
    "\n",
    "14.11.4 - but use an \n",
    "\n",
    "```python \n",
    "__init__\n",
    "``` \n",
    "\n",
    "function. Create your class definition in a .py file using spyder, and then import it into a Jupyter Notebook,   create an instance of the class and test it from the Jupyter Notebook.   Make sure the .py file and the notebook are in the same directory.  It will help to have spyder and jupyter lab both open at once."
   ]
  },
  {
   "cell_type": "code",
   "execution_count": 1,
   "id": "f154ed4f",
   "metadata": {},
   "outputs": [],
   "source": [
    "#imports\n",
    "from date_14_11_4 import Date"
   ]
  },
  {
   "cell_type": "markdown",
   "id": "60a6be2a",
   "metadata": {},
   "source": [
    "## Part 1"
   ]
  },
  {
   "cell_type": "code",
   "execution_count": 2,
   "id": "18c70ab3",
   "metadata": {},
   "outputs": [],
   "source": [
    "june_22_1933 = Date(1933, 6, 22)"
   ]
  },
  {
   "cell_type": "markdown",
   "id": "c5a1e61c",
   "metadata": {},
   "source": [
    "## Part 2"
   ]
  },
  {
   "cell_type": "code",
   "execution_count": 3,
   "id": "b6556b0c",
   "metadata": {},
   "outputs": [
    {
     "name": "stdout",
     "output_type": "stream",
     "text": [
      "1933-June-22\n"
     ]
    }
   ],
   "source": [
    "june_22_1933.print_date()"
   ]
  },
  {
   "cell_type": "markdown",
   "id": "4a6a68f9",
   "metadata": {},
   "source": [
    "## Part 3"
   ]
  },
  {
   "cell_type": "code",
   "execution_count": 4,
   "id": "5139ca0a",
   "metadata": {},
   "outputs": [],
   "source": [
    "from date_14_11_4 import is_after"
   ]
  },
  {
   "cell_type": "code",
   "execution_count": 5,
   "id": "d7e56349",
   "metadata": {},
   "outputs": [
    {
     "name": "stdout",
     "output_type": "stream",
     "text": [
      "True\n"
     ]
    }
   ],
   "source": [
    "sept_17_1933 = Date(1933, 9, 17)\n",
    "print(is_after(sept_17_1933,june_22_1933))"
   ]
  },
  {
   "cell_type": "markdown",
   "id": "7c4f662a",
   "metadata": {},
   "source": [
    "## Additional Testing\n",
    "\n",
    "Checking that the leap year handling and error handling work."
   ]
  },
  {
   "cell_type": "code",
   "execution_count": 6,
   "id": "4b909f8f",
   "metadata": {},
   "outputs": [
    {
     "name": "stdout",
     "output_type": "stream",
     "text": [
      "ERROR: Invalid Day.\n"
     ]
    }
   ],
   "source": [
    "day_error_checking = Date(-44, 2, 30)"
   ]
  },
  {
   "cell_type": "code",
   "execution_count": 7,
   "id": "6208ae94",
   "metadata": {},
   "outputs": [
    {
     "name": "stdout",
     "output_type": "stream",
     "text": [
      "ERROR: Invalid Month.\n",
      "13\n"
     ]
    }
   ],
   "source": [
    "month_error_checking = Date(-44, 13, 29)"
   ]
  },
  {
   "cell_type": "code",
   "execution_count": 8,
   "id": "89be2fdb",
   "metadata": {},
   "outputs": [],
   "source": [
    "bc_leap_year = Date(-44, 2, 29)"
   ]
  },
  {
   "cell_type": "code",
   "execution_count": 9,
   "id": "a51ae36d",
   "metadata": {},
   "outputs": [
    {
     "name": "stdout",
     "output_type": "stream",
     "text": [
      "44-February-29 BC\n"
     ]
    }
   ],
   "source": [
    "bc_leap_year.print_date()"
   ]
  },
  {
   "cell_type": "code",
   "execution_count": 10,
   "id": "d7fb45d9",
   "metadata": {},
   "outputs": [
    {
     "name": "stdout",
     "output_type": "stream",
     "text": [
      "ERROR: Invalid Day.\n"
     ]
    }
   ],
   "source": [
    "bc_pre_leap_error_check = Date(-2400, 2, 29)"
   ]
  },
  {
   "cell_type": "code",
   "execution_count": 11,
   "id": "2b96b2b7",
   "metadata": {},
   "outputs": [],
   "source": [
    "bc_pre_leap = Date(-2400, 2, 28)"
   ]
  },
  {
   "cell_type": "code",
   "execution_count": 12,
   "id": "b757850c",
   "metadata": {},
   "outputs": [
    {
     "name": "stdout",
     "output_type": "stream",
     "text": [
      "2400-February-28 BC\n"
     ]
    }
   ],
   "source": [
    "bc_pre_leap.print_date()"
   ]
  },
  {
   "cell_type": "code",
   "execution_count": 13,
   "id": "82ad4549",
   "metadata": {},
   "outputs": [
    {
     "name": "stdout",
     "output_type": "stream",
     "text": [
      "True\n"
     ]
    }
   ],
   "source": [
    "print(is_after(bc_leap_year, bc_pre_leap))"
   ]
  }
 ],
 "metadata": {
  "kernelspec": {
   "display_name": "Python 3 (ipykernel)",
   "language": "python",
   "name": "python3"
  },
  "language_info": {
   "codemirror_mode": {
    "name": "ipython",
    "version": 3
   },
   "file_extension": ".py",
   "mimetype": "text/x-python",
   "name": "python",
   "nbconvert_exporter": "python",
   "pygments_lexer": "ipython3",
   "version": "3.12.9"
  }
 },
 "nbformat": 4,
 "nbformat_minor": 5
}
