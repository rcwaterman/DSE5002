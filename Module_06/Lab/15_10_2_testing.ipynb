{
 "cells": [
  {
   "cell_type": "markdown",
   "id": "3249679b",
   "metadata": {},
   "source": [
    "# 15.10.2. Exercise\n",
    "In the previous chapter, a series of exercises asked you to write a Date class and several functions that work with Date objects. Now let’s practice rewriting those functions as methods.\n",
    "\n",
    "1. Write a definition for a Date class that represents a date – that is, a year, month, and day of the month.\n",
    "\n",
    "2. Write an __init__ method that takes year, month, and day as parameters and assigns the parameters to attributes. Create an object that represents June 22, 1933.\n",
    "\n",
    "3. Write __str__ method that uses an f-string to format the attributes and returns the result. If you test it with the Date you created, the result should be 1933-06-22.\n",
    "\n",
    "4. Write a method called is_after that takes two Date objects and returns True if the first comes after the second. Create a second object that represents September 17, 1933, and check whether it comes after the first object.\n",
    "\n",
    "Hint: You might find it useful write a method called to_tuple that returns a tuple that contains the attributes of a Date object in year-month-day order."
   ]
  },
  {
   "cell_type": "code",
   "execution_count": 1,
   "id": "760da7ef",
   "metadata": {},
   "outputs": [
    {
     "ename": "NameError",
     "evalue": "name 'Date' is not defined",
     "output_type": "error",
     "traceback": [
      "\u001b[1;31m---------------------------------------------------------------------------\u001b[0m",
      "\u001b[1;31mNameError\u001b[0m                                 Traceback (most recent call last)",
      "Cell \u001b[1;32mIn[1], line 1\u001b[0m\n\u001b[1;32m----> 1\u001b[0m \u001b[38;5;28;01mfrom\u001b[39;00m \u001b[38;5;21;01mdate_15_10_2\u001b[39;00m \u001b[38;5;28;01mimport\u001b[39;00m Date\n",
      "File \u001b[1;32mc:\\Users\\water\\OneDrive\\GradSchool\\DSE5002\\Module_06\\Lab\\date_15_10_2.py:4\u001b[0m\n\u001b[0;32m      1\u001b[0m \u001b[38;5;28;01mfrom\u001b[39;00m \u001b[38;5;21;01mtyping\u001b[39;00m \u001b[38;5;28;01mimport\u001b[39;00m Union\n\u001b[0;32m      2\u001b[0m \u001b[38;5;28;01mfrom\u001b[39;00m \u001b[38;5;21;01mmath\u001b[39;00m \u001b[38;5;28;01mimport\u001b[39;00m floor\n\u001b[1;32m----> 4\u001b[0m \u001b[38;5;28;01mclass\u001b[39;00m \u001b[38;5;21;01mDate\u001b[39;00m():\n\u001b[0;32m      5\u001b[0m \u001b[38;5;250m    \u001b[39m\u001b[38;5;124;03m\"\"\"Represents a year, month, and day\"\"\"\u001b[39;00m\n\u001b[0;32m      6\u001b[0m     \u001b[38;5;28;01mdef\u001b[39;00m \u001b[38;5;21m__init__\u001b[39m(\u001b[38;5;28mself\u001b[39m, year, month, day) \u001b[38;5;241m-\u001b[39m\u001b[38;5;241m>\u001b[39m \u001b[38;5;28;01mNone\u001b[39;00m:\n\u001b[0;32m      7\u001b[0m \n\u001b[0;32m      8\u001b[0m         \u001b[38;5;66;03m#Doing this the way that the problem asks, then being a try-hard after.\u001b[39;00m\n",
      "File \u001b[1;32mc:\\Users\\water\\OneDrive\\GradSchool\\DSE5002\\Module_06\\Lab\\date_15_10_2.py:194\u001b[0m, in \u001b[0;36mDate\u001b[1;34m()\u001b[0m\n\u001b[0;32m    191\u001b[0m     \u001b[38;5;66;03m# Now that the self.MONTH_MAPPING dictionary contains the correct number of days for February, validate the day input and assign the self.day attribute\u001b[39;00m\n\u001b[0;32m    192\u001b[0m     \u001b[38;5;28mself\u001b[39m\u001b[38;5;241m.\u001b[39m_validate_day(day)\n\u001b[1;32m--> 194\u001b[0m \u001b[38;5;28;01mdef\u001b[39;00m \u001b[38;5;21mis_after\u001b[39m(\u001b[38;5;28mself\u001b[39m, date2:Date) \u001b[38;5;241m-\u001b[39m\u001b[38;5;241m>\u001b[39m \u001b[38;5;28mbool\u001b[39m:\n\u001b[0;32m    195\u001b[0m \u001b[38;5;250m    \u001b[39m\u001b[38;5;124;03m\"\"\"\u001b[39;00m\n\u001b[0;32m    196\u001b[0m \u001b[38;5;124;03m    Determine if the first date comes after the second.\u001b[39;00m\n\u001b[0;32m    197\u001b[0m \u001b[38;5;124;03m    \"\"\"\u001b[39;00m\n\u001b[0;32m    198\u001b[0m     \u001b[38;5;28;01mif\u001b[39;00m \u001b[38;5;28mself\u001b[39m\u001b[38;5;241m.\u001b[39mdate_to_int() \u001b[38;5;241m>\u001b[39m date2\u001b[38;5;241m.\u001b[39mdate_to_int():\n",
      "\u001b[1;31mNameError\u001b[0m: name 'Date' is not defined"
     ]
    }
   ],
   "source": [
    "from date_15_10_2 import Date"
   ]
  },
  {
   "cell_type": "markdown",
   "id": "a17f3f4f",
   "metadata": {},
   "source": [
    "## Part 1 Completed in date_15_10_2 file"
   ]
  },
  {
   "cell_type": "markdown",
   "id": "45b678f1",
   "metadata": {},
   "source": [
    "## Part 2"
   ]
  },
  {
   "cell_type": "code",
   "execution_count": null,
   "id": "fd8e5570",
   "metadata": {},
   "outputs": [],
   "source": [
    "june_22_1933 = Date(1933, 6, 22)"
   ]
  },
  {
   "cell_type": "markdown",
   "id": "cdff347d",
   "metadata": {},
   "source": [
    "## Part 3"
   ]
  },
  {
   "cell_type": "code",
   "execution_count": null,
   "id": "85de747c",
   "metadata": {},
   "outputs": [
    {
     "name": "stdout",
     "output_type": "stream",
     "text": [
      "1933-June-22\n"
     ]
    }
   ],
   "source": [
    "print(june_22_1933)"
   ]
  },
  {
   "cell_type": "markdown",
   "id": "c6f19852",
   "metadata": {},
   "source": [
    "## Part 4"
   ]
  },
  {
   "cell_type": "code",
   "execution_count": null,
   "id": "4c4d1b38",
   "metadata": {},
   "outputs": [
    {
     "name": "stdout",
     "output_type": "stream",
     "text": [
      "True\n"
     ]
    }
   ],
   "source": [
    "sept_17_1933 = Date(1933, 9, 17)\n",
    "print(sept_17_1933.is_after(june_22_1933))"
   ]
  }
 ],
 "metadata": {
  "kernelspec": {
   "display_name": "DSE5002",
   "language": "python",
   "name": "python3"
  },
  "language_info": {
   "codemirror_mode": {
    "name": "ipython",
    "version": 3
   },
   "file_extension": ".py",
   "mimetype": "text/x-python",
   "name": "python",
   "nbconvert_exporter": "python",
   "pygments_lexer": "ipython3",
   "version": "3.12.3"
  }
 },
 "nbformat": 4,
 "nbformat_minor": 5
}
