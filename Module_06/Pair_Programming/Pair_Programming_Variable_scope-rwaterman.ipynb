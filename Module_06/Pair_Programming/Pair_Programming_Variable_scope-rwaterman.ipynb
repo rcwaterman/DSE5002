{
 "cells": [
  {
   "cell_type": "markdown",
   "id": "342a50ac-99fb-43f9-8b7d-80a7671f3efd",
   "metadata": {},
   "source": [
    "# Variable Scope in Python\n",
    "\n"
   ]
  },
  {
   "cell_type": "code",
   "execution_count": 1,
   "id": "73e84d19-145c-4ac9-bbaa-8be3a9725038",
   "metadata": {},
   "outputs": [],
   "source": [
    "# create a variable and set it to 10\n",
    "\n",
    "a=10"
   ]
  },
  {
   "cell_type": "code",
   "execution_count": 2,
   "id": "6fd575a9-424c-4da5-b9f5-c1610c96a9e5",
   "metadata": {},
   "outputs": [
    {
     "data": {
      "text/plain": [
       "32"
      ]
     },
     "execution_count": 2,
     "metadata": {},
     "output_type": "execute_result"
    }
   ],
   "source": [
    "# create a function that has input x, and uses variables a and b\n",
    "\n",
    "def qfunk(x):\n",
    "    a=3\n",
    "    b=4\n",
    "    return 4*(x**a)\n",
    "\n",
    "qfunk(2)"
   ]
  },
  {
   "cell_type": "code",
   "execution_count": 3,
   "id": "1e4c24a8-513c-4e05-bde2-6615420ea18d",
   "metadata": {},
   "outputs": [
    {
     "data": {
      "text/plain": [
       "10"
      ]
     },
     "execution_count": 3,
     "metadata": {},
     "output_type": "execute_result"
    }
   ],
   "source": [
    "# did the value of a change, because we used a with a different value in the function?\n",
    "\n",
    "a"
   ]
  },
  {
   "cell_type": "code",
   "execution_count": 4,
   "id": "f672ef05-bed8-48a3-b7fd-9988fea6d58e",
   "metadata": {},
   "outputs": [
    {
     "ename": "NameError",
     "evalue": "name 'b' is not defined",
     "output_type": "error",
     "traceback": [
      "\u001b[31m---------------------------------------------------------------------------\u001b[39m",
      "\u001b[31mNameError\u001b[39m                                 Traceback (most recent call last)",
      "\u001b[36mCell\u001b[39m\u001b[36m \u001b[39m\u001b[32mIn[4]\u001b[39m\u001b[32m, line 3\u001b[39m\n\u001b[32m      1\u001b[39m \u001b[38;5;66;03m# can we use b now, since it was created and used in the function?\u001b[39;00m\n\u001b[32m----> \u001b[39m\u001b[32m3\u001b[39m \u001b[43mb\u001b[49m\n",
      "\u001b[31mNameError\u001b[39m: name 'b' is not defined"
     ]
    }
   ],
   "source": [
    "# can we use b now, since it was created and used in the function?\n",
    "\n",
    "b"
   ]
  },
  {
   "cell_type": "markdown",
   "id": "bc15d351-3380-40a7-bf43-e3611ef46fe3",
   "metadata": {},
   "source": [
    "## Scope\n",
    "\n",
    "a did not change despite being used in the function.   It was created in the *global environment*, the a within the function is in a *local environment* specific to the function.\n",
    "\n",
    "b was not visible outside the function it was used in.   It exists only as a local variable in the function\n",
    "\n",
    "This is an example of variable scope,  it protects variables from unwanted damage due to re-use of the same name"
   ]
  },
  {
   "cell_type": "code",
   "execution_count": null,
   "id": "0c9b9228-caea-4adc-b1c8-489b0d920f0a",
   "metadata": {},
   "outputs": [
    {
     "data": {
      "text/plain": [
       "30"
      ]
     },
     "execution_count": 11,
     "metadata": {},
     "output_type": "execute_result"
    }
   ],
   "source": [
    "#trying to use a variable from the global environment in the function\n",
    "\n",
    "def qfunk2(x):\n",
    "    return a*x\n",
    "\n",
    "qfunk2(3)"
   ]
  },
  {
   "cell_type": "markdown",
   "id": "1f213963-64e4-4ca4-92c9-559c06f27c92",
   "metadata": {},
   "source": [
    "We can use a variable defined in the global environment within a function defined in the global environment\n",
    "\n",
    "Why is this generally a bad idea?\n",
    "\n",
    "-If a is changed in the global environment, and we don't know, or it gets changed by mistake, we now have an error in\n",
    "the function\n",
    "\n",
    "-Suppose we had intended to create a in the local environment of the function and simply forgot.  If, by bad luck, a was\n",
    "defined in the global function,  then our function would work by \"borrowing\" the global value.  It may work in kind of \n",
    "uncontrolled ways.\n",
    "\n",
    "Try not to do this...."
   ]
  },
  {
   "cell_type": "markdown",
   "id": "bb4d4f36-f0e0-4d93-99f6-4353c93e823b",
   "metadata": {},
   "source": [
    "# Layered environments\n",
    "\n",
    "Here we have the global environment,  an environment in qfunk3 and a third environment in qfunk4\n",
    "\n",
    "In the example below,  c is created in the qfunk3 environment and then used within qfunk4\n",
    "\n",
    "Since qfunk4 was defined within qfunk3,  it can make use of c within qfunk4 without defining it\n",
    "\n",
    "We have a layered environment"
   ]
  },
  {
   "cell_type": "code",
   "execution_count": null,
   "id": "24c92b9c-73a2-49a2-9254-2624923847d6",
   "metadata": {},
   "outputs": [
    {
     "name": "stdout",
     "output_type": "stream",
     "text": [
      "6\n"
     ]
    },
    {
     "data": {
      "text/plain": [
       "0"
      ]
     },
     "execution_count": 17,
     "metadata": {},
     "output_type": "execute_result"
    }
   ],
   "source": [
    "# More complex example\n",
    "\n",
    "def qfunk3(x):\n",
    "    c=3\n",
    "    def qfunk4(y):\n",
    "        print(c*y)\n",
    "    qfunk4(x)\n",
    "    return(0)\n",
    "\n",
    "qfunk3(2)"
   ]
  },
  {
   "cell_type": "code",
   "execution_count": null,
   "id": "a7ac96b7-6d5f-402b-9fee-707df2e69ef7",
   "metadata": {},
   "outputs": [
    {
     "ename": "NameError",
     "evalue": "name 'c' is not defined",
     "output_type": "error",
     "traceback": [
      "\u001b[1;31m---------------------------------------------------------------------------\u001b[0m",
      "\u001b[1;31mNameError\u001b[0m                                 Traceback (most recent call last)",
      "Cell \u001b[1;32mIn[19], line 1\u001b[0m\n\u001b[1;32m----> 1\u001b[0m c\n",
      "\u001b[1;31mNameError\u001b[0m: name 'c' is not defined"
     ]
    }
   ],
   "source": [
    "# c is not visible in the global environment\n",
    "c"
   ]
  },
  {
   "cell_type": "markdown",
   "id": "4156eca3-7bbc-49e1-a788-ad74744b876d",
   "metadata": {},
   "source": [
    "# Global variables\n",
    "\n",
    "We have seen that Python functions can use the values of variables in the Global environment, or from environments \"above\" them in\n",
    "stacked environments (like the qfunk3 example).\n",
    "\n",
    "We can allow a function to modify a global variable by declaring it global within the function definition"
   ]
  },
  {
   "cell_type": "code",
   "execution_count": null,
   "id": "02888c0e-441d-4d46-bedf-e591de375191",
   "metadata": {},
   "outputs": [
    {
     "data": {
      "text/plain": [
       "24"
      ]
     },
     "execution_count": 22,
     "metadata": {},
     "output_type": "execute_result"
    }
   ],
   "source": [
    "def qfunk5(x):\n",
    "    global a\n",
    "    a=3\n",
    "    return( 3*(x**a))\n",
    "\n",
    "qfunk5(2)"
   ]
  },
  {
   "cell_type": "code",
   "execution_count": null,
   "id": "d7730cb6-828e-4ef0-bf29-911128afba31",
   "metadata": {},
   "outputs": [
    {
     "data": {
      "text/plain": [
       "3"
      ]
     },
     "execution_count": 24,
     "metadata": {},
     "output_type": "execute_result"
    }
   ],
   "source": [
    "# qfunk5 has now changed the value of a\n",
    "\n",
    "a"
   ]
  },
  {
   "cell_type": "markdown",
   "id": "937f8b16-a57a-42bd-81a2-2a821a2ee483",
   "metadata": {},
   "source": [
    "# Comments\n",
    "\n",
    "It is generally bad practice to use global variables like this in a function\n",
    "\n",
    "There are cases where you may need to do this, or you will see it done in code, but in generally don't do it.\n",
    "\n",
    "Pass values into a function as function inputs rather than using global variables.   \n",
    "\n",
    "If you need to send information back to the global environment, do it using return values.\n",
    "\n",
    "If you need to return a massive amount of information, do so using a dictionary or a user defined class"
   ]
  }
 ],
 "metadata": {
  "kernelspec": {
   "display_name": "Python 3 (ipykernel)",
   "language": "python",
   "name": "python3"
  },
  "language_info": {
   "codemirror_mode": {
    "name": "ipython",
    "version": 3
   },
   "file_extension": ".py",
   "mimetype": "text/x-python",
   "name": "python",
   "nbconvert_exporter": "python",
   "pygments_lexer": "ipython3",
   "version": "3.12.9"
  }
 },
 "nbformat": 4,
 "nbformat_minor": 5
}
