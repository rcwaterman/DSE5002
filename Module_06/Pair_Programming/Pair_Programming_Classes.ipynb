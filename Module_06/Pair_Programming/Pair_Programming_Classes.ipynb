{
 "cells": [
  {
   "cell_type": "markdown",
   "id": "1064407d-3a70-48a0-94c6-ad60835d7de6",
   "metadata": {},
   "source": [
    "# Pair Programming Exercise Python Classes\n",
    "\n",
    "DSE5002 Module 7,   HD Sheets, July 2024\n",
    "\n",
    "Classes are part of object oriented program\n",
    "\n",
    "When we define a class, we are defining a structure that holds data in an organized or structured way.  In addition to\n",
    "defining functions that carry out operations on that data,   these are called \"methods\" in python and\n",
    "\"member functions\" in many other languages.\n",
    "\n",
    "Once we have a class definition, we can create instances of the class to create variables.\n",
    "\n",
    "{When we use numpy or pandas, we are creating instances of classes defined in the libraries numpy or pandas. \n",
    "   In addition to data storage, there are many defined \"methods\" or \"member functions\" defined in numpy and pandas}\n",
    "\n",
    "Classes are thus useful for carefully creating both storage and functions.\n",
    "\n",
    "Object oriented programming makes constant use of classes.   You only interact with a class through it's member\n",
    "functions, not by directly interacting with the variables within the class.   This means you don't need to know the \n",
    "internal details within a class to use it reliably.  You are also unlikely to screw up a class by using it incorrectly\n",
    "or altering it in ways you shouldn't, if you use the member functions\n",
    "\n",
    "Member functions can be \"overloaded\",  meaning that each class can have it's own version of commmonly used functions\n",
    "like \"print\" or \"plot\", which replace the default functions for that particular class only.\n",
    "\n",
    "When you use the dir() function on a python varialbe, it is showing you the methods for the class\n",
    "\n"
   ]
  },
  {
   "cell_type": "markdown",
   "id": "c447c265-6aab-44dc-86c7-792589440366",
   "metadata": {},
   "source": [
    "# Defining a Class\n",
    "\n",
    "We define a class by stating what variables are in it and what it's methods are\n",
    "\n",
    "We will always want at least on member function, an \"initialization\" function that sets up the stored\n",
    "variables in the class when an \"instance\" of the class is created\n",
    "\n",
    "{Note:  when you create a Pandas data frame in Python,  you are created an \"instance\" of the class pandas dataframe.\n",
    "It may not be obvious this is happening,  for example if you load a csv as a pandas frame, you don't really see\n",
    "the creation (or \"instance\") of the data frame, you just have a variable of type dataframe}"
   ]
  },
  {
   "cell_type": "code",
   "execution_count": 2,
   "id": "39be8463-ddac-4b3f-bc1a-3bdb31b653e0",
   "metadata": {},
   "outputs": [],
   "source": [
    "class two_int:\n",
    "    \"\"\"two int, a simple example of a class\"\"\"\n",
    "    \n",
    "    # create an intialization function, which must be named __init__\n",
    "    # the term self.   means a variable within the class\n",
    "    # this class contains two integers, i and j\n",
    "    #\n",
    "    # note that the variable \"self\" must be sent into the init function, then the two input variables i, j\n",
    "    # notice I did set default values for i and j\n",
    "    \n",
    "    def __init__(self,i=0,j=0):\n",
    "        self.i=i\n",
    "        self.j=j\n",
    "\n",
    "    #lets make a member print function as well\n",
    "\n",
    "    def print(self):\n",
    "        print(\"i is :\",self.i,\" j is :\",self.j)\n"
   ]
  },
  {
   "cell_type": "code",
   "execution_count": 3,
   "id": "3f973e9d-0dfb-4715-a934-524e2f1974f3",
   "metadata": {},
   "outputs": [
    {
     "name": "stdout",
     "output_type": "stream",
     "text": [
      "i is : 1  j is : 2\n"
     ]
    }
   ],
   "source": [
    "# when we set x to be two_int(1,2) this calls the initialization member function\n",
    "\n",
    "x=two_int(i=1,j=2)\n",
    "\n",
    "# to call the method \"print\",  we use x.print()\n",
    "\n",
    "x.print()"
   ]
  },
  {
   "cell_type": "code",
   "execution_count": 4,
   "id": "89d8c027-a9ef-4f03-bcba-eddcf76a5ea2",
   "metadata": {},
   "outputs": [
    {
     "name": "stdout",
     "output_type": "stream",
     "text": [
      "i is : 0  j is : 0\n"
     ]
    }
   ],
   "source": [
    "y=two_int()\n",
    "y.print()"
   ]
  },
  {
   "cell_type": "markdown",
   "id": "91bcd83d-54f1-439c-af69-33c7766597ac",
   "metadata": {},
   "source": [
    "# Class and instance variable\n",
    "\n",
    "In the example above,  i and j are \"instance variables\",  each instance of two_int\n",
    "will have indepdent values of i and j\n",
    "\n",
    "We can add variables that are common to all instance of the class, which are called Class variables\n",
    "\n",
    "Here we will add a class variable called \"name\"\n",
    "\n",
    "I'm also going to add \"set\" functions, which allow us to set the value of i in the class after it is created.   To change\n",
    "a value within the class requires some form of a \"set\" function,  although in python it is usually not named set.\n",
    "\n",
    "My set_i function checks to be sure that the range of the i value is valid,   I only want i to range from 0 to 100,  since I want I to be percentage value. This is an advantage of a set function, it can be used to ensure no one enters an\n",
    "invalid value"
   ]
  },
  {
   "cell_type": "code",
   "execution_count": 5,
   "id": "e510d8d0-c274-4809-9c19-8da56099f97c",
   "metadata": {},
   "outputs": [],
   "source": [
    "class two_int:\n",
    "    \"\"\"two int, a simple example of a class\"\"\"\n",
    "    # add a class variable\n",
    "    kind=\"two_int, percentage\"\n",
    "\n",
    "    \n",
    "    # create an intialization function, which must be named __init__\n",
    "    # the term self.   means a variable within the class\n",
    "    # this class contains two integers, i and j\n",
    "    #\n",
    "    # note that the variable \"self\" must be sent into the init function, then the two input variables i, j\n",
    "    # notice I did set default values for i and j\n",
    "    \n",
    "    def __init__(self,i=0,j=0):\n",
    "        self.i=i\n",
    "        self.j=j\n",
    "\n",
    "    #lets make a member print function as well\n",
    "\n",
    "    def print(self):\n",
    "        print(\"i is :\",self.i,\" j is :\",self.j)\n",
    "\n",
    "    #a set function, allows the value of i to be changed after the variables are created\n",
    "    def set_i(self,i):\n",
    "        if( (i<0)|(i>100)):\n",
    "            print(\"Invalid i value entered\")\n",
    "        else:\n",
    "            self.i=i\n"
   ]
  },
  {
   "cell_type": "code",
   "execution_count": 6,
   "id": "ce585080-bf8e-44f8-bdfd-5290d857e950",
   "metadata": {},
   "outputs": [
    {
     "name": "stdout",
     "output_type": "stream",
     "text": [
      "i is : 0.2  j is : 2\n",
      "Invalid i value entered\n",
      "i is : 0.2  j is : 2\n",
      "i is : 30  j is : 2\n"
     ]
    }
   ],
   "source": [
    "x=two_int(0.2,2)\n",
    "\n",
    "x.print()\n",
    "\n",
    "\n",
    "# try to enter an invalid i value\n",
    "x.set_i(455)\n",
    "\n",
    "x.print()\n",
    "\n",
    "#set a valid i value this time\n",
    "\n",
    "x.set_i(30)\n",
    "\n",
    "x.print()"
   ]
  },
  {
   "cell_type": "markdown",
   "id": "09baf2af-5f07-417d-98ac-d57593bb6f3b",
   "metadata": {},
   "source": [
    "We can also create get functions that return the values,  we'll add a get\n",
    "function for j\n",
    "\n",
    "and we can add other times of functions as well"
   ]
  },
  {
   "cell_type": "code",
   "execution_count": 7,
   "id": "940e6345-5efb-4185-ba13-78ddcd409e24",
   "metadata": {},
   "outputs": [],
   "source": [
    "class two_int:\n",
    "    \"\"\"two int, a simple example of a class\"\"\"\n",
    "    # add a class variable\n",
    "    kind=\"two_int, percentage\"\n",
    "\n",
    "    \n",
    "    # create an intialization function, which must be named __init__\n",
    "    # the term self.   means a variable within the class\n",
    "    # this class contains two integers, i and j\n",
    "    #\n",
    "    # note that the variable \"self\" must be sent into the init function, then the two input variables i, j\n",
    "    # notice I did set default values for i and j\n",
    "    \n",
    "    def __init__(self,i=0,j=0):\n",
    "        self.i=i\n",
    "        self.j=j\n",
    "\n",
    "    #lets make a member print function as well\n",
    "\n",
    "    def print(self):\n",
    "        print(\"i is :\",self.i,\" j is :\",self.j)\n",
    "\n",
    "    #a set function, allows the value of i to be changed after the variables are created\n",
    "    def set_i(self,i):\n",
    "        if( (i<0)|(i>100)):\n",
    "            print(\"Invalid i value entered\")\n",
    "        else:\n",
    "            self.i=i\n",
    "\n",
    "   # here is a get function for j\n",
    "    def get_j(self):\n",
    "        return self.j\n",
    "\n",
    "   # here is a function to return i percent of j\n",
    "    def get_per(self):\n",
    "        return self.i*self.j/100"
   ]
  },
  {
   "cell_type": "code",
   "execution_count": 8,
   "id": "9a6c70cb-8beb-4d0b-bbd6-5feb1c0411cd",
   "metadata": {},
   "outputs": [
    {
     "data": {
      "text/plain": [
       "0.36"
      ]
     },
     "execution_count": 8,
     "metadata": {},
     "output_type": "execute_result"
    }
   ],
   "source": [
    "x=two_int(3,12)\n",
    "\n",
    "x.get_j()\n",
    "\n",
    "x.get_per()"
   ]
  },
  {
   "cell_type": "markdown",
   "id": "73bb2b80-a8c0-4896-8069-e95d793f326b",
   "metadata": {},
   "source": [
    "# Why\n",
    "\n",
    "Defining a class and methods for it means that the class can be shared and re-used\n",
    "\n",
    "The user of a class doesn't need to understand or work with the internal structure of the class, only with the methods\n",
    "\n",
    "If the internal structure needs to be changed or updated, or new methods added,  existing code using the class won't\n",
    "break, as long as the inputs and outputs and names of the member functions (methods) are not altered.\n",
    "\n",
    "This is a huge reliability issue when working with a team, particularly a large one\n",
    "\n",
    "Many libraries are mostly sets of class definitions, that turns out to be key too working with data,  carefully designed\n",
    "classes"
   ]
  },
  {
   "cell_type": "markdown",
   "id": "291b5a4b-8b73-4f45-9537-59d959560f9d",
   "metadata": {},
   "source": [
    "# Question/Action\n",
    "\n",
    "Write a function called customer than contains a first name and a last name as instance variables\n",
    "\n",
    "It should have an __init__ function that has input self, first and last that stores first and last\n",
    "\n",
    "Also create a print function that prints out the person's name\n",
    "\n"
   ]
  },
  {
   "cell_type": "code",
   "execution_count": 11,
   "id": "34c870c2",
   "metadata": {},
   "outputs": [],
   "source": [
    "class Customer:\n",
    "    def __init__(self, first, last):\n",
    "        self.first=first\n",
    "        self.last=last\n",
    "    def __str__(self):\n",
    "        return f\"{self.first} {self.last}\""
   ]
  },
  {
   "cell_type": "code",
   "execution_count": 12,
   "id": "f269a22b",
   "metadata": {},
   "outputs": [
    {
     "name": "stdout",
     "output_type": "stream",
     "text": [
      "John Doe\n"
     ]
    }
   ],
   "source": [
    "cust1 = Customer(\"John\", \"Doe\")\n",
    "print(cust1)"
   ]
  }
 ],
 "metadata": {
  "kernelspec": {
   "display_name": "DSE5002",
   "language": "python",
   "name": "python3"
  },
  "language_info": {
   "codemirror_mode": {
    "name": "ipython",
    "version": 3
   },
   "file_extension": ".py",
   "mimetype": "text/x-python",
   "name": "python",
   "nbconvert_exporter": "python",
   "pygments_lexer": "ipython3",
   "version": "3.12.9"
  }
 },
 "nbformat": 4,
 "nbformat_minor": 5
}
