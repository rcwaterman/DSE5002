{
 "cells": [
  {
   "cell_type": "markdown",
   "id": "868f20a6",
   "metadata": {},
   "source": [
    "#### Assignment 4\n",
    "revised 2/18/2025\n",
    "### Ryan Waterman\n",
    "### 4/6/2025"
   ]
  },
  {
   "cell_type": "markdown",
   "id": "6b3cc38d",
   "metadata": {},
   "source": [
    "## Question 1\n",
    "1) import the random library. \n",
    "\n",
    "2) Use `random.seed(10)` to initialize a pseudorandom number generator. \n",
    "\n",
    "3) Create a list of 50 random integers from 0 to 15. Call this list `int_list`.\n",
    "\n",
    "4) Print the 10th and 30th elements of the list. \n",
    "\n",
    "You will need to use list comprehension to do this. The syntax for list comprehension is: <new_list> = `[<expression> for <item> in <iterable>]`. For this question your expression will be a randint generator from the random library and your iterable will be `range()`. Researh the documentation on how to use both functions. "
   ]
  },
  {
   "cell_type": "code",
   "execution_count": 6,
   "id": "7abe6a13",
   "metadata": {},
   "outputs": [],
   "source": [
    "import random"
   ]
  },
  {
   "cell_type": "code",
   "execution_count": null,
   "id": "d06a6115",
   "metadata": {},
   "outputs": [
    {
     "name": "stdout",
     "output_type": "stream",
     "text": [
      "[1, 13, 15, 0, 6, 14, 15, 8, 5, 1, 15, 10, 2, 7, 11, 1, 13, 4, 11, 12, 13, 9, 8, 14, 5, 9, 11, 4, 14, 7, 14, 12, 1, 0, 7, 4, 6, 9, 11, 7, 10, 14, 13, 15, 2, 10, 5, 7, 13, 7]\n",
      "1 7\n"
     ]
    }
   ],
   "source": [
    "random.seed(10)\n",
    "\n",
    "int_list = [random.randint(0,15) for i in range(50)]\n",
    "\n",
    "print(int_list[9], int_list[29])"
   ]
  },
  {
   "cell_type": "markdown",
   "id": "48d4d289",
   "metadata": {},
   "source": [
    "## Question 2\n",
    "1) import the string library.\n",
    "\n",
    "2) Create the string `az_upper` using `string.ascii_uppercase`. This is a single string of uppercase letters\n",
    "\n",
    "3) Create a list of each individual letter from the string. To do this you will need to iterate over the string and append each letter to the an empty list. Call this list `az_list`. \n",
    "\n",
    "4) Print the list.\n",
    "\n",
    "You will need to use a for-loop for this. The syntax for this for-loop should be: \n",
    "\n",
    "`for i in string>:\n",
    "   <list operation>\n",
    "`"
   ]
  },
  {
   "cell_type": "code",
   "execution_count": 15,
   "id": "e259b56f",
   "metadata": {},
   "outputs": [
    {
     "name": "stdout",
     "output_type": "stream",
     "text": [
      "['A', 'B', 'C', 'D', 'E', 'F', 'G', 'H', 'I', 'J', 'K', 'L', 'M', 'N', 'O', 'P', 'Q', 'R', 'S', 'T', 'U', 'V', 'W', 'X', 'Y', 'Z']\n",
      "['A', 'B', 'C', 'D', 'E', 'F', 'G', 'H', 'I', 'J', 'K', 'L', 'M', 'N', 'O', 'P', 'Q', 'R', 'S', 'T', 'U', 'V', 'W', 'X', 'Y', 'Z']\n"
     ]
    }
   ],
   "source": [
    "import string\n",
    "\n",
    "# First, doing this the way the question asks\n",
    "az_upper = string.ascii_uppercase\n",
    "\n",
    "az_upper_list = []\n",
    "for i in az_upper:\n",
    "    az_upper_list.append(i)\n",
    "    \n",
    "print(az_upper_list)\n",
    "\n",
    "# I prefer to do this operation with list comprehension, though\n",
    "az_upper = [letter for letter in string.ascii_uppercase]\n",
    "\n",
    "print(az_upper)"
   ]
  },
  {
   "cell_type": "markdown",
   "id": "5b775542",
   "metadata": {},
   "source": [
    "## Question 3\n",
    "1) Create a set from 1 to 5. Call this `set_1`.\n",
    "\n",
    "2) Create a set from int_list. Call this `set_2`.\n",
    "\n",
    "3) Create a set by finding the `symmetric_difference()` of `set_1` and `set_2`. Call this `set_3`.\n",
    "\n",
    "4) What is the length of all three sets?\n",
    "\n"
   ]
  },
  {
   "cell_type": "code",
   "execution_count": 19,
   "id": "4300df51",
   "metadata": {},
   "outputs": [
    {
     "name": "stdout",
     "output_type": "stream",
     "text": [
      "{1, 2, 3, 4, 5} {0, 1, 2, 4, 5, 6, 7, 8, 9, 10, 11, 12, 13, 14, 15} {0, 3, 6, 7, 8, 9, 10, 11, 12, 13, 14, 15}\n",
      "5 15 12\n"
     ]
    }
   ],
   "source": [
    "set_1 = set(range(1, 6))\n",
    "set_2 = set(int_list)\n",
    "set_3 = set.symmetric_difference(set_1, set_2)\n",
    "\n",
    "print(set_1, set_2, set_3)\n",
    "print(len(set_1), len(set_2), len(set_3))"
   ]
  },
  {
   "cell_type": "markdown",
   "id": "7cd5e698",
   "metadata": {},
   "source": [
    "## Question 4\n",
    "\n",
    "Complete exercise 9.15.3 from Think Python by Downey\n",
    "\n",
    "https://allendowney.github.io/ThinkPython/chap09.html\n",
    "\n",
    "\n",
    "\n"
   ]
  },
  {
   "cell_type": "code",
   "execution_count": 23,
   "id": "b0ea3699-ddb2-4e05-8322-8080bc51fb19",
   "metadata": {},
   "outputs": [],
   "source": [
    "def is_palindrome(word):\n",
    "    return True if word==''.join(reversed(word)) else False"
   ]
  },
  {
   "cell_type": "code",
   "execution_count": 31,
   "id": "241924ea-c79a-46e5-96bd-fea70364af9c",
   "metadata": {},
   "outputs": [
    {
     "name": "stdout",
     "output_type": "stream",
     "text": [
      "racecar\n",
      "repaper\n",
      "rotator\n"
     ]
    }
   ],
   "source": [
    "word_list = [    #Courtesy of ChatGPT\n",
    "    \"racecar\",   # Palindrome\n",
    "    \"table\",     # Non-palindrome\n",
    "    \"rotor\",     # Palindrome\n",
    "    \"lamp\",      # Non-palindrome\n",
    "    \"repaper\",   # Palindrome\n",
    "    \"level\",     # Palindrome\n",
    "    \"mirror\",    # Non-palindrome\n",
    "    \"kayak\",     # Palindrome\n",
    "    \"river\",     # Non-palindrome\n",
    "    \"civic\",     # Palindrome\n",
    "    \"phone\",     # Non-palindrome\n",
    "    \"rotator\",   # Palindrome\n",
    "    \"paper\",     # Non-palindrome\n",
    "    \"stats\",     # Palindrome\n",
    "    \"chair\",     # Non-palindrome\n",
    "    \"madam\",     # Palindrome\n",
    "    \"camera\",    # Non-palindrome\n",
    "    \"refer\",     # Palindrome\n",
    "    \"gadget\",    # Non-palindrome\n",
    "    \"noon\",      # Palindrome\n",
    "    \"window\",    # Non-palindrome\n",
    "    \"mom\",       # Palindrome\n",
    "    \"textbook\",  # Non-palindrome\n",
    "    \"pop\",       # Palindrome\n",
    "    \"random\"     # Non-palindrome\n",
    "]\n",
    "\n",
    "for word in word_list:\n",
    "    if len(word) >= 7 and is_palindrome(word):\n",
    "        print(word)"
   ]
  }
 ],
 "metadata": {
  "kernelspec": {
   "display_name": "Python [conda env:DSE5002]",
   "language": "python",
   "name": "conda-env-DSE5002-py"
  },
  "language_info": {
   "codemirror_mode": {
    "name": "ipython",
    "version": 3
   },
   "file_extension": ".py",
   "mimetype": "text/x-python",
   "name": "python",
   "nbconvert_exporter": "python",
   "pygments_lexer": "ipython3",
   "version": "3.12.9"
  }
 },
 "nbformat": 4,
 "nbformat_minor": 5
}
