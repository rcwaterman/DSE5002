{
 "cells": [
  {
   "cell_type": "markdown",
   "metadata": {},
   "source": [
    "# Ryan Waterman\n",
    "\n",
    "## Homework 4 SQL Questions"
   ]
  },
  {
   "cell_type": "markdown",
   "metadata": {},
   "source": [
    "### Exercise 3-1\n",
    "\n",
    "Retrieve the employee ID, first name, and last name for all bank employees. Sort by last name and then by first name."
   ]
  },
  {
   "cell_type": "code",
   "execution_count": 24,
   "metadata": {},
   "outputs": [
    {
     "name": "stdout",
     "output_type": "stream",
     "text": [
      "Requirement already satisfied: dotenv in c:\\users\\water\\anaconda3\\envs\\dse5002\\lib\\site-packages (0.9.9)\n",
      "Requirement already satisfied: psycopg2 in c:\\users\\water\\anaconda3\\envs\\dse5002\\lib\\site-packages (2.9.10)\n",
      "Requirement already satisfied: python-dotenv in c:\\users\\water\\anaconda3\\envs\\dse5002\\lib\\site-packages (from dotenv) (1.1.0)\n"
     ]
    }
   ],
   "source": [
    "!pip install dotenv psycopg2"
   ]
  },
  {
   "cell_type": "code",
   "execution_count": 25,
   "metadata": {},
   "outputs": [],
   "source": [
    "import os\n",
    "import psycopg2\n",
    "import pandas as pd\n",
    "from dotenv import find_dotenv, dotenv_values\n"
   ]
  },
  {
   "cell_type": "code",
   "execution_count": 26,
   "metadata": {},
   "outputs": [
    {
     "name": "stdout",
     "output_type": "stream",
     "text": [
      "password\n"
     ]
    }
   ],
   "source": [
    "keys = list(dotenv_values(find_dotenv('.env')).items())\n",
    "os.environ['POSTGRES_PASS'] = keys[1][1]\n",
    "print(os.getenv('POSTGRES_PASS'))"
   ]
  },
  {
   "cell_type": "code",
   "execution_count": 27,
   "metadata": {},
   "outputs": [],
   "source": [
    "conn = psycopg2.connect(\n",
    "        host=\"localhost\",\n",
    "        database=\"bank\",\n",
    "        user=\"Lab_03\",\n",
    "        password=os.getenv('POSTGRES_PASS'),\n",
    "        port=\"5432\"\n",
    "    )\n",
    "\n",
    "conn.autocommit=True"
   ]
  },
  {
   "cell_type": "code",
   "execution_count": 28,
   "metadata": {},
   "outputs": [],
   "source": [
    "# Instantiate the cursor\n",
    "cursor = conn.cursor()"
   ]
  },
  {
   "cell_type": "code",
   "execution_count": 29,
   "metadata": {},
   "outputs": [],
   "source": [
    "#Execute the query\n",
    "cursor.execute(\"SELECT emp_id, fname, lname FROM employee\")\n",
    "\n",
    "#Get the response\n",
    "response = cursor.fetchall()"
   ]
  },
  {
   "cell_type": "code",
   "execution_count": 30,
   "metadata": {},
   "outputs": [
    {
     "data": {
      "text/html": [
       "<div>\n",
       "<style scoped>\n",
       "    .dataframe tbody tr th:only-of-type {\n",
       "        vertical-align: middle;\n",
       "    }\n",
       "\n",
       "    .dataframe tbody tr th {\n",
       "        vertical-align: top;\n",
       "    }\n",
       "\n",
       "    .dataframe thead th {\n",
       "        text-align: right;\n",
       "    }\n",
       "</style>\n",
       "<table border=\"1\" class=\"dataframe\">\n",
       "  <thead>\n",
       "    <tr style=\"text-align: right;\">\n",
       "      <th></th>\n",
       "      <th>emp_id</th>\n",
       "      <th>fname</th>\n",
       "      <th>lname</th>\n",
       "    </tr>\n",
       "  </thead>\n",
       "  <tbody>\n",
       "    <tr>\n",
       "      <th>0</th>\n",
       "      <td>1</td>\n",
       "      <td>Michael</td>\n",
       "      <td>Smith</td>\n",
       "    </tr>\n",
       "    <tr>\n",
       "      <th>1</th>\n",
       "      <td>2</td>\n",
       "      <td>Susan</td>\n",
       "      <td>Barker</td>\n",
       "    </tr>\n",
       "    <tr>\n",
       "      <th>2</th>\n",
       "      <td>3</td>\n",
       "      <td>Robert</td>\n",
       "      <td>Tyler</td>\n",
       "    </tr>\n",
       "    <tr>\n",
       "      <th>3</th>\n",
       "      <td>4</td>\n",
       "      <td>Susan</td>\n",
       "      <td>Hawthorne</td>\n",
       "    </tr>\n",
       "    <tr>\n",
       "      <th>4</th>\n",
       "      <td>5</td>\n",
       "      <td>John</td>\n",
       "      <td>Gooding</td>\n",
       "    </tr>\n",
       "  </tbody>\n",
       "</table>\n",
       "</div>"
      ],
      "text/plain": [
       "   emp_id    fname      lname\n",
       "0       1  Michael      Smith\n",
       "1       2    Susan     Barker\n",
       "2       3   Robert      Tyler\n",
       "3       4    Susan  Hawthorne\n",
       "4       5     John    Gooding"
      ]
     },
     "execution_count": 30,
     "metadata": {},
     "output_type": "execute_result"
    }
   ],
   "source": [
    "#Here is one approach to parsing the response into a df...\n",
    "df = pd.DataFrame(\n",
    "    {\n",
    "        'emp_id':[item[0] for item in response],\n",
    "        'fname':[item[1]for item in response],\n",
    "        'lname':[item[2]for item in response]\n",
    "    }\n",
    "    )\n",
    "df.head(5)"
   ]
  },
  {
   "cell_type": "code",
   "execution_count": null,
   "metadata": {},
   "outputs": [
    {
     "data": {
      "text/html": [
       "<div>\n",
       "<style scoped>\n",
       "    .dataframe tbody tr th:only-of-type {\n",
       "        vertical-align: middle;\n",
       "    }\n",
       "\n",
       "    .dataframe tbody tr th {\n",
       "        vertical-align: top;\n",
       "    }\n",
       "\n",
       "    .dataframe thead th {\n",
       "        text-align: right;\n",
       "    }\n",
       "</style>\n",
       "<table border=\"1\" class=\"dataframe\">\n",
       "  <thead>\n",
       "    <tr style=\"text-align: right;\">\n",
       "      <th></th>\n",
       "      <th>emp_id</th>\n",
       "      <th>fname</th>\n",
       "      <th>lname</th>\n",
       "    </tr>\n",
       "  </thead>\n",
       "  <tbody>\n",
       "    <tr>\n",
       "      <th>0</th>\n",
       "      <td>1</td>\n",
       "      <td>Michael</td>\n",
       "      <td>Smith</td>\n",
       "    </tr>\n",
       "    <tr>\n",
       "      <th>1</th>\n",
       "      <td>2</td>\n",
       "      <td>Susan</td>\n",
       "      <td>Barker</td>\n",
       "    </tr>\n",
       "    <tr>\n",
       "      <th>2</th>\n",
       "      <td>3</td>\n",
       "      <td>Robert</td>\n",
       "      <td>Tyler</td>\n",
       "    </tr>\n",
       "    <tr>\n",
       "      <th>3</th>\n",
       "      <td>4</td>\n",
       "      <td>Susan</td>\n",
       "      <td>Hawthorne</td>\n",
       "    </tr>\n",
       "    <tr>\n",
       "      <th>4</th>\n",
       "      <td>5</td>\n",
       "      <td>John</td>\n",
       "      <td>Gooding</td>\n",
       "    </tr>\n",
       "  </tbody>\n",
       "</table>\n",
       "</div>"
      ],
      "text/plain": [
       "   emp_id    fname      lname\n",
       "0       1  Michael      Smith\n",
       "1       2    Susan     Barker\n",
       "2       3   Robert      Tyler\n",
       "3       4    Susan  Hawthorne\n",
       "4       5     John    Gooding"
      ]
     },
     "execution_count": 32,
     "metadata": {},
     "output_type": "execute_result"
    }
   ],
   "source": [
    "# I think a better way to do this is to read in the whole response and assign the columns in the df construction\n",
    "cursor.execute(\"SELECT emp_id, fname, lname FROM employee\")\n",
    "\n",
    "df1 = pd.DataFrame(data=cursor.fetchall(), columns=['emp_id', 'fname', 'lname'])\n",
    "df1.head(5)"
   ]
  },
  {
   "cell_type": "code",
   "execution_count": null,
   "metadata": {},
   "outputs": [
    {
     "data": {
      "text/html": [
       "<div>\n",
       "<style scoped>\n",
       "    .dataframe tbody tr th:only-of-type {\n",
       "        vertical-align: middle;\n",
       "    }\n",
       "\n",
       "    .dataframe tbody tr th {\n",
       "        vertical-align: top;\n",
       "    }\n",
       "\n",
       "    .dataframe thead th {\n",
       "        text-align: right;\n",
       "    }\n",
       "</style>\n",
       "<table border=\"1\" class=\"dataframe\">\n",
       "  <thead>\n",
       "    <tr style=\"text-align: right;\">\n",
       "      <th></th>\n",
       "      <th>emp_id</th>\n",
       "      <th>fname</th>\n",
       "      <th>lname</th>\n",
       "    </tr>\n",
       "  </thead>\n",
       "  <tbody>\n",
       "    <tr>\n",
       "      <th>16</th>\n",
       "      <td>17</td>\n",
       "      <td>Beth</td>\n",
       "      <td>Fowler</td>\n",
       "    </tr>\n",
       "    <tr>\n",
       "      <th>6</th>\n",
       "      <td>7</td>\n",
       "      <td>Chris</td>\n",
       "      <td>Tucker</td>\n",
       "    </tr>\n",
       "    <tr>\n",
       "      <th>13</th>\n",
       "      <td>14</td>\n",
       "      <td>Cindy</td>\n",
       "      <td>Mason</td>\n",
       "    </tr>\n",
       "    <tr>\n",
       "      <th>14</th>\n",
       "      <td>15</td>\n",
       "      <td>Frank</td>\n",
       "      <td>Portman</td>\n",
       "    </tr>\n",
       "    <tr>\n",
       "      <th>5</th>\n",
       "      <td>6</td>\n",
       "      <td>Helen</td>\n",
       "      <td>Fleming</td>\n",
       "    </tr>\n",
       "    <tr>\n",
       "      <th>8</th>\n",
       "      <td>9</td>\n",
       "      <td>Jane</td>\n",
       "      <td>Grossman</td>\n",
       "    </tr>\n",
       "    <tr>\n",
       "      <th>12</th>\n",
       "      <td>13</td>\n",
       "      <td>John</td>\n",
       "      <td>Blake</td>\n",
       "    </tr>\n",
       "    <tr>\n",
       "      <th>4</th>\n",
       "      <td>5</td>\n",
       "      <td>John</td>\n",
       "      <td>Gooding</td>\n",
       "    </tr>\n",
       "    <tr>\n",
       "      <th>0</th>\n",
       "      <td>1</td>\n",
       "      <td>Michael</td>\n",
       "      <td>Smith</td>\n",
       "    </tr>\n",
       "    <tr>\n",
       "      <th>9</th>\n",
       "      <td>10</td>\n",
       "      <td>Paula</td>\n",
       "      <td>Roberts</td>\n",
       "    </tr>\n",
       "    <tr>\n",
       "      <th>17</th>\n",
       "      <td>18</td>\n",
       "      <td>Rick</td>\n",
       "      <td>Tulman</td>\n",
       "    </tr>\n",
       "    <tr>\n",
       "      <th>2</th>\n",
       "      <td>3</td>\n",
       "      <td>Robert</td>\n",
       "      <td>Tyler</td>\n",
       "    </tr>\n",
       "    <tr>\n",
       "      <th>11</th>\n",
       "      <td>12</td>\n",
       "      <td>Samantha</td>\n",
       "      <td>Jameson</td>\n",
       "    </tr>\n",
       "    <tr>\n",
       "      <th>7</th>\n",
       "      <td>8</td>\n",
       "      <td>Sarah</td>\n",
       "      <td>Parker</td>\n",
       "    </tr>\n",
       "    <tr>\n",
       "      <th>1</th>\n",
       "      <td>2</td>\n",
       "      <td>Susan</td>\n",
       "      <td>Barker</td>\n",
       "    </tr>\n",
       "    <tr>\n",
       "      <th>3</th>\n",
       "      <td>4</td>\n",
       "      <td>Susan</td>\n",
       "      <td>Hawthorne</td>\n",
       "    </tr>\n",
       "    <tr>\n",
       "      <th>15</th>\n",
       "      <td>16</td>\n",
       "      <td>Theresa</td>\n",
       "      <td>Markham</td>\n",
       "    </tr>\n",
       "    <tr>\n",
       "      <th>10</th>\n",
       "      <td>11</td>\n",
       "      <td>Thomas</td>\n",
       "      <td>Ziegler</td>\n",
       "    </tr>\n",
       "  </tbody>\n",
       "</table>\n",
       "</div>"
      ],
      "text/plain": [
       "    emp_id     fname      lname\n",
       "16      17      Beth     Fowler\n",
       "6        7     Chris     Tucker\n",
       "13      14     Cindy      Mason\n",
       "14      15     Frank    Portman\n",
       "5        6     Helen    Fleming\n",
       "8        9      Jane   Grossman\n",
       "12      13      John      Blake\n",
       "4        5      John    Gooding\n",
       "0        1   Michael      Smith\n",
       "9       10     Paula    Roberts\n",
       "17      18      Rick     Tulman\n",
       "2        3    Robert      Tyler\n",
       "11      12  Samantha    Jameson\n",
       "7        8     Sarah     Parker\n",
       "1        2     Susan     Barker\n",
       "3        4     Susan  Hawthorne\n",
       "15      16   Theresa    Markham\n",
       "10      11    Thomas    Ziegler"
      ]
     },
     "execution_count": 33,
     "metadata": {},
     "output_type": "execute_result"
    }
   ],
   "source": [
    "#Anywho... let's finish the problem. This should sort by last, then first\n",
    "df.sort_values(by='lname').sort_values(by='fname')"
   ]
  },
  {
   "cell_type": "markdown",
   "metadata": {},
   "source": [
    "As expected, the sort function can be chained together... Very convenient."
   ]
  },
  {
   "cell_type": "markdown",
   "metadata": {},
   "source": [
    "Now, try this with just a SQL query"
   ]
  },
  {
   "cell_type": "code",
   "execution_count": 42,
   "metadata": {},
   "outputs": [
    {
     "data": {
      "text/plain": [
       "[(17, 'Beth', 'Fowler'),\n",
       " (7, 'Chris', 'Tucker'),\n",
       " (14, 'Cindy', 'Mason'),\n",
       " (15, 'Frank', 'Portman'),\n",
       " (6, 'Helen', 'Fleming'),\n",
       " (9, 'Jane', 'Grossman'),\n",
       " (13, 'John', 'Blake'),\n",
       " (5, 'John', 'Gooding'),\n",
       " (1, 'Michael', 'Smith'),\n",
       " (10, 'Paula', 'Roberts'),\n",
       " (18, 'Rick', 'Tulman'),\n",
       " (3, 'Robert', 'Tyler'),\n",
       " (12, 'Samantha', 'Jameson'),\n",
       " (8, 'Sarah', 'Parker'),\n",
       " (2, 'Susan', 'Barker'),\n",
       " (4, 'Susan', 'Hawthorne'),\n",
       " (16, 'Theresa', 'Markham'),\n",
       " (11, 'Thomas', 'Ziegler')]"
      ]
     },
     "execution_count": 42,
     "metadata": {},
     "output_type": "execute_result"
    }
   ],
   "source": [
    "cursor.execute(\"SELECT emp_id, fname, lname FROM employee ORDER BY fname ASC, lname ASC;\")\n",
    "cursor.fetchall()"
   ]
  },
  {
   "cell_type": "markdown",
   "metadata": {},
   "source": [
    "Okay, so this can be done within in the SQL query, I just needed to swap the sort order."
   ]
  },
  {
   "cell_type": "markdown",
   "metadata": {},
   "source": [
    "### Exercise 3-2\n",
    "Retrieve the account ID, customer ID, and available balance for all accounts whose status equals 'ACTIVE' and whose available balance is greater than $2,500."
   ]
  },
  {
   "cell_type": "code",
   "execution_count": null,
   "metadata": {},
   "outputs": [
    {
     "data": {
      "text/plain": [
       "[(3, 1, 3000.0),\n",
       " (12, 4, 5487.09),\n",
       " (15, 6, 10000.0),\n",
       " (17, 7, 5000.0),\n",
       " (18, 8, 3487.19),\n",
       " (22, 9, 9345.55),\n",
       " (24, 10, 23575.12),\n",
       " (27, 11, 9345.55),\n",
       " (28, 12, 38552.05),\n",
       " (29, 13, 50000.0)]"
      ]
     },
     "execution_count": 49,
     "metadata": {},
     "output_type": "execute_result"
    }
   ],
   "source": [
    "#execute the query... this looks like its well suited for just a SQL command\n",
    "cursor.execute(\"SELECT account_id, cust_id, avail_balance FROM account WHERE status = 'ACTIVE' and avail_balance > '2500';\")\n",
    "cursor.fetchall()\n"
   ]
  },
  {
   "cell_type": "markdown",
   "metadata": {},
   "source": [
    "### Exercise 3-3\n",
    "\n",
    "Write a query against the account table that returns the IDs of the employees who opened the accounts (use the account.open_emp_id column). Include a single row for each distinct employee."
   ]
  },
  {
   "cell_type": "code",
   "execution_count": 50,
   "metadata": {},
   "outputs": [
    {
     "data": {
      "text/plain": [
       "[(13,), (10,), (1,), (16,)]"
      ]
     },
     "execution_count": 50,
     "metadata": {},
     "output_type": "execute_result"
    }
   ],
   "source": [
    "cursor.execute(\"SELECT DISTINCT open_emp_id FROM account\")\n",
    "cursor.fetchall()"
   ]
  },
  {
   "cell_type": "markdown",
   "metadata": {},
   "source": [
    "### Exercise 4-3\n",
    "\n",
    "Construct a query that retrieves all accounts opened in 2002."
   ]
  },
  {
   "cell_type": "code",
   "execution_count": null,
   "metadata": {},
   "outputs": [],
   "source": []
  }
 ],
 "metadata": {
  "kernelspec": {
   "display_name": "DSE5002",
   "language": "python",
   "name": "python3"
  },
  "language_info": {
   "codemirror_mode": {
    "name": "ipython",
    "version": 3
   },
   "file_extension": ".py",
   "mimetype": "text/x-python",
   "name": "python",
   "nbconvert_exporter": "python",
   "pygments_lexer": "ipython3",
   "version": "3.12.9"
  }
 },
 "nbformat": 4,
 "nbformat_minor": 2
}
