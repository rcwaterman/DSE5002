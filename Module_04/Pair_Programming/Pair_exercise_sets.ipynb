{
 "cells": [
  {
   "cell_type": "markdown",
   "id": "8e5f49d6-4a70-4361-8a4f-3926b3c4e078",
   "metadata": {},
   "source": [
    "Pair Exercise: Sets\n",
    "\n",
    "HD Sheets  July 2024\n",
    "\n",
    "For DSE5002\n",
    "\n",
    "Sources\n",
    "https://docs.python.org/2/library/sets.html"
   ]
  },
  {
   "cell_type": "markdown",
   "id": "71b4e299-6103-4194-aec4-098291f6bed7",
   "metadata": {},
   "source": [
    "Sets are unordered collections of unique objects\n",
    "\n",
    "They are mutable\n",
    "\n",
    "sets are defined within curly brackets {}"
   ]
  },
  {
   "cell_type": "code",
   "execution_count": 3,
   "id": "1c02bbdb-168d-44f9-91b9-6aa3120572a3",
   "metadata": {},
   "outputs": [
    {
     "data": {
      "text/plain": [
       "{1, 3, 5, 7, 9}"
      ]
     },
     "execution_count": 3,
     "metadata": {},
     "output_type": "execute_result"
    }
   ],
   "source": [
    "a={1,3,5,7,9,1,1}\n",
    "a"
   ]
  },
  {
   "cell_type": "markdown",
   "id": "dac30626-03e6-4681-a377-ff11eb40d87b",
   "metadata": {},
   "source": [
    "I entered 1 several times, but it only appears once in the set\n",
    "\n",
    "Values are in the set or not, there is no need to list them more than once\n"
   ]
  },
  {
   "cell_type": "code",
   "execution_count": 5,
   "id": "74dfff7b-6e84-4172-bef6-d541874f0adf",
   "metadata": {},
   "outputs": [
    {
     "name": "stdout",
     "output_type": "stream",
     "text": [
      "1\n",
      "3\n",
      "5\n",
      "7\n",
      "9\n"
     ]
    }
   ],
   "source": [
    "#we can iterate a set, but the order may be random\n",
    "\n",
    "for val in a:\n",
    "    print(val)"
   ]
  },
  {
   "cell_type": "code",
   "execution_count": 7,
   "id": "d658046d-fa4e-4620-a3f5-382e9e021ce9",
   "metadata": {},
   "outputs": [
    {
     "data": {
      "text/plain": [
       "['__and__',\n",
       " '__class__',\n",
       " '__class_getitem__',\n",
       " '__contains__',\n",
       " '__delattr__',\n",
       " '__dir__',\n",
       " '__doc__',\n",
       " '__eq__',\n",
       " '__format__',\n",
       " '__ge__',\n",
       " '__getattribute__',\n",
       " '__getstate__',\n",
       " '__gt__',\n",
       " '__hash__',\n",
       " '__iand__',\n",
       " '__init__',\n",
       " '__init_subclass__',\n",
       " '__ior__',\n",
       " '__isub__',\n",
       " '__iter__',\n",
       " '__ixor__',\n",
       " '__le__',\n",
       " '__len__',\n",
       " '__lt__',\n",
       " '__ne__',\n",
       " '__new__',\n",
       " '__or__',\n",
       " '__rand__',\n",
       " '__reduce__',\n",
       " '__reduce_ex__',\n",
       " '__repr__',\n",
       " '__ror__',\n",
       " '__rsub__',\n",
       " '__rxor__',\n",
       " '__setattr__',\n",
       " '__sizeof__',\n",
       " '__str__',\n",
       " '__sub__',\n",
       " '__subclasshook__',\n",
       " '__xor__',\n",
       " 'add',\n",
       " 'clear',\n",
       " 'copy',\n",
       " 'difference',\n",
       " 'difference_update',\n",
       " 'discard',\n",
       " 'intersection',\n",
       " 'intersection_update',\n",
       " 'isdisjoint',\n",
       " 'issubset',\n",
       " 'issuperset',\n",
       " 'pop',\n",
       " 'remove',\n",
       " 'symmetric_difference',\n",
       " 'symmetric_difference_update',\n",
       " 'union',\n",
       " 'update']"
      ]
     },
     "execution_count": 7,
     "metadata": {},
     "output_type": "execute_result"
    }
   ],
   "source": [
    "dir(a)"
   ]
  },
  {
   "cell_type": "code",
   "execution_count": 9,
   "id": "cfaa8f3c-334c-45d9-9980-d44fd2d54a4b",
   "metadata": {},
   "outputs": [
    {
     "data": {
      "text/plain": [
       "{1, 3, 5, 7, 9, 11}"
      ]
     },
     "execution_count": 9,
     "metadata": {},
     "output_type": "execute_result"
    }
   ],
   "source": [
    "#adding to a set\n",
    "a.add(11)\n",
    "a"
   ]
  },
  {
   "cell_type": "code",
   "execution_count": 11,
   "id": "355cc7f3-cf65-40f3-9a6d-8ec550f3e88d",
   "metadata": {},
   "outputs": [
    {
     "name": "stdout",
     "output_type": "stream",
     "text": [
      "{3, 5, 7, 9, 11}\n",
      "1\n"
     ]
    }
   ],
   "source": [
    "# there is a pop function, it removes an arbitrary element\n",
    "z=a.pop()\n",
    "print(a)\n",
    "print(z)"
   ]
  },
  {
   "cell_type": "code",
   "execution_count": 13,
   "id": "30b625f2-37ae-4174-8c48-c8039f17a137",
   "metadata": {},
   "outputs": [],
   "source": [
    "# add z back!\n",
    "a.add(z)"
   ]
  },
  {
   "cell_type": "code",
   "execution_count": 15,
   "id": "6a20b8e3-a5f7-474e-bd27-97bc7a93b53c",
   "metadata": {},
   "outputs": [
    {
     "data": {
      "text/plain": [
       "{1, 2, 3, 4, 5, 6, 7, 8, 9, 11}"
      ]
     },
     "execution_count": 15,
     "metadata": {},
     "output_type": "execute_result"
    }
   ],
   "source": [
    "#merging sets\n",
    "b={2,4,6,8}\n",
    "a.update(b)\n",
    "a"
   ]
  },
  {
   "cell_type": "code",
   "execution_count": 17,
   "id": "80eb6e5c-6c6c-4889-83d5-52724a4e31ce",
   "metadata": {},
   "outputs": [
    {
     "name": "stdout",
     "output_type": "stream",
     "text": [
      "{2, 4, 6}\n",
      "{2, 4, 6}\n"
     ]
    }
   ],
   "source": [
    "# adding an alias\n",
    "\n",
    "c=b\n",
    "c.pop()\n",
    "print(b)\n",
    "print(c)"
   ]
  },
  {
   "cell_type": "code",
   "execution_count": 27,
   "id": "3b51e04a-bea5-4f50-8349-5103e7315754",
   "metadata": {
    "scrolled": true
   },
   "outputs": [
    {
     "name": "stdout",
     "output_type": "stream",
     "text": [
      "{2, 3, 4, 5, 6, 7, 8, 9, 11}\n",
      "{1, 2, 3, 4, 5, 6, 7, 8, 9, 11}\n"
     ]
    }
   ],
   "source": [
    "#making a copy\n",
    "d=a.copy()\n",
    "d.pop()\n",
    "print(d)\n",
    "print(a)"
   ]
  },
  {
   "cell_type": "code",
   "execution_count": 29,
   "id": "4a5446e4-2dc7-4029-8c13-ab679a0b4caf",
   "metadata": {},
   "outputs": [
    {
     "data": {
      "text/plain": [
       "10"
      ]
     },
     "execution_count": 29,
     "metadata": {},
     "output_type": "execute_result"
    }
   ],
   "source": [
    "#find the length of a set\n",
    "\n",
    "len(a)"
   ]
  },
  {
   "cell_type": "markdown",
   "id": "00d1531e-d85a-4fdd-907e-f654d99e00f7",
   "metadata": {},
   "source": [
    "Set Operations"
   ]
  },
  {
   "cell_type": "code",
   "execution_count": 23,
   "id": "51ca6593-c7d5-4090-b313-3bc4f4086ad2",
   "metadata": {},
   "outputs": [
    {
     "data": {
      "text/plain": [
       "False"
      ]
     },
     "execution_count": 23,
     "metadata": {},
     "output_type": "execute_result"
    }
   ],
   "source": [
    "# testing for membership\n",
    "\n",
    "y=21\n",
    "y in a"
   ]
  },
  {
   "cell_type": "code",
   "execution_count": 25,
   "id": "b1ac8c2d-cb79-49e0-9540-d5ea9a155660",
   "metadata": {},
   "outputs": [
    {
     "data": {
      "text/plain": [
       "True"
      ]
     },
     "execution_count": 25,
     "metadata": {},
     "output_type": "execute_result"
    }
   ],
   "source": [
    "y not in a"
   ]
  },
  {
   "cell_type": "code",
   "execution_count": 31,
   "id": "fc61f175-6d67-489b-a82b-f49d01e1c36e",
   "metadata": {},
   "outputs": [
    {
     "data": {
      "text/plain": [
       "{'apple', 'banana', 'green', 'orange', 'red'}"
      ]
     },
     "execution_count": 31,
     "metadata": {},
     "output_type": "execute_result"
    }
   ],
   "source": [
    "#classic set operations\n",
    "\n",
    "t={\"apple\",\"orange\",\"banana\"}\n",
    "c={\"red\",\"green\",\"orange\"}\n",
    "\n",
    "#union\n",
    "t|c\n"
   ]
  },
  {
   "cell_type": "code",
   "execution_count": 33,
   "id": "569d124d-dd0e-4641-a187-fee763552892",
   "metadata": {},
   "outputs": [
    {
     "data": {
      "text/plain": [
       "{'orange'}"
      ]
     },
     "execution_count": 33,
     "metadata": {},
     "output_type": "execute_result"
    }
   ],
   "source": [
    "#intersection\n",
    "t&c"
   ]
  },
  {
   "cell_type": "code",
   "execution_count": 35,
   "id": "4c4fd20f-17ce-4c58-8797-cef1b6c82b01",
   "metadata": {},
   "outputs": [
    {
     "data": {
      "text/plain": [
       "{'apple', 'banana'}"
      ]
     },
     "execution_count": 35,
     "metadata": {},
     "output_type": "execute_result"
    }
   ],
   "source": [
    "#set differences\n",
    "t-c"
   ]
  },
  {
   "cell_type": "code",
   "execution_count": 37,
   "id": "627e66f0-2381-4281-b7ed-d850f135a799",
   "metadata": {},
   "outputs": [
    {
     "data": {
      "text/plain": [
       "{'green', 'red'}"
      ]
     },
     "execution_count": 37,
     "metadata": {},
     "output_type": "execute_result"
    }
   ],
   "source": [
    "c-t"
   ]
  },
  {
   "cell_type": "markdown",
   "id": "a2f2dfbd-51da-48df-820c-adc8c0112b54",
   "metadata": {},
   "source": [
    "Why is c-t not equal to c-t?  What is going on here?\n",
    "\n",
    "look up symmetric _difference for python sets\n",
    "\n",
    "Add a markdown cell and explain this"
   ]
  },
  {
   "cell_type": "markdown",
   "id": "d6bacf51-c71b-4a30-9aa5-778cafbb4ca9",
   "metadata": {},
   "source": [
    "What are sets good for?\n",
    "\n",
    "Testing for membership\n",
    "\n",
    "Sets work much faster for the \"in\" test,  since sets are hashed.\n",
    "\n",
    "the \"in\" test can be done using a list, but this is not hashed and thus 50 to 100 times slowere\n",
    "\n",
    "Not a big deal for a small project, a huge deal for a bit data set that is repeatedly re-analyzed\n"
   ]
  }
 ],
 "metadata": {
  "kernelspec": {
   "display_name": "Python 3 (ipykernel)",
   "language": "python",
   "name": "python3"
  },
  "language_info": {
   "codemirror_mode": {
    "name": "ipython",
    "version": 3
   },
   "file_extension": ".py",
   "mimetype": "text/x-python",
   "name": "python",
   "nbconvert_exporter": "python",
   "pygments_lexer": "ipython3",
   "version": "3.12.4"
  }
 },
 "nbformat": 4,
 "nbformat_minor": 5
}
