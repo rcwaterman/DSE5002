{
 "cells": [
  {
   "cell_type": "markdown",
   "id": "bd04a652-d5fa-462d-a5b7-9826f87567a4",
   "metadata": {},
   "source": [
    "Pair Exercise:  Tuples\n",
    "\n",
    "HD Sheets,  July 2024\n",
    "\n",
    "For DSE5002\n",
    "\n",
    "Sources\n",
    "\n",
    "https://docs.python.org/3/tutorial/datastructures.html\n",
    "\n",
    "a tuple is a sequence of values separated by commas, they do not need to be immutable\n",
    "\n",
    "tuples are ordered and can be iterated, but they are immutable"
   ]
  },
  {
   "cell_type": "code",
   "execution_count": 2,
   "id": "6c73a1ae-58f1-45fa-85fa-04983ba00905",
   "metadata": {},
   "outputs": [],
   "source": [
    "a=1,2,\"bob\",3,\"cathy\""
   ]
  },
  {
   "cell_type": "code",
   "execution_count": 4,
   "id": "1dea7a90-0ae3-4400-82cc-905c67cff386",
   "metadata": {},
   "outputs": [
    {
     "data": {
      "text/plain": [
       "(1, 2, 'bob', 3, 'cathy')"
      ]
     },
     "execution_count": 4,
     "metadata": {},
     "output_type": "execute_result"
    }
   ],
   "source": [
    "a"
   ]
  },
  {
   "cell_type": "code",
   "execution_count": 6,
   "id": "49ba20d9-e6da-4f52-9edc-c3634059b73c",
   "metadata": {},
   "outputs": [
    {
     "name": "stdout",
     "output_type": "stream",
     "text": [
      "1\n",
      "2\n",
      "bob\n",
      "3\n",
      "cathy\n"
     ]
    },
    {
     "data": {
      "text/plain": [
       "[None, None, None, None, None]"
      ]
     },
     "execution_count": 6,
     "metadata": {},
     "output_type": "execute_result"
    }
   ],
   "source": [
    "# comprehension\n",
    "\n",
    "[print(val) for val in a]"
   ]
  },
  {
   "cell_type": "code",
   "execution_count": 8,
   "id": "798d7b9d-b317-45b5-be2a-d5107ee323b2",
   "metadata": {},
   "outputs": [
    {
     "data": {
      "text/plain": [
       "2"
      ]
     },
     "execution_count": 8,
     "metadata": {},
     "output_type": "execute_result"
    }
   ],
   "source": [
    "#indexing\n",
    "\n",
    "a[1]"
   ]
  },
  {
   "cell_type": "code",
   "execution_count": 10,
   "id": "023ac2be-1c90-4aea-a8a3-92dafd8e2464",
   "metadata": {},
   "outputs": [
    {
     "ename": "TypeError",
     "evalue": "'tuple' object does not support item assignment",
     "output_type": "error",
     "traceback": [
      "\u001b[1;31m---------------------------------------------------------------------------\u001b[0m",
      "\u001b[1;31mTypeError\u001b[0m                                 Traceback (most recent call last)",
      "Cell \u001b[1;32mIn[10], line 3\u001b[0m\n\u001b[0;32m      1\u001b[0m \u001b[38;5;66;03m#tuples are immutable, no changes allowed\u001b[39;00m\n\u001b[1;32m----> 3\u001b[0m a[\u001b[38;5;241m1\u001b[39m]\u001b[38;5;241m=\u001b[39m\u001b[38;5;241m3\u001b[39m\n",
      "\u001b[1;31mTypeError\u001b[0m: 'tuple' object does not support item assignment"
     ]
    }
   ],
   "source": [
    "#tuples are immutable, no changes allowed\n",
    "\n",
    "a[1]=3"
   ]
  },
  {
   "cell_type": "code",
   "execution_count": 12,
   "id": "956759e3-dba1-4acd-8b32-5a55edb8c08d",
   "metadata": {},
   "outputs": [
    {
     "data": {
      "text/plain": [
       "((1, 2, 'bob', 3, 'cathy'), 3, 4, 5)"
      ]
     },
     "execution_count": 12,
     "metadata": {},
     "output_type": "execute_result"
    }
   ],
   "source": [
    "# we can combine tuples\n",
    "\n",
    "b=a,3,4,5\n",
    "\n",
    "b"
   ]
  },
  {
   "cell_type": "code",
   "execution_count": 14,
   "id": "3e57aab5-523e-4601-8a15-721e375f31ff",
   "metadata": {},
   "outputs": [
    {
     "data": {
      "text/plain": [
       "(1, 2, 'bob', 3, 'cathy')"
      ]
     },
     "execution_count": 14,
     "metadata": {},
     "output_type": "execute_result"
    }
   ],
   "source": [
    "#b is a tuple\n",
    "# the first item in b is a tuple\n",
    "b[0]"
   ]
  },
  {
   "cell_type": "code",
   "execution_count": 16,
   "id": "30e3f4e1-aad0-4bf4-afa3-0a0acdd0eff9",
   "metadata": {},
   "outputs": [
    {
     "data": {
      "text/plain": [
       "4"
      ]
     },
     "execution_count": 16,
     "metadata": {},
     "output_type": "execute_result"
    }
   ],
   "source": [
    "len(b)"
   ]
  },
  {
   "cell_type": "code",
   "execution_count": 18,
   "id": "b981a37b-d83c-4d24-8908-22871d4dd712",
   "metadata": {},
   "outputs": [
    {
     "name": "stdout",
     "output_type": "stream",
     "text": [
      "(1, 2, 'bob', 3, 'cathy')\n",
      "3\n",
      "4\n",
      "5\n"
     ]
    }
   ],
   "source": [
    "#tuple unpacking\n",
    "\n",
    "w,x,y,z=b\n",
    "\n",
    "print(w)\n",
    "print(x)\n",
    "print(y)\n",
    "print(z)"
   ]
  },
  {
   "cell_type": "markdown",
   "id": "bba30786-f926-463b-a12a-6bec818cb6e6",
   "metadata": {},
   "source": [
    "Tuples are useful for storing constants, as a sequence of fixed values of known length, in a\n",
    "fixed order\n",
    "\n",
    "Tuples are faster than lists,  which is the only meaningful distinction I can find :)"
   ]
  }
 ],
 "metadata": {
  "kernelspec": {
   "display_name": "Python 3 (ipykernel)",
   "language": "python",
   "name": "python3"
  },
  "language_info": {
   "codemirror_mode": {
    "name": "ipython",
    "version": 3
   },
   "file_extension": ".py",
   "mimetype": "text/x-python",
   "name": "python",
   "nbconvert_exporter": "python",
   "pygments_lexer": "ipython3",
   "version": "3.12.4"
  }
 },
 "nbformat": 4,
 "nbformat_minor": 5
}
