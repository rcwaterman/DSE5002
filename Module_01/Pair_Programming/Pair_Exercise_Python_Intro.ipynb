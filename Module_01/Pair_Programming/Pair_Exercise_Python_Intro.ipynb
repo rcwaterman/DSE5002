{
 "cells": [
  {
   "cell_type": "markdown",
   "id": "86811b49-d494-4d15-9ee5-a00f0d769d0e",
   "metadata": {},
   "source": [
    "# DSE5002 Module 1 Pair Programming \n",
    "\n",
    "# Ryan Waterman, March 2025\n",
    "\n",
    "# Intro to some Python Ideas"
   ]
  },
  {
   "cell_type": "markdown",
   "id": "670d68b4-4846-4704-84c4-0d4275db66c8",
   "metadata": {},
   "source": [
    "Basic Variables\n",
    "\n",
    "Python is dynamically typed, like R, so Python decides how to store variables when you declare them.\n",
    "\n",
    "Python has floating points,  integers, complex numbers, boolean and strings as the basic type elements\n",
    "\n",
    "It does not have a factor like R does\n",
    "\n",
    "The basic math operations work the same way they do in R"
   ]
  },
  {
   "cell_type": "code",
   "execution_count": 5,
   "id": "df67f18b-2206-4f9d-83c5-d4aeee1f82db",
   "metadata": {},
   "outputs": [
    {
     "name": "stdout",
     "output_type": "stream",
     "text": [
      "10\n"
     ]
    }
   ],
   "source": [
    "a=5\n",
    "b=5\n",
    "print(a+b)"
   ]
  },
  {
   "cell_type": "code",
   "execution_count": 6,
   "id": "13301b8c-485b-4fa7-99da-6633c513cec9",
   "metadata": {},
   "outputs": [
    {
     "data": {
      "text/plain": [
       "int"
      ]
     },
     "execution_count": 6,
     "metadata": {},
     "output_type": "execute_result"
    }
   ],
   "source": [
    "#We can use the type function to see what type of variable on object is\n",
    "type(a)"
   ]
  },
  {
   "cell_type": "code",
   "execution_count": 7,
   "id": "efd09b1d-fa90-4cba-b1a6-1c818cc0fccd",
   "metadata": {},
   "outputs": [
    {
     "data": {
      "text/plain": [
       "float"
      ]
     },
     "execution_count": 7,
     "metadata": {},
     "output_type": "execute_result"
    }
   ],
   "source": [
    "a=5.0\n",
    "type(a)"
   ]
  },
  {
   "cell_type": "markdown",
   "id": "5d7f31b1-480a-4df1-a7f2-8052eab894a7",
   "metadata": {},
   "source": [
    "# Question\n",
    "\n",
    "Why is a an integer in one case and a float in the other?\n",
    "\n",
    "# The variable is an integer in one case, and a float in the other because decimals are seen as 'floating point values' to the python interpreter."
   ]
  },
  {
   "cell_type": "code",
   "execution_count": 8,
   "id": "bd949cf2-aa00-4fec-8591-ae23e40b0260",
   "metadata": {},
   "outputs": [
    {
     "data": {
      "text/plain": [
       "str"
      ]
     },
     "execution_count": 8,
     "metadata": {},
     "output_type": "execute_result"
    }
   ],
   "source": [
    "a=\"5\"\n",
    "type(a)"
   ]
  },
  {
   "cell_type": "markdown",
   "id": "d4938829-19e7-4677-a540-6c1a36cc7190",
   "metadata": {},
   "source": [
    "Storage classes in Python,  such as str and more complex types have built in member functions that operate on items in the class\n",
    "\n",
    "\n",
    "The dir() function will show the variables in the class, which have underscores added, and functions which do not"
   ]
  },
  {
   "cell_type": "code",
   "execution_count": 14,
   "id": "ba68c2eb-025e-4bf3-a17a-3ba2f77a207f",
   "metadata": {},
   "outputs": [
    {
     "data": {
      "text/plain": [
       "['__add__',\n",
       " '__class__',\n",
       " '__contains__',\n",
       " '__delattr__',\n",
       " '__dir__',\n",
       " '__doc__',\n",
       " '__eq__',\n",
       " '__format__',\n",
       " '__ge__',\n",
       " '__getattribute__',\n",
       " '__getitem__',\n",
       " '__getnewargs__',\n",
       " '__getstate__',\n",
       " '__gt__',\n",
       " '__hash__',\n",
       " '__init__',\n",
       " '__init_subclass__',\n",
       " '__iter__',\n",
       " '__le__',\n",
       " '__len__',\n",
       " '__lt__',\n",
       " '__mod__',\n",
       " '__mul__',\n",
       " '__ne__',\n",
       " '__new__',\n",
       " '__reduce__',\n",
       " '__reduce_ex__',\n",
       " '__repr__',\n",
       " '__rmod__',\n",
       " '__rmul__',\n",
       " '__setattr__',\n",
       " '__sizeof__',\n",
       " '__str__',\n",
       " '__subclasshook__',\n",
       " 'capitalize',\n",
       " 'casefold',\n",
       " 'center',\n",
       " 'count',\n",
       " 'encode',\n",
       " 'endswith',\n",
       " 'expandtabs',\n",
       " 'find',\n",
       " 'format',\n",
       " 'format_map',\n",
       " 'index',\n",
       " 'isalnum',\n",
       " 'isalpha',\n",
       " 'isascii',\n",
       " 'isdecimal',\n",
       " 'isdigit',\n",
       " 'isidentifier',\n",
       " 'islower',\n",
       " 'isnumeric',\n",
       " 'isprintable',\n",
       " 'isspace',\n",
       " 'istitle',\n",
       " 'isupper',\n",
       " 'join',\n",
       " 'ljust',\n",
       " 'lower',\n",
       " 'lstrip',\n",
       " 'maketrans',\n",
       " 'partition',\n",
       " 'removeprefix',\n",
       " 'removesuffix',\n",
       " 'replace',\n",
       " 'rfind',\n",
       " 'rindex',\n",
       " 'rjust',\n",
       " 'rpartition',\n",
       " 'rsplit',\n",
       " 'rstrip',\n",
       " 'split',\n",
       " 'splitlines',\n",
       " 'startswith',\n",
       " 'strip',\n",
       " 'swapcase',\n",
       " 'title',\n",
       " 'translate',\n",
       " 'upper',\n",
       " 'zfill']"
      ]
     },
     "execution_count": 14,
     "metadata": {},
     "output_type": "execute_result"
    }
   ],
   "source": [
    "dir(a)\n"
   ]
  },
  {
   "cell_type": "markdown",
   "id": "45589c14-627a-4cf2-a962-767ba3168f89",
   "metadata": {},
   "source": [
    "Looking at a string, there is along list of available functions\n",
    "\n",
    "We'll define a more interesting string and see what some of these functions do.\n",
    "\n",
    "Notice how the member functions are called, as the variable name, a period and then the function name and parenthesis\n",
    "\n",
    "Not all functions in Python are member functions, this is just showing how to call member functions once you find them using\n",
    "dir()"
   ]
  },
  {
   "cell_type": "code",
   "execution_count": 7,
   "id": "a2c42130-984f-404c-9420-572e6e972415",
   "metadata": {},
   "outputs": [
    {
     "name": "stdout",
     "output_type": "stream",
     "text": [
      "JOE CHASED A LEAF,\n",
      "joe chased a leaf,\n",
      "Joe Chased A Leaf,\n"
     ]
    }
   ],
   "source": [
    "a=\"Joe chased a leaf,\"\n",
    "print(a.upper())\n",
    "print(a.lower())\n",
    "print(a.title())"
   ]
  },
  {
   "cell_type": "code",
   "execution_count": 8,
   "id": "a8f989dc-7461-4d78-adc7-40b55b10517b",
   "metadata": {},
   "outputs": [
    {
     "data": {
      "text/plain": [
       "['Joe', 'chased', 'a', 'leaf,']"
      ]
     },
     "execution_count": 8,
     "metadata": {},
     "output_type": "execute_result"
    }
   ],
   "source": [
    "a.split()"
   ]
  },
  {
   "cell_type": "markdown",
   "id": "55bddfc0-a298-4d43-b140-25eb1d8eacfc",
   "metadata": {},
   "source": [
    "The key idea here is that dir() can show you a bunch of useful functions available"
   ]
  },
  {
   "cell_type": "code",
   "execution_count": 10,
   "id": "f4c50b3b-4f7e-4d26-bf4b-4579b1a26df1",
   "metadata": {},
   "outputs": [
    {
     "data": {
      "text/plain": [
       "<method-wrapper '__len__' of str object at 0x000002623D8AAE90>"
      ]
     },
     "execution_count": 10,
     "metadata": {},
     "output_type": "execute_result"
    }
   ],
   "source": [
    "a.__len__"
   ]
  },
  {
   "cell_type": "code",
   "execution_count": 15,
   "id": "b721e37e-37fa-480f-b556-d41161403402",
   "metadata": {},
   "outputs": [
    {
     "name": "stdout",
     "output_type": "stream",
     "text": [
      "a\t b\t test\t test1\t \n"
     ]
    }
   ],
   "source": [
    "#this is an iPython \"magic\" command to see the user defined variables in use at the moment\n",
    "# it is a lift from the Matlab system\n",
    "# \"magic\" commands are utility commands in iPython or Jupyter, not part of python\n",
    "\n",
    "test1=1\n",
    "\n",
    "%who"
   ]
  },
  {
   "cell_type": "code",
   "execution_count": 16,
   "id": "60071387-c9be-4819-93a4-c6b62879f9b9",
   "metadata": {},
   "outputs": [
    {
     "name": "stdout",
     "output_type": "stream",
     "text": [
      "Variable   Type    Data/Info\n",
      "----------------------------\n",
      "a          str     Hello    World\n",
      "b          int     5\n",
      "test       str     Hello    World\n",
      "test1      int     1\n"
     ]
    }
   ],
   "source": [
    "%whos"
   ]
  },
  {
   "cell_type": "markdown",
   "id": "d579ba53-0c8b-459b-8a92-fda083a2877a",
   "metadata": {},
   "source": [
    "To see more about magic commands, see\n",
    "\n",
    "https://ipython.readthedocs.io/en/stable/interactive/magics.html\n",
    "\n"
   ]
  },
  {
   "cell_type": "markdown",
   "id": "efe0a8cb-e893-4922-91f7-ede0994d79d2",
   "metadata": {},
   "source": [
    "Thee are 4 types of built-in data structures in basic python\n",
    "\n",
    "list, tuple, dictionary and set\n",
    "\n",
    "We'll talk about them next week"
   ]
  },
  {
   "cell_type": "markdown",
   "id": "4e6e7cd4-21e2-49f9-bfb6-fa3341f30385",
   "metadata": {},
   "source": [
    "#Numpy\n",
    "\n",
    "Numpy stands for numerical python,   it has array and vector data types defined within it\n",
    "\n",
    "To create matrices and do matric operations in Python,  people typically use Numpy\n",
    "\n",
    "Many other structures and common python packages are built on top of numpy classes\n",
    "\n",
    "To use Numpy, we have to import the package.   Note that the package must already be installed in your environment\n",
    "\n",
    "np is the classic appreciation or alias for numpy"
   ]
  },
  {
   "cell_type": "code",
   "execution_count": 18,
   "id": "03bbf069-f343-4c1c-b322-8026fc01ce5f",
   "metadata": {},
   "outputs": [],
   "source": [
    "import numpy as np"
   ]
  },
  {
   "cell_type": "markdown",
   "id": "64a344d7-5b0b-467b-97bb-5d210dfe0c10",
   "metadata": {},
   "source": [
    "Numpy matrices \n",
    "\n",
    "-must all have the same type of element\n",
    "\n",
    "- are indexed by the row and column number\n",
    "\n",
    "-but like most other language, the first row is 0, and the first column is also 0\n",
    "    with R indices start with 1,  in python they start with 0\n",
    "    \n",
    "-think of the indices in python as the distance from the start of an array or matrix"
   ]
  },
  {
   "cell_type": "code",
   "execution_count": 19,
   "id": "0ad415b4-97c8-41ac-abd6-cfc70d96b541",
   "metadata": {},
   "outputs": [
    {
     "data": {
      "text/plain": [
       "matrix([[1, 2, 3],\n",
       "        [4, 5, 6],\n",
       "        [7, 8, 9]])"
      ]
     },
     "execution_count": 19,
     "metadata": {},
     "output_type": "execute_result"
    }
   ],
   "source": [
    "x=np.matrix('1 2 3; 4 5 6; 7 8 9')\n",
    "x"
   ]
  },
  {
   "cell_type": "code",
   "execution_count": 23,
   "id": "b7f00381-ea6a-4696-acc0-e0f12da806e2",
   "metadata": {},
   "outputs": [
    {
     "data": {
      "text/plain": [
       "np.int64(4)"
      ]
     },
     "execution_count": 23,
     "metadata": {},
     "output_type": "execute_result"
    }
   ],
   "source": [
    "x[1,0]"
   ]
  },
  {
   "cell_type": "markdown",
   "id": "50e0e911-8490-45be-b792-6e26544584ed",
   "metadata": {},
   "source": [
    "# Action/Question\n",
    "\n",
    "What is the index of the \"8\" in this matrix? \n",
    "\n",
    "# The index of 8 is [2,1]\n",
    "\n",
    "Test your answere"
   ]
  },
  {
   "cell_type": "code",
   "execution_count": 24,
   "id": "5ad60600-7cb2-4d37-8efe-4fc599d9e333",
   "metadata": {},
   "outputs": [
    {
     "data": {
      "text/plain": [
       "np.int64(8)"
      ]
     },
     "execution_count": 24,
     "metadata": {},
     "output_type": "execute_result"
    }
   ],
   "source": [
    "x[2,1]"
   ]
  },
  {
   "cell_type": "code",
   "execution_count": 25,
   "id": "c75252b5-eb38-4864-a9a7-0e8a47d1f536",
   "metadata": {},
   "outputs": [
    {
     "data": {
      "text/plain": [
       "numpy.matrix"
      ]
     },
     "execution_count": 25,
     "metadata": {},
     "output_type": "execute_result"
    }
   ],
   "source": [
    "type(x)"
   ]
  },
  {
   "cell_type": "code",
   "execution_count": 26,
   "id": "21d43cd8-ea81-4c2d-800d-41757bfb62ca",
   "metadata": {},
   "outputs": [
    {
     "data": {
      "text/plain": [
       "dtype('int64')"
      ]
     },
     "execution_count": 26,
     "metadata": {},
     "output_type": "execute_result"
    }
   ],
   "source": [
    "# dtype is an attribute of a numpy array that indicates the type of elements in the matrix\n",
    "\n",
    "x.dtype"
   ]
  },
  {
   "cell_type": "code",
   "execution_count": 27,
   "id": "d54bb84d-be85-447d-b934-2435c25615fb",
   "metadata": {},
   "outputs": [
    {
     "data": {
      "text/plain": [
       "9"
      ]
     },
     "execution_count": 27,
     "metadata": {},
     "output_type": "execute_result"
    }
   ],
   "source": [
    "x.size"
   ]
  },
  {
   "cell_type": "code",
   "execution_count": 28,
   "id": "682036ce-309c-4a14-bc64-579a8da1447f",
   "metadata": {},
   "outputs": [
    {
     "data": {
      "text/plain": [
       "(3, 3)"
      ]
     },
     "execution_count": 28,
     "metadata": {},
     "output_type": "execute_result"
    }
   ],
   "source": [
    "x.shape"
   ]
  },
  {
   "cell_type": "code",
   "execution_count": 29,
   "id": "5a48aec8-c42a-491a-a499-ad5a1c61c613",
   "metadata": {},
   "outputs": [
    {
     "data": {
      "text/plain": [
       "['A',\n",
       " 'A1',\n",
       " 'H',\n",
       " 'I',\n",
       " 'T',\n",
       " '__abs__',\n",
       " '__add__',\n",
       " '__and__',\n",
       " '__annotations__',\n",
       " '__array__',\n",
       " '__array_finalize__',\n",
       " '__array_function__',\n",
       " '__array_interface__',\n",
       " '__array_namespace__',\n",
       " '__array_priority__',\n",
       " '__array_struct__',\n",
       " '__array_ufunc__',\n",
       " '__array_wrap__',\n",
       " '__bool__',\n",
       " '__buffer__',\n",
       " '__class__',\n",
       " '__class_getitem__',\n",
       " '__complex__',\n",
       " '__contains__',\n",
       " '__copy__',\n",
       " '__deepcopy__',\n",
       " '__delattr__',\n",
       " '__delitem__',\n",
       " '__dict__',\n",
       " '__dir__',\n",
       " '__divmod__',\n",
       " '__dlpack__',\n",
       " '__dlpack_device__',\n",
       " '__doc__',\n",
       " '__eq__',\n",
       " '__float__',\n",
       " '__floordiv__',\n",
       " '__format__',\n",
       " '__ge__',\n",
       " '__getattribute__',\n",
       " '__getitem__',\n",
       " '__getstate__',\n",
       " '__gt__',\n",
       " '__hash__',\n",
       " '__iadd__',\n",
       " '__iand__',\n",
       " '__ifloordiv__',\n",
       " '__ilshift__',\n",
       " '__imatmul__',\n",
       " '__imod__',\n",
       " '__imul__',\n",
       " '__index__',\n",
       " '__init__',\n",
       " '__init_subclass__',\n",
       " '__int__',\n",
       " '__invert__',\n",
       " '__ior__',\n",
       " '__ipow__',\n",
       " '__irshift__',\n",
       " '__isub__',\n",
       " '__iter__',\n",
       " '__itruediv__',\n",
       " '__ixor__',\n",
       " '__le__',\n",
       " '__len__',\n",
       " '__lshift__',\n",
       " '__lt__',\n",
       " '__matmul__',\n",
       " '__mod__',\n",
       " '__module__',\n",
       " '__mul__',\n",
       " '__ne__',\n",
       " '__neg__',\n",
       " '__new__',\n",
       " '__or__',\n",
       " '__pos__',\n",
       " '__pow__',\n",
       " '__radd__',\n",
       " '__rand__',\n",
       " '__rdivmod__',\n",
       " '__reduce__',\n",
       " '__reduce_ex__',\n",
       " '__repr__',\n",
       " '__rfloordiv__',\n",
       " '__rlshift__',\n",
       " '__rmatmul__',\n",
       " '__rmod__',\n",
       " '__rmul__',\n",
       " '__ror__',\n",
       " '__rpow__',\n",
       " '__rrshift__',\n",
       " '__rshift__',\n",
       " '__rsub__',\n",
       " '__rtruediv__',\n",
       " '__rxor__',\n",
       " '__setattr__',\n",
       " '__setitem__',\n",
       " '__setstate__',\n",
       " '__sizeof__',\n",
       " '__str__',\n",
       " '__sub__',\n",
       " '__subclasshook__',\n",
       " '__truediv__',\n",
       " '__xor__',\n",
       " '_align',\n",
       " '_collapse',\n",
       " '_getitem',\n",
       " 'all',\n",
       " 'any',\n",
       " 'argmax',\n",
       " 'argmin',\n",
       " 'argpartition',\n",
       " 'argsort',\n",
       " 'astype',\n",
       " 'base',\n",
       " 'byteswap',\n",
       " 'choose',\n",
       " 'clip',\n",
       " 'compress',\n",
       " 'conj',\n",
       " 'conjugate',\n",
       " 'copy',\n",
       " 'ctypes',\n",
       " 'cumprod',\n",
       " 'cumsum',\n",
       " 'data',\n",
       " 'device',\n",
       " 'diagonal',\n",
       " 'dot',\n",
       " 'dtype',\n",
       " 'dump',\n",
       " 'dumps',\n",
       " 'fill',\n",
       " 'flags',\n",
       " 'flat',\n",
       " 'flatten',\n",
       " 'getA',\n",
       " 'getA1',\n",
       " 'getH',\n",
       " 'getI',\n",
       " 'getT',\n",
       " 'getfield',\n",
       " 'imag',\n",
       " 'item',\n",
       " 'itemset',\n",
       " 'itemsize',\n",
       " 'mT',\n",
       " 'max',\n",
       " 'mean',\n",
       " 'min',\n",
       " 'nbytes',\n",
       " 'ndim',\n",
       " 'newbyteorder',\n",
       " 'nonzero',\n",
       " 'partition',\n",
       " 'prod',\n",
       " 'ptp',\n",
       " 'put',\n",
       " 'ravel',\n",
       " 'real',\n",
       " 'repeat',\n",
       " 'reshape',\n",
       " 'resize',\n",
       " 'round',\n",
       " 'searchsorted',\n",
       " 'setfield',\n",
       " 'setflags',\n",
       " 'shape',\n",
       " 'size',\n",
       " 'sort',\n",
       " 'squeeze',\n",
       " 'std',\n",
       " 'strides',\n",
       " 'sum',\n",
       " 'swapaxes',\n",
       " 'take',\n",
       " 'to_device',\n",
       " 'tobytes',\n",
       " 'tofile',\n",
       " 'tolist',\n",
       " 'tostring',\n",
       " 'trace',\n",
       " 'transpose',\n",
       " 'var',\n",
       " 'view']"
      ]
     },
     "execution_count": 29,
     "metadata": {},
     "output_type": "execute_result"
    }
   ],
   "source": [
    "dir(x)"
   ]
  },
  {
   "cell_type": "markdown",
   "id": "2c0ce392-b26e-4114-9033-54d2a9f78b39",
   "metadata": {},
   "source": [
    "# Action\n",
    "\n",
    "Add a cell and try some different operations from the member functions,  see what they do"
   ]
  },
  {
   "cell_type": "code",
   "execution_count": 31,
   "id": "2477f9c7-5f69-4e06-a972-593df87bd112",
   "metadata": {},
   "outputs": [
    {
     "name": "stdout",
     "output_type": "stream",
     "text": [
      "[[1 4 7]\n",
      " [2 5 8]\n",
      " [3 6 9]]\n",
      "[[1 4 7]\n",
      " [2 5 8]\n",
      " [3 6 9]]\n",
      "[[1 2 3 4 5 6 7 8 9]]\n"
     ]
    }
   ],
   "source": [
    "print(x.T)\n",
    "print(x.transpose())\n",
    "print(x.reshape(1, 9))"
   ]
  },
  {
   "cell_type": "markdown",
   "id": "69df70ad-9876-453c-9a63-bff8318b2efc",
   "metadata": {},
   "source": [
    "Specialized Matrices"
   ]
  },
  {
   "cell_type": "code",
   "execution_count": 32,
   "id": "8608014d-aabd-452a-b9be-1e2fcbe8cfb6",
   "metadata": {},
   "outputs": [
    {
     "data": {
      "text/plain": [
       "array([[1., 0., 0., 0., 0., 0.],\n",
       "       [0., 1., 0., 0., 0., 0.],\n",
       "       [0., 0., 1., 0., 0., 0.],\n",
       "       [0., 0., 0., 1., 0., 0.],\n",
       "       [0., 0., 0., 0., 1., 0.],\n",
       "       [0., 0., 0., 0., 0., 1.]])"
      ]
     },
     "execution_count": 32,
     "metadata": {},
     "output_type": "execute_result"
    }
   ],
   "source": [
    "x=np.identity(6)\n",
    "x"
   ]
  },
  {
   "cell_type": "code",
   "execution_count": 35,
   "id": "e268a7c4-9cd6-45e4-92c6-24ab7ffe08de",
   "metadata": {},
   "outputs": [
    {
     "name": "stdout",
     "output_type": "stream",
     "text": [
      "[[1. 1. 1. 1. 1.]\n",
      " [1. 1. 1. 1. 1.]\n",
      " [1. 1. 1. 1. 1.]\n",
      " [1. 1. 1. 1. 1.]]\n"
     ]
    },
    {
     "data": {
      "text/plain": [
       "dtype('float64')"
      ]
     },
     "execution_count": 35,
     "metadata": {},
     "output_type": "execute_result"
    }
   ],
   "source": [
    "x=np.ones((4,5))\n",
    "print(x)\n",
    "x.dtype"
   ]
  },
  {
   "cell_type": "code",
   "execution_count": 36,
   "id": "2ca40bd7-621c-47a2-9a37-1e962b25ce8a",
   "metadata": {},
   "outputs": [
    {
     "name": "stdout",
     "output_type": "stream",
     "text": [
      "[[0. 0. 0. 0. 0. 0.]\n",
      " [0. 0. 0. 0. 0. 0.]\n",
      " [0. 0. 0. 0. 0. 0.]]\n"
     ]
    },
    {
     "data": {
      "text/plain": [
       "dtype('float64')"
      ]
     },
     "execution_count": 36,
     "metadata": {},
     "output_type": "execute_result"
    }
   ],
   "source": [
    "x=np.zeros((3,6))\n",
    "print(x)\n",
    "x.dtype"
   ]
  },
  {
   "cell_type": "markdown",
   "id": "ce78bfff-6ea3-44ab-93c4-dc4461b48713",
   "metadata": {},
   "source": [
    "To learn more about using Numpy to do linear algebra see:\n",
    "\n",
    "https://numpy.org/doc/stable/user/absolute_beginners.html\n",
    "\n",
    "Another option is\n",
    "\n",
    "https://www.kaggle.com/code/legendadnan/numpy-tutorial-for-beginners-data-science"
   ]
  },
  {
   "cell_type": "markdown",
   "id": "d0cdaed8-e0ea-41a3-bc9a-0d3c79146c48",
   "metadata": {},
   "source": [
    "#Pandas\n",
    "\n",
    "Pandas is a libary that implies a data frame,  much like the dataframes in R, or a data table in SQL\n",
    "\n",
    "Each row is an observation,   each column is a variable.\n",
    "\n",
    "The columns are actually 1 dimensional numpy arrays (ie n x 1 matrics, for n rows)\n",
    "\n",
    "There are an immense number of member functions to let us carry out operations on Pandas dataframes\n",
    "\n",
    "Slicing, sorting and selecting work much like they do in R\n",
    "\n",
    "We typically import pandas as pd"
   ]
  },
  {
   "cell_type": "code",
   "execution_count": 1,
   "id": "f5010e17-d3c3-44c9-a872-f2c4eb94644c",
   "metadata": {},
   "outputs": [],
   "source": [
    "import pandas as pd"
   ]
  },
  {
   "cell_type": "code",
   "execution_count": 38,
   "id": "69c74b4c-5f89-4f62-8bf0-87e0e6a115b5",
   "metadata": {},
   "outputs": [],
   "source": [
    "#edit this line so it contains the full path name for the Boston Asssessment_Roll_2024.cvs\n",
    "\n",
    "\n",
    "infile=\"Boston_Assessment_Roll_2024.csv\""
   ]
  },
  {
   "cell_type": "code",
   "execution_count": 39,
   "id": "1f73a219-6419-4855-bc94-dc4729735996",
   "metadata": {},
   "outputs": [
    {
     "name": "stderr",
     "output_type": "stream",
     "text": [
      "C:\\Users\\water\\AppData\\Local\\Temp\\ipykernel_9536\\3031399445.py:3: DtypeWarning: Columns (21) have mixed types. Specify dtype option on import or set low_memory=False.\n",
      "  Boston_roll=pd.read_csv(infile)\n"
     ]
    }
   ],
   "source": [
    "#import the file,  place it into a Pandas dataframe\n",
    "\n",
    "Boston_roll=pd.read_csv(infile)"
   ]
  },
  {
   "cell_type": "code",
   "execution_count": 40,
   "id": "d1be009f-c6a3-4e98-930a-95663085032a",
   "metadata": {},
   "outputs": [
    {
     "data": {
      "text/html": [
       "<div>\n",
       "<style scoped>\n",
       "    .dataframe tbody tr th:only-of-type {\n",
       "        vertical-align: middle;\n",
       "    }\n",
       "\n",
       "    .dataframe tbody tr th {\n",
       "        vertical-align: top;\n",
       "    }\n",
       "\n",
       "    .dataframe thead th {\n",
       "        text-align: right;\n",
       "    }\n",
       "</style>\n",
       "<table border=\"1\" class=\"dataframe\">\n",
       "  <thead>\n",
       "    <tr style=\"text-align: right;\">\n",
       "      <th></th>\n",
       "      <th>_id</th>\n",
       "      <th>PID</th>\n",
       "      <th>CM_ID</th>\n",
       "      <th>GIS_ID</th>\n",
       "      <th>ST_NUM</th>\n",
       "      <th>ST_NAME</th>\n",
       "      <th>UNIT_NUM</th>\n",
       "      <th>CITY</th>\n",
       "      <th>ZIP_CODE</th>\n",
       "      <th>BLDG_SEQ</th>\n",
       "      <th>...</th>\n",
       "      <th>KITCHEN_STYLE2</th>\n",
       "      <th>KITCHEN_STYLE3</th>\n",
       "      <th>HEAT_TYPE</th>\n",
       "      <th>HEAT_SYSTEM</th>\n",
       "      <th>AC_TYPE</th>\n",
       "      <th>FIREPLACES</th>\n",
       "      <th>ORIENTATION</th>\n",
       "      <th>NUM_PARKING</th>\n",
       "      <th>PROP_VIEW</th>\n",
       "      <th>CORNER_UNIT</th>\n",
       "    </tr>\n",
       "  </thead>\n",
       "  <tbody>\n",
       "    <tr>\n",
       "      <th>0</th>\n",
       "      <td>1</td>\n",
       "      <td>100001000</td>\n",
       "      <td>NaN</td>\n",
       "      <td>100001000</td>\n",
       "      <td>104.0</td>\n",
       "      <td>PUTNAM ST</td>\n",
       "      <td>NaN</td>\n",
       "      <td>EAST BOSTON</td>\n",
       "      <td>2128.0</td>\n",
       "      <td>1</td>\n",
       "      <td>...</td>\n",
       "      <td>S - Semi-Modern</td>\n",
       "      <td>S - Semi-Modern</td>\n",
       "      <td>W - Ht Water/Steam</td>\n",
       "      <td>NaN</td>\n",
       "      <td>N - None</td>\n",
       "      <td>0.0</td>\n",
       "      <td>NaN</td>\n",
       "      <td>3.0</td>\n",
       "      <td>A - Average</td>\n",
       "      <td>NaN</td>\n",
       "    </tr>\n",
       "    <tr>\n",
       "      <th>1</th>\n",
       "      <td>2</td>\n",
       "      <td>100002000</td>\n",
       "      <td>NaN</td>\n",
       "      <td>100002000</td>\n",
       "      <td>197.0</td>\n",
       "      <td>Lexington ST</td>\n",
       "      <td>NaN</td>\n",
       "      <td>EAST BOSTON</td>\n",
       "      <td>2128.0</td>\n",
       "      <td>1</td>\n",
       "      <td>...</td>\n",
       "      <td>M - Modern</td>\n",
       "      <td>M - Modern</td>\n",
       "      <td>F - Forced Hot Air</td>\n",
       "      <td>NaN</td>\n",
       "      <td>C - Central AC</td>\n",
       "      <td>0.0</td>\n",
       "      <td>NaN</td>\n",
       "      <td>0.0</td>\n",
       "      <td>A - Average</td>\n",
       "      <td>NaN</td>\n",
       "    </tr>\n",
       "    <tr>\n",
       "      <th>2</th>\n",
       "      <td>3</td>\n",
       "      <td>100003000</td>\n",
       "      <td>NaN</td>\n",
       "      <td>100003000</td>\n",
       "      <td>199.0</td>\n",
       "      <td>Lexington ST</td>\n",
       "      <td>NaN</td>\n",
       "      <td>EAST BOSTON</td>\n",
       "      <td>2128.0</td>\n",
       "      <td>1</td>\n",
       "      <td>...</td>\n",
       "      <td>S - Semi-Modern</td>\n",
       "      <td>S - Semi-Modern</td>\n",
       "      <td>S - Space Heat</td>\n",
       "      <td>NaN</td>\n",
       "      <td>N - None</td>\n",
       "      <td>0.0</td>\n",
       "      <td>NaN</td>\n",
       "      <td>0.0</td>\n",
       "      <td>A - Average</td>\n",
       "      <td>NaN</td>\n",
       "    </tr>\n",
       "    <tr>\n",
       "      <th>3</th>\n",
       "      <td>4</td>\n",
       "      <td>100004000</td>\n",
       "      <td>NaN</td>\n",
       "      <td>100004000</td>\n",
       "      <td>201.0</td>\n",
       "      <td>Lexington ST</td>\n",
       "      <td>NaN</td>\n",
       "      <td>EAST BOSTON</td>\n",
       "      <td>2128.0</td>\n",
       "      <td>1</td>\n",
       "      <td>...</td>\n",
       "      <td>S - Semi-Modern</td>\n",
       "      <td>S - Semi-Modern</td>\n",
       "      <td>W - Ht Water/Steam</td>\n",
       "      <td>NaN</td>\n",
       "      <td>N - None</td>\n",
       "      <td>0.0</td>\n",
       "      <td>NaN</td>\n",
       "      <td>0.0</td>\n",
       "      <td>A - Average</td>\n",
       "      <td>NaN</td>\n",
       "    </tr>\n",
       "    <tr>\n",
       "      <th>4</th>\n",
       "      <td>5</td>\n",
       "      <td>100005000</td>\n",
       "      <td>NaN</td>\n",
       "      <td>100005000</td>\n",
       "      <td>203.0</td>\n",
       "      <td>Lexington ST</td>\n",
       "      <td>NaN</td>\n",
       "      <td>EAST BOSTON</td>\n",
       "      <td>2128.0</td>\n",
       "      <td>1</td>\n",
       "      <td>...</td>\n",
       "      <td>N - No Remodeling</td>\n",
       "      <td>NaN</td>\n",
       "      <td>W - Ht Water/Steam</td>\n",
       "      <td>NaN</td>\n",
       "      <td>N - None</td>\n",
       "      <td>0.0</td>\n",
       "      <td>NaN</td>\n",
       "      <td>0.0</td>\n",
       "      <td>A - Average</td>\n",
       "      <td>NaN</td>\n",
       "    </tr>\n",
       "  </tbody>\n",
       "</table>\n",
       "<p>5 rows × 66 columns</p>\n",
       "</div>"
      ],
      "text/plain": [
       "   _id        PID  CM_ID     GIS_ID  ST_NUM       ST_NAME UNIT_NUM  \\\n",
       "0    1  100001000    NaN  100001000   104.0     PUTNAM ST      NaN   \n",
       "1    2  100002000    NaN  100002000   197.0  Lexington ST      NaN   \n",
       "2    3  100003000    NaN  100003000   199.0  Lexington ST      NaN   \n",
       "3    4  100004000    NaN  100004000   201.0  Lexington ST      NaN   \n",
       "4    5  100005000    NaN  100005000   203.0  Lexington ST      NaN   \n",
       "\n",
       "          CITY  ZIP_CODE  BLDG_SEQ  ...     KITCHEN_STYLE2   KITCHEN_STYLE3  \\\n",
       "0  EAST BOSTON    2128.0         1  ...    S - Semi-Modern  S - Semi-Modern   \n",
       "1  EAST BOSTON    2128.0         1  ...         M - Modern       M - Modern   \n",
       "2  EAST BOSTON    2128.0         1  ...    S - Semi-Modern  S - Semi-Modern   \n",
       "3  EAST BOSTON    2128.0         1  ...    S - Semi-Modern  S - Semi-Modern   \n",
       "4  EAST BOSTON    2128.0         1  ...  N - No Remodeling              NaN   \n",
       "\n",
       "            HEAT_TYPE HEAT_SYSTEM         AC_TYPE FIREPLACES ORIENTATION  \\\n",
       "0  W - Ht Water/Steam         NaN        N - None        0.0         NaN   \n",
       "1  F - Forced Hot Air         NaN  C - Central AC        0.0         NaN   \n",
       "2      S - Space Heat         NaN        N - None        0.0         NaN   \n",
       "3  W - Ht Water/Steam         NaN        N - None        0.0         NaN   \n",
       "4  W - Ht Water/Steam         NaN        N - None        0.0         NaN   \n",
       "\n",
       "  NUM_PARKING    PROP_VIEW CORNER_UNIT  \n",
       "0         3.0  A - Average         NaN  \n",
       "1         0.0  A - Average         NaN  \n",
       "2         0.0  A - Average         NaN  \n",
       "3         0.0  A - Average         NaN  \n",
       "4         0.0  A - Average         NaN  \n",
       "\n",
       "[5 rows x 66 columns]"
      ]
     },
     "execution_count": 40,
     "metadata": {},
     "output_type": "execute_result"
    }
   ],
   "source": [
    "# We have a head function, just as in R\n",
    "\n",
    "Boston_roll.head(5)"
   ]
  },
  {
   "cell_type": "code",
   "execution_count": 45,
   "id": "04c77077-1945-4f7e-b502-fbdeb9fee55c",
   "metadata": {},
   "outputs": [
    {
     "name": "stdout",
     "output_type": "stream",
     "text": [
      "0    EAST BOSTON\n",
      "1    EAST BOSTON\n",
      "2    EAST BOSTON\n",
      "3    EAST BOSTON\n",
      "4    EAST BOSTON\n",
      "Name: CITY, dtype: object\n",
      "0    2128.0\n",
      "1    2128.0\n",
      "2    2128.0\n",
      "3    2128.0\n",
      "4    2128.0\n",
      "Name: ZIP_CODE, dtype: float64\n"
     ]
    }
   ],
   "source": [
    "#We can access columns by name, rowns by number\n",
    "# Notice that 0:5 gives us all values from 0 to 4,  5 is not included\n",
    "\n",
    "print(Boston_roll[\"CITY\"][0:5])\n",
    "print(Boston_roll[\"ZIP_CODE\"][0:5])"
   ]
  },
  {
   "cell_type": "code",
   "execution_count": 48,
   "id": "f5bd9fce-f608-451f-b718-60789e051773",
   "metadata": {},
   "outputs": [
    {
     "data": {
      "text/plain": [
       "5    EAST BOSTON\n",
       "6    EAST BOSTON\n",
       "7    EAST BOSTON\n",
       "8    EAST BOSTON\n",
       "9    EAST BOSTON\n",
       "Name: CITY, dtype: object"
      ]
     },
     "execution_count": 48,
     "metadata": {},
     "output_type": "execute_result"
    }
   ],
   "source": [
    "# we can index using two numbers, note the need to use the .iloc notation to do this\n",
    "\n",
    "Boston_roll.iloc[5:10,7]"
   ]
  },
  {
   "cell_type": "code",
   "execution_count": 49,
   "id": "a922eb5b-39b7-4661-a410-46003952a836",
   "metadata": {},
   "outputs": [
    {
     "data": {
      "text/plain": [
       "['AC_TYPE',\n",
       " 'BDRM_COND',\n",
       " 'BED_RMS',\n",
       " 'BLDG_SEQ',\n",
       " 'BLDG_TYPE',\n",
       " 'BLDG_VALUE',\n",
       " 'BTHRM_STYLE1',\n",
       " 'BTHRM_STYLE2',\n",
       " 'BTHRM_STYLE3',\n",
       " 'CD_FLOOR',\n",
       " 'CITY',\n",
       " 'CM_ID',\n",
       " 'COM_UNITS',\n",
       " 'CORNER_UNIT',\n",
       " 'EXT_COND',\n",
       " 'EXT_FNISHED',\n",
       " 'FIREPLACES',\n",
       " 'FULL_BTH',\n",
       " 'GIS_ID',\n",
       " 'GROSS_AREA',\n",
       " 'GROSS_TAX',\n",
       " 'HEAT_SYSTEM',\n",
       " 'HEAT_TYPE',\n",
       " 'HLF_BTH',\n",
       " 'INT_COND',\n",
       " 'INT_WALL',\n",
       " 'KITCHENS',\n",
       " 'KITCHEN_STYLE1',\n",
       " 'KITCHEN_STYLE2',\n",
       " 'KITCHEN_STYLE3',\n",
       " 'KITCHEN_TYPE',\n",
       " 'LAND_SF',\n",
       " 'LAND_VALUE',\n",
       " 'LIVING_AREA',\n",
       " 'LU',\n",
       " 'LUC',\n",
       " 'LU_DESC',\n",
       " 'MAIL_ADDRESSEE',\n",
       " 'MAIL_CITY',\n",
       " 'MAIL_STATE',\n",
       " 'MAIL_STREET_ADDRESS',\n",
       " 'MAIL_ZIP_CODE',\n",
       " 'NUM_BLDGS',\n",
       " 'NUM_PARKING',\n",
       " 'ORIENTATION',\n",
       " 'OVERALL_COND',\n",
       " 'OWNER',\n",
       " 'OWN_OCC',\n",
       " 'PID',\n",
       " 'PROP_VIEW',\n",
       " 'RC_UNITS',\n",
       " 'RES_FLOOR',\n",
       " 'RES_UNITS',\n",
       " 'ROOF_COVER',\n",
       " 'ROOF_STRUCTURE',\n",
       " 'SFYI_VALUE',\n",
       " 'STRUCTURE_CLASS',\n",
       " 'ST_NAME',\n",
       " 'ST_NUM',\n",
       " 'T',\n",
       " 'TOTAL_VALUE',\n",
       " 'TT_RMS',\n",
       " 'UNIT_NUM',\n",
       " 'YR_BUILT',\n",
       " 'YR_REMODEL',\n",
       " 'ZIP_CODE',\n",
       " '_AXIS_LEN',\n",
       " '_AXIS_ORDERS',\n",
       " '_AXIS_TO_AXIS_NUMBER',\n",
       " '_HANDLED_TYPES',\n",
       " '__abs__',\n",
       " '__add__',\n",
       " '__and__',\n",
       " '__annotations__',\n",
       " '__array__',\n",
       " '__array_priority__',\n",
       " '__array_ufunc__',\n",
       " '__arrow_c_stream__',\n",
       " '__bool__',\n",
       " '__class__',\n",
       " '__contains__',\n",
       " '__copy__',\n",
       " '__dataframe__',\n",
       " '__dataframe_consortium_standard__',\n",
       " '__deepcopy__',\n",
       " '__delattr__',\n",
       " '__delitem__',\n",
       " '__dict__',\n",
       " '__dir__',\n",
       " '__divmod__',\n",
       " '__doc__',\n",
       " '__eq__',\n",
       " '__finalize__',\n",
       " '__floordiv__',\n",
       " '__format__',\n",
       " '__ge__',\n",
       " '__getattr__',\n",
       " '__getattribute__',\n",
       " '__getitem__',\n",
       " '__getstate__',\n",
       " '__gt__',\n",
       " '__hash__',\n",
       " '__iadd__',\n",
       " '__iand__',\n",
       " '__ifloordiv__',\n",
       " '__imod__',\n",
       " '__imul__',\n",
       " '__init__',\n",
       " '__init_subclass__',\n",
       " '__invert__',\n",
       " '__ior__',\n",
       " '__ipow__',\n",
       " '__isub__',\n",
       " '__iter__',\n",
       " '__itruediv__',\n",
       " '__ixor__',\n",
       " '__le__',\n",
       " '__len__',\n",
       " '__lt__',\n",
       " '__matmul__',\n",
       " '__mod__',\n",
       " '__module__',\n",
       " '__mul__',\n",
       " '__ne__',\n",
       " '__neg__',\n",
       " '__new__',\n",
       " '__nonzero__',\n",
       " '__or__',\n",
       " '__pandas_priority__',\n",
       " '__pos__',\n",
       " '__pow__',\n",
       " '__radd__',\n",
       " '__rand__',\n",
       " '__rdivmod__',\n",
       " '__reduce__',\n",
       " '__reduce_ex__',\n",
       " '__repr__',\n",
       " '__rfloordiv__',\n",
       " '__rmatmul__',\n",
       " '__rmod__',\n",
       " '__rmul__',\n",
       " '__ror__',\n",
       " '__round__',\n",
       " '__rpow__',\n",
       " '__rsub__',\n",
       " '__rtruediv__',\n",
       " '__rxor__',\n",
       " '__setattr__',\n",
       " '__setitem__',\n",
       " '__setstate__',\n",
       " '__sizeof__',\n",
       " '__str__',\n",
       " '__sub__',\n",
       " '__subclasshook__',\n",
       " '__truediv__',\n",
       " '__weakref__',\n",
       " '__xor__',\n",
       " '_accessors',\n",
       " '_accum_func',\n",
       " '_agg_examples_doc',\n",
       " '_agg_see_also_doc',\n",
       " '_align_for_op',\n",
       " '_align_frame',\n",
       " '_align_series',\n",
       " '_append',\n",
       " '_arith_method',\n",
       " '_arith_method_with_reindex',\n",
       " '_as_manager',\n",
       " '_attrs',\n",
       " '_box_col_values',\n",
       " '_can_fast_transpose',\n",
       " '_check_inplace_and_allows_duplicate_labels',\n",
       " '_check_is_chained_assignment_possible',\n",
       " '_check_label_or_level_ambiguity',\n",
       " '_check_setitem_copy',\n",
       " '_clear_item_cache',\n",
       " '_clip_with_one_bound',\n",
       " '_clip_with_scalar',\n",
       " '_cmp_method',\n",
       " '_combine_frame',\n",
       " '_consolidate',\n",
       " '_consolidate_inplace',\n",
       " '_construct_axes_dict',\n",
       " '_construct_result',\n",
       " '_constructor',\n",
       " '_constructor_from_mgr',\n",
       " '_constructor_sliced',\n",
       " '_constructor_sliced_from_mgr',\n",
       " '_create_data_for_split_and_tight_to_dict',\n",
       " '_data',\n",
       " '_deprecate_downcast',\n",
       " '_dir_additions',\n",
       " '_dir_deletions',\n",
       " '_dispatch_frame_op',\n",
       " '_drop_axis',\n",
       " '_drop_labels_or_levels',\n",
       " '_ensure_valid_index',\n",
       " '_find_valid_index',\n",
       " '_flags',\n",
       " '_flex_arith_method',\n",
       " '_flex_cmp_method',\n",
       " '_from_arrays',\n",
       " '_from_mgr',\n",
       " '_get_agg_axis',\n",
       " '_get_axis',\n",
       " '_get_axis_name',\n",
       " '_get_axis_number',\n",
       " '_get_axis_resolvers',\n",
       " '_get_block_manager_axis',\n",
       " '_get_bool_data',\n",
       " '_get_cleaned_column_resolvers',\n",
       " '_get_column_array',\n",
       " '_get_index_resolvers',\n",
       " '_get_item_cache',\n",
       " '_get_label_or_level_values',\n",
       " '_get_numeric_data',\n",
       " '_get_value',\n",
       " '_get_values_for_csv',\n",
       " '_getitem_bool_array',\n",
       " '_getitem_multilevel',\n",
       " '_getitem_nocopy',\n",
       " '_getitem_slice',\n",
       " '_gotitem',\n",
       " '_hidden_attrs',\n",
       " '_id',\n",
       " '_indexed_same',\n",
       " '_info_axis',\n",
       " '_info_axis_name',\n",
       " '_info_axis_number',\n",
       " '_info_repr',\n",
       " '_init_mgr',\n",
       " '_inplace_method',\n",
       " '_internal_names',\n",
       " '_internal_names_set',\n",
       " '_is_copy',\n",
       " '_is_homogeneous_type',\n",
       " '_is_label_or_level_reference',\n",
       " '_is_label_reference',\n",
       " '_is_level_reference',\n",
       " '_is_mixed_type',\n",
       " '_is_view',\n",
       " '_is_view_after_cow_rules',\n",
       " '_iset_item',\n",
       " '_iset_item_mgr',\n",
       " '_iset_not_inplace',\n",
       " '_item_cache',\n",
       " '_iter_column_arrays',\n",
       " '_ixs',\n",
       " '_logical_func',\n",
       " '_logical_method',\n",
       " '_maybe_align_series_as_frame',\n",
       " '_maybe_cache_changed',\n",
       " '_maybe_update_cacher',\n",
       " '_metadata',\n",
       " '_mgr',\n",
       " '_min_count_stat_function',\n",
       " '_needs_reindex_multi',\n",
       " '_pad_or_backfill',\n",
       " '_protect_consolidate',\n",
       " '_reduce',\n",
       " '_reduce_axis1',\n",
       " '_reindex_axes',\n",
       " '_reindex_multi',\n",
       " '_reindex_with_indexers',\n",
       " '_rename',\n",
       " '_replace_columnwise',\n",
       " '_repr_data_resource_',\n",
       " '_repr_fits_horizontal_',\n",
       " '_repr_fits_vertical_',\n",
       " '_repr_html_',\n",
       " '_repr_latex_',\n",
       " '_reset_cache',\n",
       " '_reset_cacher',\n",
       " '_sanitize_column',\n",
       " '_series',\n",
       " '_set_axis',\n",
       " '_set_axis_name',\n",
       " '_set_axis_nocheck',\n",
       " '_set_is_copy',\n",
       " '_set_item',\n",
       " '_set_item_frame_value',\n",
       " '_set_item_mgr',\n",
       " '_set_value',\n",
       " '_setitem_array',\n",
       " '_setitem_frame',\n",
       " '_setitem_slice',\n",
       " '_shift_with_freq',\n",
       " '_should_reindex_frame_op',\n",
       " '_slice',\n",
       " '_stat_function',\n",
       " '_stat_function_ddof',\n",
       " '_take_with_is_copy',\n",
       " '_to_dict_of_blocks',\n",
       " '_to_latex_via_styler',\n",
       " '_typ',\n",
       " '_update_inplace',\n",
       " '_validate_dtype',\n",
       " '_values',\n",
       " '_where',\n",
       " 'abs',\n",
       " 'add',\n",
       " 'add_prefix',\n",
       " 'add_suffix',\n",
       " 'agg',\n",
       " 'aggregate',\n",
       " 'align',\n",
       " 'all',\n",
       " 'any',\n",
       " 'apply',\n",
       " 'applymap',\n",
       " 'asfreq',\n",
       " 'asof',\n",
       " 'assign',\n",
       " 'astype',\n",
       " 'at',\n",
       " 'at_time',\n",
       " 'attrs',\n",
       " 'axes',\n",
       " 'backfill',\n",
       " 'between_time',\n",
       " 'bfill',\n",
       " 'bool',\n",
       " 'boxplot',\n",
       " 'clip',\n",
       " 'columns',\n",
       " 'combine',\n",
       " 'combine_first',\n",
       " 'compare',\n",
       " 'convert_dtypes',\n",
       " 'copy',\n",
       " 'corr',\n",
       " 'corrwith',\n",
       " 'count',\n",
       " 'cov',\n",
       " 'cummax',\n",
       " 'cummin',\n",
       " 'cumprod',\n",
       " 'cumsum',\n",
       " 'describe',\n",
       " 'diff',\n",
       " 'div',\n",
       " 'divide',\n",
       " 'dot',\n",
       " 'drop',\n",
       " 'drop_duplicates',\n",
       " 'droplevel',\n",
       " 'dropna',\n",
       " 'dtypes',\n",
       " 'duplicated',\n",
       " 'empty',\n",
       " 'eq',\n",
       " 'equals',\n",
       " 'eval',\n",
       " 'ewm',\n",
       " 'expanding',\n",
       " 'explode',\n",
       " 'ffill',\n",
       " 'fillna',\n",
       " 'filter',\n",
       " 'first',\n",
       " 'first_valid_index',\n",
       " 'flags',\n",
       " 'floordiv',\n",
       " 'from_dict',\n",
       " 'from_records',\n",
       " 'ge',\n",
       " 'get',\n",
       " 'groupby',\n",
       " 'gt',\n",
       " 'head',\n",
       " 'hist',\n",
       " 'iat',\n",
       " 'idxmax',\n",
       " 'idxmin',\n",
       " 'iloc',\n",
       " 'index',\n",
       " 'infer_objects',\n",
       " 'info',\n",
       " 'insert',\n",
       " 'interpolate',\n",
       " 'isetitem',\n",
       " 'isin',\n",
       " 'isna',\n",
       " 'isnull',\n",
       " 'items',\n",
       " 'iterrows',\n",
       " 'itertuples',\n",
       " 'join',\n",
       " 'keys',\n",
       " 'kurt',\n",
       " 'kurtosis',\n",
       " 'last',\n",
       " 'last_valid_index',\n",
       " 'le',\n",
       " 'loc',\n",
       " 'lt',\n",
       " 'map',\n",
       " 'mask',\n",
       " 'max',\n",
       " 'mean',\n",
       " 'median',\n",
       " 'melt',\n",
       " 'memory_usage',\n",
       " 'merge',\n",
       " 'min',\n",
       " 'mod',\n",
       " 'mode',\n",
       " 'mul',\n",
       " 'multiply',\n",
       " 'ndim',\n",
       " 'ne',\n",
       " 'nlargest',\n",
       " 'notna',\n",
       " 'notnull',\n",
       " 'nsmallest',\n",
       " 'nunique',\n",
       " 'pad',\n",
       " 'pct_change',\n",
       " 'pipe',\n",
       " 'pivot',\n",
       " 'pivot_table',\n",
       " 'plot',\n",
       " 'pop',\n",
       " 'pow',\n",
       " 'prod',\n",
       " 'product',\n",
       " 'quantile',\n",
       " 'query',\n",
       " 'radd',\n",
       " 'rank',\n",
       " 'rdiv',\n",
       " 'reindex',\n",
       " 'reindex_like',\n",
       " 'rename',\n",
       " 'rename_axis',\n",
       " 'reorder_levels',\n",
       " 'replace',\n",
       " 'resample',\n",
       " 'reset_index',\n",
       " 'rfloordiv',\n",
       " 'rmod',\n",
       " 'rmul',\n",
       " 'rolling',\n",
       " 'round',\n",
       " 'rpow',\n",
       " 'rsub',\n",
       " 'rtruediv',\n",
       " 'sample',\n",
       " 'select_dtypes',\n",
       " 'sem',\n",
       " 'set_axis',\n",
       " 'set_flags',\n",
       " 'set_index',\n",
       " 'shape',\n",
       " 'shift',\n",
       " 'size',\n",
       " 'skew',\n",
       " 'sort_index',\n",
       " 'sort_values',\n",
       " 'squeeze',\n",
       " 'stack',\n",
       " 'std',\n",
       " 'style',\n",
       " 'sub',\n",
       " 'subtract',\n",
       " 'sum',\n",
       " 'swapaxes',\n",
       " 'swaplevel',\n",
       " 'tail',\n",
       " 'take',\n",
       " 'to_clipboard',\n",
       " 'to_csv',\n",
       " 'to_dict',\n",
       " 'to_excel',\n",
       " 'to_feather',\n",
       " 'to_gbq',\n",
       " 'to_hdf',\n",
       " 'to_html',\n",
       " 'to_json',\n",
       " 'to_latex',\n",
       " 'to_markdown',\n",
       " 'to_numpy',\n",
       " 'to_orc',\n",
       " 'to_parquet',\n",
       " 'to_period',\n",
       " 'to_pickle',\n",
       " 'to_records',\n",
       " 'to_sql',\n",
       " 'to_stata',\n",
       " 'to_string',\n",
       " 'to_timestamp',\n",
       " 'to_xarray',\n",
       " 'to_xml',\n",
       " 'transform',\n",
       " 'transpose',\n",
       " 'truediv',\n",
       " 'truncate',\n",
       " 'tz_convert',\n",
       " 'tz_localize',\n",
       " 'unstack',\n",
       " 'update',\n",
       " 'value_counts',\n",
       " 'values',\n",
       " 'var',\n",
       " 'where',\n",
       " 'xs']"
      ]
     },
     "execution_count": 49,
     "metadata": {},
     "output_type": "execute_result"
    }
   ],
   "source": [
    "#let's look at the member functions\n",
    "\n",
    "dir(Boston_roll)"
   ]
  },
  {
   "cell_type": "markdown",
   "id": "db44cdad-e1c0-4dce-9164-eca152526625",
   "metadata": {},
   "source": [
    "Just a few options, eh?\n",
    "\n",
    "Pandas can do a lot of different things....\n",
    "\n",
    "We will see a lot more of Pandas later\n",
    "\n",
    "If you want to work ahead a bit\n",
    "\n",
    "https://www.kaggle.com/learn/pandas\n",
    "\n",
    "https://pandas.pydata.org/docs/getting_started/tutorials.html\n"
   ]
  }
 ],
 "metadata": {
  "kernelspec": {
   "display_name": "DSE5002",
   "language": "python",
   "name": "python3"
  },
  "language_info": {
   "codemirror_mode": {
    "name": "ipython",
    "version": 3
   },
   "file_extension": ".py",
   "mimetype": "text/x-python",
   "name": "python",
   "nbconvert_exporter": "python",
   "pygments_lexer": "ipython3",
   "version": "3.12.9"
  }
 },
 "nbformat": 4,
 "nbformat_minor": 5
}
