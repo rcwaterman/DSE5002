{
 "cells": [
  {
   "cell_type": "markdown",
   "id": "13a102f3-b40f-464c-85e9-da1a56adf367",
   "metadata": {},
   "source": [
    "# DSE5002 Homework/Lab 01\n",
    "\n",
    "These problems are all in the textbook,  I just cut and pasted the questions into this Python Notebook\n",
    "\n",
    "In future homeworks, you will have to constuct the notebook yourself,   I'm trying to go easy on you this week.\n",
    "\n",
    "Exercises from \n",
    "\n",
    "https://allendowney.github.io/ThinkPython/chap01.html\n",
    "\n",
    "and \n",
    "\n",
    "https://allendowney.github.io/ThinkPython/chap02.html"
   ]
  },
  {
   "cell_type": "markdown",
   "id": "cd88b88d-261d-44f1-95bf-9c35c1acc9af",
   "metadata": {},
   "source": [
    "Run these examples in an AI LLM model (chatbot, Claude, etc, take your pick)   \n",
    "Briefly comment in the cell below on how well this worked- only a few sentences are needed.\n",
    "\n",
    "1.9.1. Ask a virtual assistant\n",
    "\n",
    "As you work through this book, there are several ways you can use a virtual assistant or chatbot to help you learn.\n",
    "\n",
    "If you want to learn more about a topic in the chapter, or anything is unclear, you can ask for an explanation.\n",
    "\n",
    "If you are having a hard time with any of the exercises, you can ask for help.\n",
    "\n",
    "In each chapter, I’ll suggest exercises you can do with a virtual assistant, but I encourage you to try things on your own and see what works for you.\n",
    "\n",
    "Here are some topics you could ask a virtual assistant about:\n",
    "\n",
    "Earlier I mentioned bitwise operators but I didn’t explain why the value of 7 ^ 2 is 5. Try asking “What are the bitwise operators in Python?” or “What is the value of 7 XOR 2?”\n",
    "\n",
    "I also mentioned the order of operations. For more details, ask “What is the order of operations in Python?”\n",
    "\n",
    "The round function, which we used to round a floating-point number to the nearest integer, can take a second argument. Try asking “What are the arguments of the round function?” or “How do I round pi off to three decimal places?”\n",
    "\n",
    "There’s one more arithmetic operator I didn’t mention; try asking “What is the modulus operator in Python?”\n",
    "\n",
    "Most virtual assistants know about Python, so they answer questions like this pretty reliably. But remember that these tools make mistakes. If you get code from a chatbot, test it!"
   ]
  },
  {
   "cell_type": "markdown",
   "id": "f53d08a5-543d-4186-92fa-f41bd73c6e8f",
   "metadata": {},
   "source": [
    "\n",
    "\n",
    "\n",
    "\n",
    "\n"
   ]
  },
  {
   "cell_type": "markdown",
   "id": "dd290a15-a0a0-4d8c-bfd8-fe692f44116f",
   "metadata": {},
   "source": [
    "----------------------------------------------------------------------\n",
    "I wanted to experiment with ChatGPT o3-mini-high, which has been impressive when compared to the traditional instruct models. I asked it a more abstract question about python to see how it would respond. Question and response, below:\n",
    "\n",
    "**Question**\n",
    "\n",
    "How will the removal of the GIL in python version 3.13 affect multithreading performance? Will python ever have performance that rivals a compiled language?\n",
    "\n",
    "**Response**\n",
    "\n",
    "The removal of the GIL in Python 3.13 is expected to unlock true parallelism for CPU-bound threads, which means that programs that perform heavy computation concurrently can potentially run more efficiently on multi-core systems. However, the benefits and limitations should be understood in context:\n",
    "\n",
    "### Multithreading Performance Gains\n",
    "- **True Parallel Execution:** Without the GIL, threads in CPU-bound tasks will be able to execute concurrently on multiple cores, which can lead to significant performance improvements in scenarios that previously suffered from serialized execution.\n",
    "- **Increased Overhead:** To ensure thread safety without the GIL, the interpreter will need to adopt more fine-grained locking and synchronization mechanisms. This may introduce additional overhead in some cases, possibly affecting single-threaded performance or increasing the complexity of thread management.\n",
    "- **Impact on I/O-Bound Workloads:** For many I/O-bound applications, the impact of removing the GIL might be less pronounced because these applications typically spend much of their time waiting for external operations (where the GIL is less of a bottleneck).\n",
    "\n",
    "### Compatibility and Ecosystem Considerations\n",
    "- **C Extensions:** Many third-party C extensions have been written with the assumption of the GIL’s protection. These extensions will need to be revised for thread safety in a no-GIL environment, potentially creating transitional challenges.\n",
    "- **Legacy Code:** Some existing code might need adjustments to fully benefit from the new concurrency model, meaning the gains could be gradual as the ecosystem adapts.\n",
    "\n",
    "### Comparing Python with Compiled Languages\n",
    "- **Inherent Overhead:** Python is a dynamically typed, interpreted language, which means that even with improvements in multithreading, it carries overhead that is absent in statically compiled languages like C or C++. For raw, compute-intensive tasks, this overhead means Python will generally remain slower.\n",
    "- **Performance via Extensions:** In practice, many performance-critical parts of Python applications already rely on optimized C libraries (or alternatives like Cython, Numba, or PyPy). These strategies allow Python to achieve near-compiled performance in specific domains without changing the core language.\n",
    "- **Design Philosophy:** Python’s strengths lie in developer productivity, ease of use, and a rich ecosystem. While improvements like GIL removal can make a notable difference for concurrent applications, they don’t transform the language into a full substitute for compiled languages in terms of raw speed.\n",
    "\n",
    "### Future Outlook\n",
    "The removal of the GIL is an important milestone in Python’s evolution, particularly for applications that benefit from parallel CPU execution. However, the language’s dynamic nature and interpreter design mean that—without a radical overhaul of its core architecture—it is unlikely to consistently rival the performance of compiled languages on compute-heavy tasks. Instead, Python will continue to excel in its niche by leveraging interoperability with high-performance libraries and specialized tools when needed.\n",
    "\n",
    "In summary, while Python 3.13’s move toward a no-GIL environment promises improved multithreading performance in specific scenarios, it doesn’t signal a complete convergence with the raw speed of compiled languages. The improvements will enhance Python’s concurrency capabilities, but the language’s fundamental design still favors flexibility and ease of use over low-level, high-speed computation.\n",
    "\n",
    "----------------------------------------------------------------------"
   ]
  },
  {
   "cell_type": "markdown",
   "id": "1d85b96d-bc5b-471f-b418-484c8ed8ef9e",
   "metadata": {},
   "source": [
    "1.9.3. Exercise\n",
    "\r\n",
    "When you learn about a new feature, you should try it out and make mistakes on purpose. That way, you learn the error messages, and when you see them again, you will know what they mean. It is better to make mistakes now and deliberately than later and accidentally.\r\n",
    "\r\n",
    "You can use a minus sign to make a negative number like -2. What happens if you put a plus sign before a number? What about 2++2?\r\n",
    "\r\n",
    "What happens if you have two values with no operator between them, like 4 2?\r\n",
    "\r\n",
    "If you call a function like round(42.5), what happens if you leave out one or both paren\n",
    "\n",
    "{Write the code that checks all of these }theses?"
   ]
  },
  {
   "cell_type": "markdown",
   "id": "946ff3a5-fe94-4347-ad43-a2b9acdb8c37",
   "metadata": {},
   "source": [
    "---------------------------------------------------------"
   ]
  },
  {
   "cell_type": "code",
   "execution_count": 15,
   "id": "3a195b0e-d97f-4b7f-8e10-448e8dde4482",
   "metadata": {},
   "outputs": [
    {
     "name": "stdout",
     "output_type": "stream",
     "text": [
      "2\n"
     ]
    }
   ],
   "source": [
    "case_1 = +2\n",
    "print(case_1)"
   ]
  },
  {
   "cell_type": "markdown",
   "id": "86c425e7-2693-4449-a9f4-8ac1d8e6fe73",
   "metadata": {},
   "source": [
    "This is actually something that I did not know about python, which I have been programming in for about 2.5 years. Turns out, python implicitly handles the polarity of positive numbers. I asked ChatGPT o3-mini-high about this to learn more:\n",
    "\n",
    "**Question**\n",
    "\n",
    "Does python implicitly handle the polarity of numbers? I.E. +2 is evaluated as 2?\n",
    "\n",
    "**Response**\n",
    "\n",
    "Yes, Python treats `+2` the same as `2`. The unary plus operator (`+`) simply returns the value of its operand unchanged. This means that writing `+2` is just a more explicit way to denote the positive number 2, and the interpreter evaluates it as 2.\n",
    "\n",
    "For example:\n",
    "\n",
    "```python\n",
    "print(+2)  # Output: 2\n",
    "```\n",
    "\n",
    "In this case, the unary plus does not alter the value—it simply confirms that the number is positive.\n"
   ]
  },
  {
   "cell_type": "code",
   "execution_count": 25,
   "id": "29d2095f-0836-44d8-b13f-a0607b94404b",
   "metadata": {
    "scrolled": true
   },
   "outputs": [
    {
     "ename": "SyntaxError",
     "evalue": "invalid syntax (2036086842.py, line 1)",
     "output_type": "error",
     "traceback": [
      "\u001b[1;36m  Cell \u001b[1;32mIn[25], line 1\u001b[1;36m\u001b[0m\n\u001b[1;33m    case_2 = 4 2\u001b[0m\n\u001b[1;37m               ^\u001b[0m\n\u001b[1;31mSyntaxError\u001b[0m\u001b[1;31m:\u001b[0m invalid syntax\n"
     ]
    }
   ],
   "source": [
    "case_2 = 4 2\n",
    "print(case_2)"
   ]
  },
  {
   "cell_type": "markdown",
   "id": "a5fc21e5-3d1b-4cc5-883b-c27c4670ca64",
   "metadata": {},
   "source": [
    "This is evaluated as a syntax error at execution time, as the space indicates to the interpreter that the integer \"4\" has terminated, and it now expects an operator prior to the integer 2. The interpreter implicitly removes additional whitespace when the proper sequence of int - operator - int or float - operator - float is met. See below:"
   ]
  },
  {
   "cell_type": "code",
   "execution_count": 27,
   "id": "536a50e8-a9ba-4d33-83f5-4cfad7911231",
   "metadata": {},
   "outputs": [
    {
     "name": "stdout",
     "output_type": "stream",
     "text": [
      "6\n"
     ]
    }
   ],
   "source": [
    "case_2_alt =    4   +   2\n",
    "print(case_2_alt)"
   ]
  },
  {
   "cell_type": "markdown",
   "id": "52fa739a-32ee-47ef-9867-3502df74ba99",
   "metadata": {},
   "source": [
    "Interestingly, jupyter notebooks that run via the jupyter launcher in the anaconda navigator don't have a linter by default. I typically use VS Code for my IDE, and it handles debugging in real time with a debugging extension. \n",
    "\n",
    "![image](vs_code_ipynb.png)\n",
    "\n",
    "It seems like I can install debugging capabilities in the conda environment as well, so I will have to do some research."
   ]
  },
  {
   "cell_type": "code",
   "execution_count": 37,
   "id": "d21327ed-27e7-441e-ad21-fb0092e1cc83",
   "metadata": {},
   "outputs": [
    {
     "ename": "SyntaxError",
     "evalue": "incomplete input (1298877811.py, line 1)",
     "output_type": "error",
     "traceback": [
      "\u001b[1;36m  Cell \u001b[1;32mIn[37], line 1\u001b[1;36m\u001b[0m\n\u001b[1;33m    case_3 = round(42.5\u001b[0m\n\u001b[1;37m                       ^\u001b[0m\n\u001b[1;31mSyntaxError\u001b[0m\u001b[1;31m:\u001b[0m incomplete input\n"
     ]
    }
   ],
   "source": [
    "case_3 = round(42.5"
   ]
  },
  {
   "cell_type": "markdown",
   "id": "13471405-ca62-4cef-92e5-c3f5f5b0f62b",
   "metadata": {},
   "source": [
    "Again, this is another syntax error, as the function is missing it's terminating parenthesis. This would be the same for strings missing the terminating quotes."
   ]
  },
  {
   "cell_type": "markdown",
   "id": "8a52eff4-9241-42f6-9253-87735215576c",
   "metadata": {},
   "source": [
    "---------------------------------------------------------"
   ]
  },
  {
   "cell_type": "markdown",
   "id": "33e889fc-d397-47b3-a06f-9fe535741adf",
   "metadata": {},
   "source": [
    "1.9.4. Exercise\n",
    "Recall that every expression has a value, every value has a type, and we can use the type function to find the type of any value.\n",
    "\n",
    "What is the type of the value of the following expressions? Make your best guess for each one, and then use type to find out.\n",
    "\n",
    "765 - int\n",
    "\n",
    "2.718 - float\n",
    "\n",
    "'2 pi' - str\n",
    "\n",
    "abs(-7) - int (this is a nested function, so it will be evaluated from inner-most to outer-most. The abs() function returns a float or int, depending on what the input was)\n",
    "\n",
    "abs(-7.0) - float (this is a nested function, so it will be evaluated from inner-most to outer-most. The abs() function returns a float or int, depending on what the input was)\n",
    "\n",
    "abs - built_in_function\n",
    "\n",
    "int - probably class... not sure though\n",
    "\n",
    "type - probably class... not sure though\n",
    "\n",
    "{write the code below to check these}"
   ]
  },
  {
   "cell_type": "code",
   "execution_count": 41,
   "id": "818b3d0a-0524-4381-9778-d7625df622f9",
   "metadata": {},
   "outputs": [
    {
     "data": {
      "text/plain": [
       "int"
      ]
     },
     "execution_count": 41,
     "metadata": {},
     "output_type": "execute_result"
    }
   ],
   "source": [
    "type(765)"
   ]
  },
  {
   "cell_type": "code",
   "execution_count": 43,
   "id": "d8825290-0d46-4795-9914-06e6814c6a5e",
   "metadata": {},
   "outputs": [
    {
     "data": {
      "text/plain": [
       "float"
      ]
     },
     "execution_count": 43,
     "metadata": {},
     "output_type": "execute_result"
    }
   ],
   "source": [
    "type(2.718)"
   ]
  },
  {
   "cell_type": "code",
   "execution_count": 45,
   "id": "2cfe2e0e-b6e5-414c-bee3-92a6f5310255",
   "metadata": {},
   "outputs": [
    {
     "data": {
      "text/plain": [
       "str"
      ]
     },
     "execution_count": 45,
     "metadata": {},
     "output_type": "execute_result"
    }
   ],
   "source": [
    "type('2 pi')"
   ]
  },
  {
   "cell_type": "code",
   "execution_count": 47,
   "id": "077f23d8-afbb-4b5f-81ec-845db0e42d44",
   "metadata": {},
   "outputs": [
    {
     "data": {
      "text/plain": [
       "int"
      ]
     },
     "execution_count": 47,
     "metadata": {},
     "output_type": "execute_result"
    }
   ],
   "source": [
    "type(abs(-7))"
   ]
  },
  {
   "cell_type": "code",
   "execution_count": 49,
   "id": "c155cd41-d57c-4c7c-8eda-b4e7d2d641cd",
   "metadata": {},
   "outputs": [
    {
     "data": {
      "text/plain": [
       "float"
      ]
     },
     "execution_count": 49,
     "metadata": {},
     "output_type": "execute_result"
    }
   ],
   "source": [
    "type(abs(-7.0))"
   ]
  },
  {
   "cell_type": "code",
   "execution_count": 51,
   "id": "22a0d4f8-eefd-4d0d-a6c5-5130fd688ced",
   "metadata": {},
   "outputs": [
    {
     "data": {
      "text/plain": [
       "builtin_function_or_method"
      ]
     },
     "execution_count": 51,
     "metadata": {},
     "output_type": "execute_result"
    }
   ],
   "source": [
    "type(abs)"
   ]
  },
  {
   "cell_type": "code",
   "execution_count": 53,
   "id": "844eff75-7d8c-4535-9750-db20f1a4c372",
   "metadata": {},
   "outputs": [
    {
     "data": {
      "text/plain": [
       "type"
      ]
     },
     "execution_count": 53,
     "metadata": {},
     "output_type": "execute_result"
    }
   ],
   "source": [
    "type(int)"
   ]
  },
  {
   "cell_type": "code",
   "execution_count": 55,
   "id": "37a874bc-e9b4-4542-bc8b-6fb9118cb5a0",
   "metadata": {},
   "outputs": [
    {
     "data": {
      "text/plain": [
       "type"
      ]
     },
     "execution_count": 55,
     "metadata": {},
     "output_type": "execute_result"
    }
   ],
   "source": [
    "type(type)"
   ]
  },
  {
   "cell_type": "markdown",
   "id": "86ed1edd-5a78-4b56-add3-1e79bd065afd",
   "metadata": {},
   "source": [
    "I was off on the last two... so I asked ChatGPT, because I have been scratching my head about this.\n",
    "\n",
    "**Question** \n",
    "\n",
    "Why does type(int) in python return type and not class?\n",
    "\n",
    "**Response**\n",
    "\n",
    "In Python, classes are first-class objects created by a metaclass. The built-in metaclass is called `type`, which means every class (including `int`) is an instance of `type`. When you evaluate `type(int)`, you're asking for the type of the object `int`, and since `int` is a class created by the `type` metaclass, it returns `type`.\n",
    "\n",
    "To illustrate:\n",
    "\n",
    "```python\n",
    "print(type(2))   # Output: <class 'int'>\n",
    "print(type(int)) # Output: <class 'type'>\n",
    "```\n",
    "\n",
    "Here, `2` is an instance of the class `int`, so its type is `<class 'int'>`. On the other hand, `int` itself is a class, and because classes in Python are objects created by the metaclass `type`, `type(int)` returns `<class 'type'>`.\n",
    "\n",
    "This design underscores one of Python's core philosophies: everything is an object, and classes themselves are objects that are instances of a metaclass (by default, `type`).\n",
    "\n",
    "\n"
   ]
  },
  {
   "cell_type": "markdown",
   "id": "b43b80b9-7d70-46bf-8a3d-8ad7f946b250",
   "metadata": {},
   "source": [
    "I was completely unaware of the metaclass/subclass structure of python, but it makes sense if the design goal of the language is to have dynamic, implicitly determined types. The block, below, is the behavior I was expecting, but I now understand that int is a subclass of the metaclass type. "
   ]
  },
  {
   "cell_type": "code",
   "execution_count": 61,
   "id": "15cb4ad2-7746-4ded-8a37-246dca9ac18d",
   "metadata": {},
   "outputs": [
    {
     "name": "stdout",
     "output_type": "stream",
     "text": [
      "<class 'int'>\n"
     ]
    }
   ],
   "source": [
    "print(int)"
   ]
  },
  {
   "cell_type": "markdown",
   "id": "6a9936c4-72b7-4a8e-aaf9-e82d7bebdabc",
   "metadata": {},
   "source": [
    "---------------------------------------------------------"
   ]
  },
  {
   "cell_type": "markdown",
   "id": "4054eeb3-7637-4a1a-9407-0bdd33732353",
   "metadata": {},
   "source": [
    "1.9.5. Exercise\r\n",
    "The following questions give you a chance to practice writing arithmetic expressions.\r\n",
    "\r\n",
    "How many seconds are there in 42 minutes 42 seconds?\r\n",
    "\r\n",
    "How many miles are there in 10 kilometers? Hint: there are 1.61 kilometers in a mile.\r\n",
    "\r\n",
    "If you run a 10 kilometer race in 42 minutes 42 seconds, what is your average pace in seconds per mile?\r\n",
    "\r\n",
    "What is your average pace in minutes and seconds per mile?\r\n",
    "\r\n",
    "What is your average sps per hour?eed in mile\n",
    "\n",
    "{Write your s per hour?"
   ]
  },
  {
   "cell_type": "code",
   "execution_count": 63,
   "id": "eee0208e-7377-4fd0-aee1-abb33657feda",
   "metadata": {},
   "outputs": [
    {
     "name": "stdout",
     "output_type": "stream",
     "text": [
      "2562 seconds\n"
     ]
    }
   ],
   "source": [
    "print(f'{(42*60)+42} seconds')"
   ]
  },
  {
   "cell_type": "code",
   "execution_count": 67,
   "id": "5f9cbb44-e69e-4c30-ac4c-9d524b8bb649",
   "metadata": {},
   "outputs": [
    {
     "name": "stdout",
     "output_type": "stream",
     "text": [
      "6.21 miles\n"
     ]
    }
   ],
   "source": [
    "print(f'{round(10/1.61, 2)} miles')"
   ]
  },
  {
   "cell_type": "code",
   "execution_count": 73,
   "id": "99cd7ac4-fd25-409a-9b32-2e599a4a08b1",
   "metadata": {},
   "outputs": [
    {
     "name": "stdout",
     "output_type": "stream",
     "text": [
      "Pace: 412.482 seconds per mile\n"
     ]
    }
   ],
   "source": [
    "seconds = (42*60)+42\n",
    "miles = (10/1.61)\n",
    "pace = seconds/miles\n",
    "\n",
    "print(f'Pace: {pace} seconds per mile')"
   ]
  },
  {
   "cell_type": "code",
   "execution_count": 83,
   "id": "8f977765-d7c3-4685-bbc2-159161f9e6cc",
   "metadata": {},
   "outputs": [],
   "source": [
    "from math import floor"
   ]
  },
  {
   "cell_type": "code",
   "execution_count": 87,
   "id": "7e1cc136-fb5b-4201-8125-5d1805b5a26d",
   "metadata": {},
   "outputs": [
    {
     "name": "stdout",
     "output_type": "stream",
     "text": [
      "Pace: 6 minutes and 52 seconds per mile\n"
     ]
    }
   ],
   "source": [
    "print(f'Pace: {floor(pace/60)} minutes and {floor(pace%60)} seconds per mile')"
   ]
  },
  {
   "cell_type": "code",
   "execution_count": 95,
   "id": "356b8c58-031b-438e-9eb6-f60fc89d6a13",
   "metadata": {
    "scrolled": true
   },
   "outputs": [
    {
     "name": "stdout",
     "output_type": "stream",
     "text": [
      "Average speed: 8.73 miles per hour\n"
     ]
    }
   ],
   "source": [
    "print(f'Average speed: {round(3600/pace, 2)} miles per hour')"
   ]
  },
  {
   "cell_type": "markdown",
   "id": "6e7101af-b23c-43b5-bb6c-f52a9d11bd6d",
   "metadata": {},
   "source": [
    "---------------------------------------------------"
   ]
  },
  {
   "cell_type": "markdown",
   "id": "b797dbc8-58b1-4cc9-9ef2-132d515d931e",
   "metadata": {},
   "source": [
    "2.11.2. Exercise\r\n",
    "Repeating my advice from the previous chapter, whenever you learn a new feature, you should make errors on purpose to see what goes wrong.\r\n",
    "\r\n",
    "We’ve seen that n = 17 is legal. What about 17 = n?\r\n",
    "\r\n",
    "How about x = y = 1?\r\n",
    "\r\n",
    "In some languages every statement ends with a semi-colon (;). What happens if you put a semi-colon at the end of a Python statement?\r\n",
    "\r\n",
    "What if you put a period at the end of a statement?\r\n",
    "\r\n",
    "What happens if you spell the name of a module wrong and try to import maath?"
   ]
  },
  {
   "cell_type": "code",
   "execution_count": 121,
   "id": "1c861d89-d4fb-46f2-878e-7798c43937c2",
   "metadata": {},
   "outputs": [
    {
     "ename": "SyntaxError",
     "evalue": "invalid decimal literal (673833709.py, line 2)",
     "output_type": "error",
     "traceback": [
      "\u001b[1;36m  Cell \u001b[1;32mIn[121], line 2\u001b[1;36m\u001b[0m\n\u001b[1;33m    17var=n\u001b[0m\n\u001b[1;37m     ^\u001b[0m\n\u001b[1;31mSyntaxError\u001b[0m\u001b[1;31m:\u001b[0m invalid decimal literal\n"
     ]
    }
   ],
   "source": [
    "17=n"
   ]
  },
  {
   "cell_type": "code",
   "execution_count": 125,
   "id": "304a2d2f-d75c-4834-acb4-2e9500936e6a",
   "metadata": {},
   "outputs": [
    {
     "ename": "SyntaxError",
     "evalue": "invalid decimal literal (3910768882.py, line 1)",
     "output_type": "error",
     "traceback": [
      "\u001b[1;36m  Cell \u001b[1;32mIn[125], line 1\u001b[1;36m\u001b[0m\n\u001b[1;33m    17var=n\u001b[0m\n\u001b[1;37m     ^\u001b[0m\n\u001b[1;31mSyntaxError\u001b[0m\u001b[1;31m:\u001b[0m invalid decimal literal\n"
     ]
    }
   ],
   "source": [
    "17var=n"
   ]
  },
  {
   "cell_type": "code",
   "execution_count": 123,
   "id": "9005cd80-2ad5-4a5b-bfb5-5a7d7943f96f",
   "metadata": {},
   "outputs": [
    {
     "ename": "NameError",
     "evalue": "name 'n' is not defined",
     "output_type": "error",
     "traceback": [
      "\u001b[1;31m---------------------------------------------------------------------------\u001b[0m",
      "\u001b[1;31mNameError\u001b[0m                                 Traceback (most recent call last)",
      "Cell \u001b[1;32mIn[123], line 1\u001b[0m\n\u001b[1;32m----> 1\u001b[0m var17\u001b[38;5;241m=\u001b[39mn\n",
      "\u001b[1;31mNameError\u001b[0m: name 'n' is not defined"
     ]
    }
   ],
   "source": [
    "var17=n"
   ]
  },
  {
   "cell_type": "code",
   "execution_count": 131,
   "id": "049cdc3a-2097-41c4-8f13-b1bf8a3b76fc",
   "metadata": {},
   "outputs": [
    {
     "name": "stdout",
     "output_type": "stream",
     "text": [
      "17 17\n"
     ]
    }
   ],
   "source": [
    "n=17\n",
    "var17=n\n",
    "print(n, var17)"
   ]
  },
  {
   "cell_type": "markdown",
   "id": "7bca9cc4-f9e2-4745-ae0f-7a48e538d70f",
   "metadata": {},
   "source": [
    "Variable definitions can never begin with integers in python. Integers can be contained within the variable name, however."
   ]
  },
  {
   "cell_type": "code",
   "execution_count": 133,
   "id": "3cdee5b3-93a1-4631-968b-ad938739506c",
   "metadata": {},
   "outputs": [
    {
     "name": "stdout",
     "output_type": "stream",
     "text": [
      "1\n",
      "1\n"
     ]
    }
   ],
   "source": [
    "x=y=1\n",
    "\n",
    "print(x)\n",
    "print(y)"
   ]
  },
  {
   "cell_type": "markdown",
   "id": "7021df8c-e718-4910-ac08-8c82fd581bb1",
   "metadata": {},
   "source": [
    "This is a handy trick for initializing several variables. Often, I include flags in my programs to pass state changes from parent classes to child classes, and I will initialize all the flags to 0 in this format."
   ]
  },
  {
   "cell_type": "code",
   "execution_count": 109,
   "id": "c028855d-5876-4914-8e4a-4fe093cab572",
   "metadata": {},
   "outputs": [
    {
     "name": "stdout",
     "output_type": "stream",
     "text": [
      "Hello World!\n",
      "6\n"
     ]
    }
   ],
   "source": [
    "string = 'Hello World!';\n",
    "integer = 4+2;\n",
    "print(string)\n",
    "print(integer)"
   ]
  },
  {
   "cell_type": "markdown",
   "id": "ee2d2fab-859a-4ca4-92cf-6f4730b018f1",
   "metadata": {},
   "source": [
    "This is my rebuttal to the embedded systems folks at my company that program in C/C++ and hate the formatting of python :)."
   ]
  },
  {
   "cell_type": "code",
   "execution_count": 113,
   "id": "01f474a2-9163-47f7-952f-ca1f52cf80ef",
   "metadata": {},
   "outputs": [
    {
     "ename": "SyntaxError",
     "evalue": "invalid syntax (3494843380.py, line 1)",
     "output_type": "error",
     "traceback": [
      "\u001b[1;36m  Cell \u001b[1;32mIn[113], line 1\u001b[1;36m\u001b[0m\n\u001b[1;33m    string = 'Hello World!'.\u001b[0m\n\u001b[1;37m                            ^\u001b[0m\n\u001b[1;31mSyntaxError\u001b[0m\u001b[1;31m:\u001b[0m invalid syntax\n"
     ]
    }
   ],
   "source": [
    "string = 'Hello World!'.\n",
    "integer = 4+2."
   ]
  },
  {
   "cell_type": "markdown",
   "id": "8d217117-3135-4f0d-a65c-4ec481c33d8c",
   "metadata": {},
   "source": [
    "Periods are probably more strictly typed than semi-colons... I have a feeling that the interpreter will always try to coerce a period into a string, whereas the semi-colon can be coerced into whitespace or stripped from the line entirely."
   ]
  },
  {
   "cell_type": "code",
   "execution_count": 115,
   "id": "c41a27ab-8a45-4f2e-af9f-fe4ec5315211",
   "metadata": {},
   "outputs": [
    {
     "ename": "ModuleNotFoundError",
     "evalue": "No module named 'maath'",
     "output_type": "error",
     "traceback": [
      "\u001b[1;31m---------------------------------------------------------------------------\u001b[0m",
      "\u001b[1;31mModuleNotFoundError\u001b[0m                       Traceback (most recent call last)",
      "Cell \u001b[1;32mIn[115], line 1\u001b[0m\n\u001b[1;32m----> 1\u001b[0m \u001b[38;5;28;01mfrom\u001b[39;00m \u001b[38;5;21;01mmaath\u001b[39;00m \u001b[38;5;28;01mimport\u001b[39;00m floor\n",
      "\u001b[1;31mModuleNotFoundError\u001b[0m: No module named 'maath'"
     ]
    }
   ],
   "source": [
    "from maath import floor"
   ]
  },
  {
   "cell_type": "markdown",
   "id": "28b974c4-9e83-4ac6-a31b-412fef1e243b",
   "metadata": {},
   "source": [
    "Imports are pulled from packages that need to be available in the global or virtual environment for the kernel. The 'import' keyword tells the interpreter to look in the environment (usually under env/Lib/site-packages) for the module name that you are importing. If it cannot find this package, it will return an error."
   ]
  },
  {
   "cell_type": "markdown",
   "id": "9982987a-7173-4e96-836b-1058d60dd0e3",
   "metadata": {},
   "source": [
    "---------------------------------------------------"
   ]
  },
  {
   "cell_type": "markdown",
   "id": "cc0f443e-d6ff-4983-865e-65c37fbb7f64",
   "metadata": {},
   "source": [
    "2.11.3. Exercise\r\n",
    "Practice using the Python interpreter as a calculator:\r\n",
    "\r\n",
    "Part 1. The volume of a sphere with radii\r",
    " 4/3*(pi*r^3) \r\n",
    " \r\n",
    ". What is the volume of a sphere with radius 5? Start with a variable named radius and then assign the result to a variable named volume. Display the result. Add comments to indicate that radius is in centimeters and volume in cubic centimeters.\r\n",
    "\r\n",
    "Part 2. A rule of trigonometry says that for any value of \r\n",
    ", \r\n",
    ". Let’s see if it’s true for a specific value of \r\n",
    " like 42.\r\n",
    "\r\n",
    "Create a variable named x with this value. Then use math.cos and math.sin to compute the sine and cosine of \r\n",
    ", and the sum of their squared.\r\n",
    "\r\n",
    "The result should be close to 1. It might not be exactly 1 because floating-point arithmetic is not exact—it is only approximately correct.\r\n",
    "\r\n",
    "Part 3. In addition to pi, the other variable defined in the math module is e, which represents the base of the natural logarithm, written in math notation as \r\n",
    ". If you are not familiar with this value, ask a virtual assistant “What is math.e?” Now let’s compute \r\n",
    " three ways:\r\n",
    "\r\n",
    "Use math.e and the exponentiation operator (**).\r\n",
    "\r\n",
    "Use math.pow to raise math.e to the power 2.\r\n",
    "\r\n",
    "Use math.exp, which takes as an argument a value, \r\n",
    ", and computes \r\n",
    ".\r\n",
    "\r\n",
    "You might notice that the last result is slightly different from the other two. See if you can find out which is correct."
   ]
  },
  {
   "cell_type": "code",
   "execution_count": 146,
   "id": "72a3b78e-50df-489d-b967-c3bf5ea68f6f",
   "metadata": {},
   "outputs": [],
   "source": [
    "from math import pi"
   ]
  },
  {
   "cell_type": "code",
   "execution_count": 152,
   "id": "4559a44e-f8bd-49e8-96cc-4e170e44535a",
   "metadata": {},
   "outputs": [
    {
     "name": "stdout",
     "output_type": "stream",
     "text": [
      "The volume of a sphere with radius 5 centimeters is: 523.6 cm^3\n"
     ]
    }
   ],
   "source": [
    "radius=5\n",
    "volume=(4/3)*pi*(radius**3)\n",
    "\n",
    "print(f'The volume of a sphere with radius {radius} centimeters is: {round(volume,2)} cm^3')"
   ]
  },
  {
   "cell_type": "code",
   "execution_count": 154,
   "id": "cb2d5eec-0e31-4da1-b204-1c426e5f3e83",
   "metadata": {},
   "outputs": [],
   "source": [
    "from math import cos, sin"
   ]
  },
  {
   "cell_type": "code",
   "execution_count": 170,
   "id": "c625bae9-071b-4fe7-8ea0-24a5afd22719",
   "metadata": {},
   "outputs": [
    {
     "name": "stdout",
     "output_type": "stream",
     "text": [
      "Cosine of x: -0.4\t\tSine of x: -0.92\t\tRSS: 1.0\n"
     ]
    }
   ],
   "source": [
    "x=42\n",
    "print(f'Cosine of x: {round(cos(x),2)}\\t\\tSine of x: {round(sin(x), 2)}\\t\\tRSS: {cos(x)**2+sin(x)**2}')"
   ]
  },
  {
   "cell_type": "code",
   "execution_count": 178,
   "id": "521ece39-e707-4363-9b03-781afb34dfd4",
   "metadata": {},
   "outputs": [],
   "source": [
    "from math import e, pow, exp"
   ]
  },
  {
   "cell_type": "code",
   "execution_count": 180,
   "id": "a37fdf42-b69c-4b45-b046-a5c6cb13262c",
   "metadata": {},
   "outputs": [
    {
     "name": "stdout",
     "output_type": "stream",
     "text": [
      "Method 1: 7.3890560989306495\t\tMethod 2: 7.3890560989306495\t\tMethod 3: 7.38905609893065\n"
     ]
    }
   ],
   "source": [
    "print(f'Method 1: {e**2}\\t\\tMethod 2: {pow(e, 2)}\\t\\tMethod 3: {exp(2)}')"
   ]
  },
  {
   "cell_type": "markdown",
   "id": "ff371f90-b35b-4f95-b2c1-d32d9971bf1c",
   "metadata": {},
   "source": [
    "The output from [Wolfram Alpha](https://www.wolframalpha.com/input?i=e%5E2) is: **7.38905609893065022723042746057500781318031557055184732408712782252257379607** which indicates that Method 3 is correct. \n",
    "\n"
   ]
  }
 ],
 "metadata": {
  "kernelspec": {
   "display_name": "Python [conda env:base] *",
   "language": "python",
   "name": "conda-base-py"
  },
  "language_info": {
   "codemirror_mode": {
    "name": "ipython",
    "version": 3
   },
   "file_extension": ".py",
   "mimetype": "text/x-python",
   "name": "python",
   "nbconvert_exporter": "python",
   "pygments_lexer": "ipython3",
   "version": "3.12.7"
  }
 },
 "nbformat": 4,
 "nbformat_minor": 5
}
