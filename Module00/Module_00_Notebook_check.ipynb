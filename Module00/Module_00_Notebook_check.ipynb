{
 "cells": [
  {
   "cell_type": "markdown",
   "id": "5a61d83d",
   "metadata": {},
   "source": [
    "# Module 00,   DSE5001\n",
    "\n",
    "Checking on the installation of Jupyter notebooks\n",
    "\n",
    "Change the code cell below so it prints your name instead of mine\n",
    "\n",
    "Then print to pdf from the browser options and submit this"
   ]
  },
  {
   "cell_type": "code",
   "execution_count": 2,
   "id": "2ca14791-0cdd-4e91-8fcb-1359d6489c66",
   "metadata": {},
   "outputs": [
    {
     "name": "stdout",
     "output_type": "stream",
     "text": [
      "Hello Ryan!\n"
     ]
    }
   ],
   "source": [
    "print(\"Hello Ryan!\")"
   ]
  }
 ],
 "metadata": {
  "kernelspec": {
   "display_name": "Python [conda env:base] *",
   "language": "python",
   "name": "conda-base-py"
  },
  "language_info": {
   "codemirror_mode": {
    "name": "ipython",
    "version": 3
   },
   "file_extension": ".py",
   "mimetype": "text/x-python",
   "name": "python",
   "nbconvert_exporter": "python",
   "pygments_lexer": "ipython3",
   "version": "3.12.7"
  }
 },
 "nbformat": 4,
 "nbformat_minor": 5
}
