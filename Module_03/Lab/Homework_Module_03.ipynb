{
 "cells": [
  {
   "cell_type": "markdown",
   "id": "549c8689-9196-4273-baa0-2534727d0d5a",
   "metadata": {},
   "source": [
    "# Homework/Lab 3,   DSE5002\n",
    "\n",
    "Created 2/11/2025\n",
    "\n",
    "See\n",
    "\n",
    "Think Python\n",
    "https://allendowney.github.io/ThinkPython/chap05.html\n"
   ]
  },
  {
   "cell_type": "markdown",
   "id": "b01363f7-3f85-4d7f-a32c-d1c29c49f5af",
   "metadata": {},
   "source": [
    "# 5.14.1. Ask a virtual assistant\n",
    "\n",
    "Ask a virtual assistant, “What are some uses of the modulus operator?”\n",
    "\n"
   ]
  },
  {
   "cell_type": "code",
   "execution_count": 6,
   "id": "0d431616-e315-4eef-8b7c-ec8d491bdeb8",
   "metadata": {},
   "outputs": [
    {
     "name": "stdout",
     "output_type": "stream",
     "text": [
      "Requirement already satisfied: openai in c:\\users\\water\\anaconda3\\envs\\dse5002\\lib\\site-packages (1.70.0)\n",
      "Collecting dotenv\n",
      "  Downloading dotenv-0.9.9-py2.py3-none-any.whl.metadata (279 bytes)\n",
      "Requirement already satisfied: anyio<5,>=3.5.0 in c:\\users\\water\\anaconda3\\envs\\dse5002\\lib\\site-packages (from openai) (4.6.2)\n",
      "Requirement already satisfied: distro<2,>=1.7.0 in c:\\users\\water\\anaconda3\\envs\\dse5002\\lib\\site-packages (from openai) (1.9.0)\n",
      "Requirement already satisfied: httpx<1,>=0.23.0 in c:\\users\\water\\anaconda3\\envs\\dse5002\\lib\\site-packages (from openai) (0.27.0)\n",
      "Requirement already satisfied: jiter<1,>=0.4.0 in c:\\users\\water\\anaconda3\\envs\\dse5002\\lib\\site-packages (from openai) (0.9.0)\n",
      "Requirement already satisfied: pydantic<3,>=1.9.0 in c:\\users\\water\\anaconda3\\envs\\dse5002\\lib\\site-packages (from openai) (2.11.1)\n",
      "Requirement already satisfied: sniffio in c:\\users\\water\\anaconda3\\envs\\dse5002\\lib\\site-packages (from openai) (1.3.0)\n",
      "Requirement already satisfied: tqdm>4 in c:\\users\\water\\anaconda3\\envs\\dse5002\\lib\\site-packages (from openai) (4.67.1)\n",
      "Requirement already satisfied: typing-extensions<5,>=4.11 in c:\\users\\water\\anaconda3\\envs\\dse5002\\lib\\site-packages (from openai) (4.12.2)\n",
      "Collecting python-dotenv (from dotenv)\n",
      "  Downloading python_dotenv-1.1.0-py3-none-any.whl.metadata (24 kB)\n",
      "Requirement already satisfied: idna>=2.8 in c:\\users\\water\\anaconda3\\envs\\dse5002\\lib\\site-packages (from anyio<5,>=3.5.0->openai) (3.7)\n",
      "Requirement already satisfied: certifi in c:\\users\\water\\anaconda3\\envs\\dse5002\\lib\\site-packages (from httpx<1,>=0.23.0->openai) (2025.1.31)\n",
      "Requirement already satisfied: httpcore==1.* in c:\\users\\water\\anaconda3\\envs\\dse5002\\lib\\site-packages (from httpx<1,>=0.23.0->openai) (1.0.2)\n",
      "Requirement already satisfied: h11<0.15,>=0.13 in c:\\users\\water\\anaconda3\\envs\\dse5002\\lib\\site-packages (from httpcore==1.*->httpx<1,>=0.23.0->openai) (0.14.0)\n",
      "Requirement already satisfied: annotated-types>=0.6.0 in c:\\users\\water\\anaconda3\\envs\\dse5002\\lib\\site-packages (from pydantic<3,>=1.9.0->openai) (0.7.0)\n",
      "Requirement already satisfied: pydantic-core==2.33.0 in c:\\users\\water\\anaconda3\\envs\\dse5002\\lib\\site-packages (from pydantic<3,>=1.9.0->openai) (2.33.0)\n",
      "Requirement already satisfied: typing-inspection>=0.4.0 in c:\\users\\water\\anaconda3\\envs\\dse5002\\lib\\site-packages (from pydantic<3,>=1.9.0->openai) (0.4.0)\n",
      "Requirement already satisfied: colorama in c:\\users\\water\\anaconda3\\envs\\dse5002\\lib\\site-packages (from tqdm>4->openai) (0.4.6)\n",
      "Downloading dotenv-0.9.9-py2.py3-none-any.whl (1.9 kB)\n",
      "Downloading python_dotenv-1.1.0-py3-none-any.whl (20 kB)\n",
      "Installing collected packages: python-dotenv, dotenv\n",
      "Successfully installed dotenv-0.9.9 python-dotenv-1.1.0\n"
     ]
    }
   ],
   "source": [
    "!pip install openai dotenv"
   ]
  },
  {
   "cell_type": "code",
   "execution_count": null,
   "id": "5b4228d2",
   "metadata": {},
   "outputs": [],
   "source": [
    "import os\n",
    "from dotenv import find_dotenv, dotenv_values\n",
    "\n",
    "keys = list(dotenv_values(find_dotenv('.env')).items())\n",
    "OPENAI_API_KEY = os.environ['OPENAI_API_KEY'] = keys[0][1]"
   ]
  },
  {
   "cell_type": "code",
   "execution_count": null,
   "id": "7af52880",
   "metadata": {},
   "outputs": [],
   "source": [
    "from openai import OpenAI\n",
    "\n",
    "client = OpenAI()\n",
    "client.api_key=OPENAI_API_KEY"
   ]
  },
  {
   "cell_type": "code",
   "execution_count": null,
   "id": "c4cd06c4",
   "metadata": {},
   "outputs": [
    {
     "name": "stdout",
     "output_type": "stream",
     "text": [
      "ChatCompletion(id='chatcmpl-BI0mQovTrs30ysyxldtwYMc0UgIMB', choices=[Choice(finish_reason='stop', index=0, logprobs=None, message=ChatCompletionMessage(content=\"1. Finding Remainders: The most common use of the modulus operator (%) is to determine the remainder of a division operation.\\n\\n2. Detecting Evens and Odds: If a number is even, n % 2 will be 0. If it's odd, n % 2 will be 1. \\n\\n3. Implementing Circular Arrays: Modulus is often used to implement circular arrays because it can wrap values around. For example, if you have an array of size 10, the index could range from 0-9. If you're at index 9 and you want to move 1 step forward, you'd be at index (9+1)%10 = 0 again.\\n\\n4. Periodic or Patterned Data: If there is a pattern or period to a set of data, the modulus operator can be used to find the repeated subsequence or patterns. \\n\\n5. Ensuring Values Stay Within a Certain Range: The modulus operator can be useful in simulations or games where an object has to stay within a certain area.\\n\\n6. Calculating Check Digits: In some identification numbers (like ISBN for books), there is a check digit that is calculated from the rest of the number, often using modulus.\\n\\n7. Cryptography: Modulus is often used in various cryptographic algorithms, such as RSA, to keep values within a certain range.\\n\\n8. Time Calculations: If you want to calculate the hour on a 12-hour clock from a 24-hour format, you could use hours % 12.\\n\\n9. Game Score/Ranks Modelling: High score tables or levels that have a certain number of ranks can use modulus to loop back after the maximum.\\n\\n10. Hashing Algorithms: Modulus is commonly used to keep the keys within the range of hash table indexes. \\n\\n11. Frequency Measurement, Generators: In any kind of system where we need to generate recurring event or signal after a fixed interval, we can use modulus.\", refusal=None, role='assistant', annotations=[], audio=None, function_call=None, tool_calls=None))], created=1743632602, model='gpt-4-0613', object='chat.completion', service_tier='default', system_fingerprint=None, usage=CompletionUsage(completion_tokens=399, prompt_tokens=16, total_tokens=415, completion_tokens_details=CompletionTokensDetails(accepted_prediction_tokens=0, audio_tokens=0, reasoning_tokens=0, rejected_prediction_tokens=0), prompt_tokens_details=PromptTokensDetails(audio_tokens=0, cached_tokens=0)))\n"
     ]
    }
   ],
   "source": [
    "response = client.chat.completions.create(\n",
    "    model=\"gpt-4\",\n",
    "    messages=[{\"role\" : \"user\", \"content\" : \"What are some uses of the modulus operator?\"}]\n",
    ")"
   ]
  },
  {
   "cell_type": "code",
   "execution_count": 14,
   "id": "5bcf42ed",
   "metadata": {},
   "outputs": [
    {
     "data": {
      "text/markdown": [
       "1. Finding Remainders: The most common use of the modulus operator (%) is to determine the remainder of a division operation.\n",
       "\n",
       "2. Detecting Evens and Odds: If a number is even, n % 2 will be 0. If it's odd, n % 2 will be 1. \n",
       "\n",
       "3. Implementing Circular Arrays: Modulus is often used to implement circular arrays because it can wrap values around. For example, if you have an array of size 10, the index could range from 0-9. If you're at index 9 and you want to move 1 step forward, you'd be at index (9+1)%10 = 0 again.\n",
       "\n",
       "4. Periodic or Patterned Data: If there is a pattern or period to a set of data, the modulus operator can be used to find the repeated subsequence or patterns. \n",
       "\n",
       "5. Ensuring Values Stay Within a Certain Range: The modulus operator can be useful in simulations or games where an object has to stay within a certain area.\n",
       "\n",
       "6. Calculating Check Digits: In some identification numbers (like ISBN for books), there is a check digit that is calculated from the rest of the number, often using modulus.\n",
       "\n",
       "7. Cryptography: Modulus is often used in various cryptographic algorithms, such as RSA, to keep values within a certain range.\n",
       "\n",
       "8. Time Calculations: If you want to calculate the hour on a 12-hour clock from a 24-hour format, you could use hours % 12.\n",
       "\n",
       "9. Game Score/Ranks Modelling: High score tables or levels that have a certain number of ranks can use modulus to loop back after the maximum.\n",
       "\n",
       "10. Hashing Algorithms: Modulus is commonly used to keep the keys within the range of hash table indexes. \n",
       "\n",
       "11. Frequency Measurement, Generators: In any kind of system where we need to generate recurring event or signal after a fixed interval, we can use modulus."
      ],
      "text/plain": [
       "<IPython.core.display.Markdown object>"
      ]
     },
     "metadata": {},
     "output_type": "display_data"
    }
   ],
   "source": [
    "from IPython.display import display, Markdown\n",
    "display(Markdown(response.choices[0].message.content))"
   ]
  },
  {
   "cell_type": "markdown",
   "id": "99fff044-a8fe-426a-8aff-a57a53059b6a",
   "metadata": {},
   "source": [
    "In this chapter, we saw two ways to write an if statement with three branches, using a chained conditional or a nested conditional. You can use a virtual assistant to convert from one to the other. For example, ask a VA, “Convert this statement to a chained conditional.”\n",
    "\n",
    "if x == y:\n",
    "    print('x and y are equal')\n",
    "else:\n",
    "    if x < y:\n",
    "        print('x is less than y')\n",
    "    else:\n",
    "        print('x is greater than y')\n",
    "\n",
    "Copy and paste the code from the VA and figure out if it works.  If it doesn't, fix it\n",
    "        "
   ]
  },
  {
   "cell_type": "code",
   "execution_count": null,
   "id": "13b72fa3-0237-40a9-ad08-a3390e4bbbb1",
   "metadata": {},
   "outputs": [],
   "source": []
  },
  {
   "cell_type": "markdown",
   "id": "0e1f02c6-73f8-48e3-9faa-5efe8cd04471",
   "metadata": {},
   "source": [
    "Ask a VA, “Rewrite this statement with a single conditional.”\n",
    "\n",
    "if 0 < x:\n",
    "    if x < 10:\n",
    "        print('x is a positive single-digit number.')\n",
    "\n",
    "If this doesn't work, fix ti"
   ]
  },
  {
   "cell_type": "code",
   "execution_count": null,
   "id": "78904375-f93f-4fa4-a112-bb6ee78ab899",
   "metadata": {},
   "outputs": [],
   "source": []
  },
  {
   "cell_type": "markdown",
   "id": "0f44a983-208e-45fd-8b9d-8fa10c273cf9",
   "metadata": {},
   "source": [
    "Here’s an attempt at a recursive function that counts down by two.\n",
    "\n",
    "def countdown_by_two(n):\n",
    "    if n == 0:\n",
    "        print('Blastoff!')\n",
    "    else:\n",
    "        print(n)\n",
    "        countdown_by_two(n-2)"
   ]
  },
  {
   "cell_type": "code",
   "execution_count": null,
   "id": "6c1791d7-b0c9-4eb8-943e-66d473ef35be",
   "metadata": {},
   "outputs": [],
   "source": []
  },
  {
   "cell_type": "markdown",
   "id": "b530c808-697f-45d4-a5d4-c067b890b60d",
   "metadata": {},
   "source": [
    "# 5.14.3. Exercise\n",
    "\n",
    "If you are given three sticks, you may or may not be able to arrange them in a triangle. For example, if one of the sticks is 12 inches long and the other two are one inch long, you will not be able to get the short sticks to meet in the middle. For any three lengths, there is a test to see if it is possible to form a triangle:\n",
    "\n",
    "If any of the three lengths is greater than the sum of the other two, then you cannot form a triangle. Otherwise, you can. (If the sum of two lengths equals the third, they form what is called a “degenerate” triangle.)\n",
    "\n",
    "Write a function named is_triangle that takes three integers as arguments, and that prints either “Yes” or “No”, depending on whether you can or cannot form a triangle from sticks with the given lengths. Hint: Use a chained conditional."
   ]
  },
  {
   "cell_type": "code",
   "execution_count": null,
   "id": "90b6882c-d505-41fa-b07f-69e8dcae51ef",
   "metadata": {},
   "outputs": [],
   "source": []
  },
  {
   "cell_type": "code",
   "execution_count": null,
   "id": "13207c22-d186-4a0e-bbb8-ff5f0edcdf3e",
   "metadata": {},
   "outputs": [],
   "source": []
  },
  {
   "cell_type": "code",
   "execution_count": null,
   "id": "93477afa-381a-4fdd-99a3-f8950730eb2c",
   "metadata": {},
   "outputs": [],
   "source": []
  },
  {
   "cell_type": "code",
   "execution_count": null,
   "id": "b650fb6c-35e7-4e4c-8bcd-85a139d82904",
   "metadata": {},
   "outputs": [],
   "source": []
  },
  {
   "cell_type": "code",
   "execution_count": null,
   "id": "0c412032-3113-4108-a55e-66d3c2fd464f",
   "metadata": {},
   "outputs": [],
   "source": []
  }
 ],
 "metadata": {
  "kernelspec": {
   "display_name": "DSE5002",
   "language": "python",
   "name": "python3"
  },
  "language_info": {
   "codemirror_mode": {
    "name": "ipython",
    "version": 3
   },
   "file_extension": ".py",
   "mimetype": "text/x-python",
   "name": "python",
   "nbconvert_exporter": "python",
   "pygments_lexer": "ipython3",
   "version": "3.12.9"
  }
 },
 "nbformat": 4,
 "nbformat_minor": 5
}
