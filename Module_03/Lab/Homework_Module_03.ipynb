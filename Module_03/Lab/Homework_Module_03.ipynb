{
 "cells": [
  {
   "cell_type": "markdown",
   "id": "549c8689-9196-4273-baa0-2534727d0d5a",
   "metadata": {},
   "source": [
    "# Homework/Lab 3,   DSE5002\n",
    "\n",
    "Created 2/11/2025\n",
    "\n",
    "See\n",
    "\n",
    "Think Python\n",
    "https://allendowney.github.io/ThinkPython/chap05.html\n"
   ]
  },
  {
   "cell_type": "markdown",
   "id": "b01363f7-3f85-4d7f-a32c-d1c29c49f5af",
   "metadata": {},
   "source": [
    "# 5.14.1. Ask a virtual assistant\n",
    "\n",
    "Ask a virtual assistant, “What are some uses of the modulus operator?”\n",
    "\n"
   ]
  },
  {
   "cell_type": "code",
   "execution_count": 2,
   "id": "0d431616-e315-4eef-8b7c-ec8d491bdeb8",
   "metadata": {},
   "outputs": [
    {
     "name": "stdout",
     "output_type": "stream",
     "text": [
      "Requirement already satisfied: openai in c:\\users\\water\\anaconda3\\envs\\dse5002\\lib\\site-packages (1.70.0)\n",
      "Requirement already satisfied: dotenv in c:\\users\\water\\anaconda3\\envs\\dse5002\\lib\\site-packages (0.9.9)\n",
      "Requirement already satisfied: anyio<5,>=3.5.0 in c:\\users\\water\\anaconda3\\envs\\dse5002\\lib\\site-packages (from openai) (4.6.2)\n",
      "Requirement already satisfied: distro<2,>=1.7.0 in c:\\users\\water\\anaconda3\\envs\\dse5002\\lib\\site-packages (from openai) (1.9.0)\n",
      "Requirement already satisfied: httpx<1,>=0.23.0 in c:\\users\\water\\anaconda3\\envs\\dse5002\\lib\\site-packages (from openai) (0.27.0)\n",
      "Requirement already satisfied: jiter<1,>=0.4.0 in c:\\users\\water\\anaconda3\\envs\\dse5002\\lib\\site-packages (from openai) (0.9.0)\n",
      "Requirement already satisfied: pydantic<3,>=1.9.0 in c:\\users\\water\\anaconda3\\envs\\dse5002\\lib\\site-packages (from openai) (2.11.1)\n",
      "Requirement already satisfied: sniffio in c:\\users\\water\\anaconda3\\envs\\dse5002\\lib\\site-packages (from openai) (1.3.0)\n",
      "Requirement already satisfied: tqdm>4 in c:\\users\\water\\anaconda3\\envs\\dse5002\\lib\\site-packages (from openai) (4.67.1)\n",
      "Requirement already satisfied: typing-extensions<5,>=4.11 in c:\\users\\water\\anaconda3\\envs\\dse5002\\lib\\site-packages (from openai) (4.12.2)\n",
      "Requirement already satisfied: python-dotenv in c:\\users\\water\\anaconda3\\envs\\dse5002\\lib\\site-packages (from dotenv) (1.1.0)\n",
      "Requirement already satisfied: idna>=2.8 in c:\\users\\water\\anaconda3\\envs\\dse5002\\lib\\site-packages (from anyio<5,>=3.5.0->openai) (3.7)\n",
      "Requirement already satisfied: certifi in c:\\users\\water\\anaconda3\\envs\\dse5002\\lib\\site-packages (from httpx<1,>=0.23.0->openai) (2025.1.31)\n",
      "Requirement already satisfied: httpcore==1.* in c:\\users\\water\\anaconda3\\envs\\dse5002\\lib\\site-packages (from httpx<1,>=0.23.0->openai) (1.0.2)\n",
      "Requirement already satisfied: h11<0.15,>=0.13 in c:\\users\\water\\anaconda3\\envs\\dse5002\\lib\\site-packages (from httpcore==1.*->httpx<1,>=0.23.0->openai) (0.14.0)\n",
      "Requirement already satisfied: annotated-types>=0.6.0 in c:\\users\\water\\anaconda3\\envs\\dse5002\\lib\\site-packages (from pydantic<3,>=1.9.0->openai) (0.7.0)\n",
      "Requirement already satisfied: pydantic-core==2.33.0 in c:\\users\\water\\anaconda3\\envs\\dse5002\\lib\\site-packages (from pydantic<3,>=1.9.0->openai) (2.33.0)\n",
      "Requirement already satisfied: typing-inspection>=0.4.0 in c:\\users\\water\\anaconda3\\envs\\dse5002\\lib\\site-packages (from pydantic<3,>=1.9.0->openai) (0.4.0)\n",
      "Requirement already satisfied: colorama in c:\\users\\water\\anaconda3\\envs\\dse5002\\lib\\site-packages (from tqdm>4->openai) (0.4.6)\n"
     ]
    }
   ],
   "source": [
    "!pip install openai dotenv"
   ]
  },
  {
   "cell_type": "code",
   "execution_count": 3,
   "id": "5b4228d2",
   "metadata": {},
   "outputs": [],
   "source": [
    "import os\n",
    "from dotenv import find_dotenv, dotenv_values\n",
    "\n",
    "keys = list(dotenv_values(find_dotenv('.env')).items())\n",
    "OPENAI_API_KEY = os.environ['OPENAI_API_KEY'] = keys[0][1]"
   ]
  },
  {
   "cell_type": "code",
   "execution_count": 4,
   "id": "7af52880",
   "metadata": {},
   "outputs": [],
   "source": [
    "from openai import OpenAI\n",
    "\n",
    "client = OpenAI()\n",
    "client.api_key=OPENAI_API_KEY"
   ]
  },
  {
   "cell_type": "code",
   "execution_count": 5,
   "id": "c4cd06c4",
   "metadata": {},
   "outputs": [],
   "source": [
    "response = client.chat.completions.create(\n",
    "    model=\"gpt-4\",\n",
    "    messages=[{\"role\" : \"user\", \"content\" : \"What are some uses of the modulus operator?\"}]\n",
    ")"
   ]
  },
  {
   "cell_type": "code",
   "execution_count": 6,
   "id": "5bcf42ed",
   "metadata": {},
   "outputs": [
    {
     "data": {
      "text/markdown": [
       "1. Calculating Remainder: The most basic use of the modulus operator is to calculate the remainder of a division operation.\n",
       "\n",
       "2. Implementing Circular Arrays or Cyclic operations: For example, to implement operations like a clock where after 12 hours, it reverts back to 1, modulus operator can be used.\n",
       "\n",
       "3. Checking Odd/Even Number: In many programming languages, the modulus operator is frequently used to check if a number is even or odd. If the number modulus 2 equals 0, then it is even; otherwise, it is odd.\n",
       "\n",
       "4. Implementing Wrap Around connections: In some network algorithms, like in P2P networks, IP addresses or identifiers are represented in a circular way using Modulus.\n",
       "\n",
       "5. Generating Alternating Sequences: The modulus operator can be used to create alternating sequences. For example, to print an alternating sequence of 0 and 1, we can use the number modulus 2.\n",
       "\n",
       "6. Calculating Hash Codes: Modulus, in conjunction with other mathematical operations, can be used to calculate hash values or bucket places in hashing related algorithms.\n",
       "\n",
       "7. Cryptography Algorithms: Modulus operator has high significance in cryptography algorithms like RSA.\n",
       "\n",
       "8. Implementing Algorithm Checks: An example of this is calculating check digits in ISBN and credit card numbers.\n",
       "\n",
       "9. Converting between different units of measurement: A common use case involves converting seconds to minutes and remaining seconds.\n",
       "\n",
       "10. Implementing Pac-Man style screen wraps: When a game character hits one edge of the screen, it reappears on the opposite edge. The character's coordinates can be calculated using a modulus operation. \n",
       "\n",
       "11. Enforcing limits: If you want a number to remain within a certain range (like 0-255 for color channels in a graphic), the modulus operator can be used."
      ],
      "text/plain": [
       "<IPython.core.display.Markdown object>"
      ]
     },
     "metadata": {},
     "output_type": "display_data"
    }
   ],
   "source": [
    "from IPython.display import display, Markdown\n",
    "display(Markdown(response.choices[0].message.content))"
   ]
  },
  {
   "cell_type": "markdown",
   "id": "99fff044-a8fe-426a-8aff-a57a53059b6a",
   "metadata": {},
   "source": [
    "In this chapter, we saw two ways to write an if statement with three branches, using a chained conditional or a nested conditional. You can use a virtual assistant to convert from one to the other. For example, ask a VA, “Convert this statement to a chained conditional.”\n",
    "\n",
    "```\n",
    "if x == y:\n",
    "    print('x and y are equal')\n",
    "else:\n",
    "    if x < y:\n",
    "        print('x is less than y')\n",
    "    else:\n",
    "        print('x is greater than y')\n",
    "```\n",
    "\n",
    "Copy and paste the code from the VA and figure out if it works.  If it doesn't, fix it\n",
    "        "
   ]
  },
  {
   "cell_type": "code",
   "execution_count": 12,
   "id": "13b72fa3-0237-40a9-ad08-a3390e4bbbb1",
   "metadata": {},
   "outputs": [
    {
     "data": {
      "text/markdown": [
       "Sure, a chained conditional format looks slightly different. Here is the chained conditional format of your Python code:\n",
       "\n",
       "```python\n",
       "if x == y:\n",
       "    print('x and y are equal')\n",
       "elif x < y:\n",
       "    print('x is less than y')\n",
       "else:\n",
       "    print('x is greater than y')\n",
       "```"
      ],
      "text/plain": [
       "<IPython.core.display.Markdown object>"
      ]
     },
     "metadata": {},
     "output_type": "display_data"
    }
   ],
   "source": [
    "chained_conditional = client.chat.completions.create(\n",
    "    model=\"gpt-4\",\n",
    "    messages=[{\"role\" : \"user\", \"content\" : \"\"\" Convert the following python code block into a chained conditional. Please format your response as a python code block.\n",
    "               \n",
    "    if x == y:\n",
    "        print('x and y are equal')\n",
    "    else:\n",
    "        if x < y:\n",
    "            print('x is less than y')\n",
    "        else:\n",
    "            print('x is greater than y')\n",
    "               \n",
    "    \"\"\"}]\n",
    ")\n",
    "\n",
    "display(Markdown(chained_conditional.choices[0].message.content))"
   ]
  },
  {
   "cell_type": "markdown",
   "id": "0e1f02c6-73f8-48e3-9faa-5efe8cd04471",
   "metadata": {},
   "source": [
    "Ask a VA, “Rewrite this statement with a single conditional.”\n",
    "\n",
    "```\n",
    "if 0 < x:\n",
    "    if x < 10:\n",
    "        print('x is a positive single-digit number.')\n",
    "```\n",
    "\n",
    "If this doesn't work, fix ti"
   ]
  },
  {
   "cell_type": "code",
   "execution_count": 16,
   "id": "78904375-f93f-4fa4-a112-bb6ee78ab899",
   "metadata": {},
   "outputs": [
    {
     "data": {
      "text/markdown": [
       "```python\n",
       "if 0 < x < 10:\n",
       "    print('x is a positive single-digit number.')\n",
       "```"
      ],
      "text/plain": [
       "<IPython.core.display.Markdown object>"
      ]
     },
     "metadata": {},
     "output_type": "display_data"
    }
   ],
   "source": [
    "single_conditional = client.chat.completions.create(\n",
    "    model=\"gpt-4\",\n",
    "    messages=[{\"role\" : \"user\", \"content\" : \"\"\" Convert the following python code block into a single conditional. You must format your response as a python code block that gets rendered with markdown.\n",
    "               \n",
    "    if 0 < x:\n",
    "        if x < 10:\n",
    "            print('x is a positive single-digit number.')\n",
    "               \n",
    "    \"\"\"}]\n",
    ")\n",
    "\n",
    "display(Markdown(single_conditional.choices[0].message.content))"
   ]
  },
  {
   "cell_type": "markdown",
   "id": "0f44a983-208e-45fd-8b9d-8fa10c273cf9",
   "metadata": {},
   "source": [
    "Here’s an attempt at a recursive function that counts down by two.\n",
    "\n",
    "```\n",
    "def countdown_by_two(n):\n",
    "    if n == 0:\n",
    "        print('Blastoff!')\n",
    "    else:\n",
    "        print(n)\n",
    "        countdown_by_two(n-2)\n",
    "```"
   ]
  },
  {
   "cell_type": "code",
   "execution_count": 17,
   "id": "6c1791d7-b0c9-4eb8-943e-66d473ef35be",
   "metadata": {},
   "outputs": [
    {
     "data": {
      "text/markdown": [
       "The python function `countdown_by_two(n)` appears to be written correctly. It will count down by 2 starting from a given number `n`, and print 'Blastoff!' when it reaches 0. However, it will not handle odd numbers as you might expect. If this function is called with an odd number argument, it will countdown by twos until it gets to 1, and then it would stuck in an infinite recursion, because '1' will never be equal to '0'. \n",
       "\n",
       "Hence, a slight modification is necessary to make it work properly even with odd numbers:\n",
       "\n",
       "```python\n",
       "    def countdown_by_two(n):\n",
       "        # If n is less or equal to 0, print 'Blastoff!'\n",
       "        if n <= 0:\n",
       "            print('Blastoff!')\n",
       "        else:\n",
       "            print(n)\n",
       "            countdown_by_two(n-2)\n",
       "```\n",
       "\n",
       "In the fix, I changed `if n == 0:` to `if n <= 0:`. This way, the function will stop recursing not only when `n` becomes 0 (after calling the function with an even number), but also as soon as `n` becomes a negative number (after calling the function with an odd number). The function will thus behave correctly regardless of whether it is called with an even or odd number."
      ],
      "text/plain": [
       "<IPython.core.display.Markdown object>"
      ]
     },
     "metadata": {},
     "output_type": "display_data"
    }
   ],
   "source": [
    "recursive = client.chat.completions.create(\n",
    "    model=\"gpt-4\",\n",
    "    messages=[{\"role\" : \"user\", \"content\" : \"\"\"Please ensure the recursive python function, below, will function correctly. Please format your response as a python code block that gets rendered in markdown. Also, highlight any changes you make.\n",
    "               \n",
    "    def countdown_by_two(n):\n",
    "        if n == 0:\n",
    "            print('Blastoff!')\n",
    "        else:\n",
    "            print(n)\n",
    "            countdown_by_two(n-2)\n",
    "               \n",
    "    \"\"\"}]\n",
    ")\n",
    "\n",
    "display(Markdown(recursive.choices[0].message.content))"
   ]
  },
  {
   "cell_type": "markdown",
   "id": "b530c808-697f-45d4-a5d4-c067b890b60d",
   "metadata": {},
   "source": [
    "# 5.14.3. Exercise\n",
    "\n",
    "If you are given three sticks, you may or may not be able to arrange them in a triangle. For example, if one of the sticks is 12 inches long and the other two are one inch long, you will not be able to get the short sticks to meet in the middle. For any three lengths, there is a test to see if it is possible to form a triangle:\n",
    "\n",
    "If any of the three lengths is greater than the sum of the other two, then you cannot form a triangle. Otherwise, you can. (If the sum of two lengths equals the third, they form what is called a “degenerate” triangle.)\n",
    "\n",
    "Write a function named is_triangle that takes three integers as arguments, and that prints either “Yes” or “No”, depending on whether you can or cannot form a triangle from sticks with the given lengths. Hint: Use a chained conditional."
   ]
  },
  {
   "cell_type": "code",
   "execution_count": 40,
   "id": "90b6882c-d505-41fa-b07f-69e8dcae51ef",
   "metadata": {},
   "outputs": [
    {
     "name": "stdout",
     "output_type": "stream",
     "text": [
      "Sides: [13, 2, 14]\tTriangle?: Yes\n",
      "Sides: [3, 10, 7]\tTriangle?: Degenerate\n",
      "Sides: [6, 6, 8]\tTriangle?: Yes\n",
      "Sides: [2, 11, 8]\tTriangle?: No\n",
      "Sides: [6, 9, 11]\tTriangle?: Yes\n",
      "Sides: [14, 2, 13]\tTriangle?: Yes\n",
      "Sides: [6, 14, 1]\tTriangle?: No\n",
      "Sides: [9, 11, 2]\tTriangle?: Degenerate\n",
      "Sides: [5, 5, 1]\tTriangle?: Yes\n",
      "Sides: [12, 13, 5]\tTriangle?: Yes\n",
      "Sides: [11, 4, 2]\tTriangle?: No\n",
      "Sides: [5, 9, 4]\tTriangle?: Degenerate\n",
      "Sides: [6, 0, 9]\tTriangle?: No\n",
      "Sides: [9, 10, 5]\tTriangle?: Yes\n",
      "Sides: [9, 6, 14]\tTriangle?: Yes\n"
     ]
    }
   ],
   "source": [
    "def is_triangle(side_list:list):\n",
    "    longest_side = max(side_list)\n",
    "    side_list.remove(longest_side)\n",
    "    other_sides_sum = sum(side_list)\n",
    "\n",
    "    if other_sides_sum==longest_side:\n",
    "        output = \"Degenerate\"\n",
    "    else:\n",
    "        output = \"No\" if longest_side > other_sides_sum else \"Yes\"\n",
    "\n",
    "    return output\n",
    "\n",
    "from random import randrange\n",
    "\n",
    "for i in range(15):\n",
    "    side_list = [randrange(0,15,1) for i in range(3)]\n",
    "    print(f'Sides: {side_list}\\tTriangle?: {is_triangle(side_list)}')"
   ]
  },
  {
   "cell_type": "code",
   "execution_count": null,
   "id": "fb2a2ce5",
   "metadata": {},
   "outputs": [],
   "source": []
  }
 ],
 "metadata": {
  "kernelspec": {
   "display_name": "DSE5002",
   "language": "python",
   "name": "python3"
  },
  "language_info": {
   "codemirror_mode": {
    "name": "ipython",
    "version": 3
   },
   "file_extension": ".py",
   "mimetype": "text/x-python",
   "name": "python",
   "nbconvert_exporter": "python",
   "pygments_lexer": "ipython3",
   "version": "3.12.9"
  }
 },
 "nbformat": 4,
 "nbformat_minor": 5
}
