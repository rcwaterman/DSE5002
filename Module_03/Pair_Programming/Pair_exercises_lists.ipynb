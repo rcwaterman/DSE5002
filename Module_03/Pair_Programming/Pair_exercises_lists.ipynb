{
 "cells": [
  {
   "cell_type": "markdown",
   "id": "54b401af-5a67-4edf-8b51-16b0a5825be2",
   "metadata": {},
   "source": [
    "# Pair Programming Exercises on Lists\n",
    "\n",
    "Created by HD Sheets,   July 2024\n",
    "for DSE5002\n",
    "\n",
    "Updated 11/13/2024\n",
    "\n",
    "# Resources and Sources\n",
    "\n",
    "https://developers.google.com/edu/python/lists\n",
    "\n",
    "This an introduction to lists,  lists are\n",
    "\n",
    "-iterable- meaning you can use them in a for loop or a comprehension\n",
    "            they have an order to them and can be sorted\n",
    "\n",
    "-mutable- they can be altered after being created\n",
    "\n",
    "Think Python Book\n",
    "\n",
    "https://allendowney.github.io/ThinkPython/chap09.html\n",
    "\n",
    "\n"
   ]
  },
  {
   "cell_type": "markdown",
   "id": "7dc2c553-080c-4545-9d6c-81ba15b50a14",
   "metadata": {},
   "source": [
    "Lists in python work much as they do in R\n",
    "\n",
    "They are created by placing a set of variables inside square brackets"
   ]
  },
  {
   "cell_type": "code",
   "execution_count": 22,
   "id": "abac3788-04a8-4d20-b7bd-91323051272f",
   "metadata": {},
   "outputs": [],
   "source": [
    "a=[1,2,3,4,5,6]\n",
    "clients=[\"John\", \"Angel\",\"Rafael\"]"
   ]
  },
  {
   "cell_type": "code",
   "execution_count": 23,
   "id": "aad0965f-45df-457a-b589-9741e62b0512",
   "metadata": {},
   "outputs": [
    {
     "data": {
      "text/plain": [
       "2"
      ]
     },
     "execution_count": 23,
     "metadata": {},
     "output_type": "execute_result"
    }
   ],
   "source": [
    "# we can index by numeric location\n",
    "# remember indexing starts a zero\n",
    "\n",
    "a[1]"
   ]
  },
  {
   "cell_type": "code",
   "execution_count": 24,
   "id": "2feb4ee5-71af-4ef2-90e2-f45facc26f3d",
   "metadata": {},
   "outputs": [
    {
     "data": {
      "text/plain": [
       "'John'"
      ]
     },
     "execution_count": 24,
     "metadata": {},
     "output_type": "execute_result"
    }
   ],
   "source": [
    "clients[0]"
   ]
  },
  {
   "cell_type": "markdown",
   "id": "3a22c85b-ec42-4348-892e-5d5858af3425",
   "metadata": {},
   "source": [
    "# *Question/Action*\n",
    "\n",
    "How would you index 1 and Rafael in the two lists?\n",
    "\n",
    "Add a code cell and show this"
   ]
  },
  {
   "cell_type": "code",
   "execution_count": 25,
   "id": "e28afb38-ad2c-4f02-bdd0-8536fc1b48b9",
   "metadata": {},
   "outputs": [
    {
     "name": "stdout",
     "output_type": "stream",
     "text": [
      "1 Rafael\n"
     ]
    }
   ],
   "source": [
    "print(a[0],clients[-1])"
   ]
  },
  {
   "cell_type": "markdown",
   "id": "bff2510f-2431-4ac7-8ee3-9f3469bcc833",
   "metadata": {},
   "source": [
    "## Keeping track of data types\n",
    "\n",
    "As you work with Python packages, and learn from example code, one thing you need to always\n",
    "be aware of is what the data structure used in an example is.\n",
    "\n",
    "If a neural net expects a numpy matrix that of k rows and 784 columns, that's the format you need to get the code\n",
    "to run on your data.\n",
    "\n",
    "To format your data correctly, you need to be constantly aware of the data format in use, and that is often not obvious in Python.  "
   ]
  },
  {
   "cell_type": "code",
   "execution_count": 26,
   "id": "3f0abe89-1125-46dd-a330-657e568d5a28",
   "metadata": {},
   "outputs": [
    {
     "data": {
      "text/plain": [
       "list"
      ]
     },
     "execution_count": 26,
     "metadata": {},
     "output_type": "execute_result"
    }
   ],
   "source": [
    "type(a)"
   ]
  },
  {
   "cell_type": "code",
   "execution_count": 27,
   "id": "bec13824-2c1b-437c-8b79-3f07a49bffe5",
   "metadata": {},
   "outputs": [
    {
     "data": {
      "text/plain": [
       "list"
      ]
     },
     "execution_count": 27,
     "metadata": {},
     "output_type": "execute_result"
    }
   ],
   "source": [
    "type(clients)"
   ]
  },
  {
   "cell_type": "markdown",
   "id": "6407dabc-55a0-4ebf-bb00-9cb207fd738a",
   "metadata": {},
   "source": [
    "Use dir() to see what built in functions and variables are avaiable for lists"
   ]
  },
  {
   "cell_type": "code",
   "execution_count": 28,
   "id": "979c9e7d-ef27-451d-96a6-94400ef8937d",
   "metadata": {},
   "outputs": [
    {
     "data": {
      "text/plain": [
       "['__add__',\n",
       " '__class__',\n",
       " '__class_getitem__',\n",
       " '__contains__',\n",
       " '__delattr__',\n",
       " '__delitem__',\n",
       " '__dir__',\n",
       " '__doc__',\n",
       " '__eq__',\n",
       " '__format__',\n",
       " '__ge__',\n",
       " '__getattribute__',\n",
       " '__getitem__',\n",
       " '__getstate__',\n",
       " '__gt__',\n",
       " '__hash__',\n",
       " '__iadd__',\n",
       " '__imul__',\n",
       " '__init__',\n",
       " '__init_subclass__',\n",
       " '__iter__',\n",
       " '__le__',\n",
       " '__len__',\n",
       " '__lt__',\n",
       " '__mul__',\n",
       " '__ne__',\n",
       " '__new__',\n",
       " '__reduce__',\n",
       " '__reduce_ex__',\n",
       " '__repr__',\n",
       " '__reversed__',\n",
       " '__rmul__',\n",
       " '__setattr__',\n",
       " '__setitem__',\n",
       " '__sizeof__',\n",
       " '__str__',\n",
       " '__subclasshook__',\n",
       " 'append',\n",
       " 'clear',\n",
       " 'copy',\n",
       " 'count',\n",
       " 'extend',\n",
       " 'index',\n",
       " 'insert',\n",
       " 'pop',\n",
       " 'remove',\n",
       " 'reverse',\n",
       " 'sort']"
      ]
     },
     "execution_count": 28,
     "metadata": {},
     "output_type": "execute_result"
    }
   ],
   "source": [
    "dir(clients)"
   ]
  },
  {
   "cell_type": "code",
   "execution_count": 29,
   "id": "9cc95138-402f-4819-ac2c-c06e69a4c1e9",
   "metadata": {},
   "outputs": [
    {
     "data": {
      "text/plain": [
       "['John', 'Angel', 'Rafael', 'Fan']"
      ]
     },
     "execution_count": 29,
     "metadata": {},
     "output_type": "execute_result"
    }
   ],
   "source": [
    "# append adds on item to a list\n",
    "\n",
    "clients.append(\"Fan\")\n",
    "clients"
   ]
  },
  {
   "cell_type": "code",
   "execution_count": 30,
   "id": "352017ad-6d30-4699-bba6-0d7d1642f359",
   "metadata": {
    "scrolled": true
   },
   "outputs": [
    {
     "data": {
      "text/plain": [
       "['Angel', 'Rafael', 'Fan']"
      ]
     },
     "execution_count": 30,
     "metadata": {},
     "output_type": "execute_result"
    }
   ],
   "source": [
    "# remove an entry\n",
    "clients.remove(\"John\")\n",
    "clients"
   ]
  },
  {
   "cell_type": "markdown",
   "id": "cfb5b743-cd24-4de1-be39-89c69bea061f",
   "metadata": {},
   "source": [
    "## Aliases versus copies\n",
    "\n",
    "or \"shallow copies\" verses \"deep copies\""
   ]
  },
  {
   "cell_type": "code",
   "execution_count": 31,
   "id": "4929f3c1-0fb8-4330-bcdb-faa3e86d0e61",
   "metadata": {},
   "outputs": [
    {
     "data": {
      "text/plain": [
       "['Angel', 'Rafael', 'Fan', 'Fran']"
      ]
     },
     "execution_count": 31,
     "metadata": {},
     "output_type": "execute_result"
    }
   ],
   "source": [
    "#  setting an alias\n",
    "\n",
    "clients2=clients\n",
    "\n",
    "# clients2 is just another name, an alias, for clients.  It is not a copy of the data, but just another name\n",
    "\n",
    "clients2.append(\"Fran\")\n",
    "\n",
    "#notice the append was to clients2, not clients, but look what happened to clients\n",
    "clients"
   ]
  },
  {
   "cell_type": "code",
   "execution_count": 32,
   "id": "80b0a7f3-8a41-4250-b23d-4e23262b566b",
   "metadata": {},
   "outputs": [
    {
     "data": {
      "text/plain": [
       "['Angel', 'Rafael', 'Fan', 'Fran']"
      ]
     },
     "execution_count": 32,
     "metadata": {},
     "output_type": "execute_result"
    }
   ],
   "source": [
    "# tp create a second copy of a list, we need the copy function\n",
    "\n",
    "clients3=clients.copy()\n",
    "\n",
    "clients3.remove(\"Angel\")\n",
    "\n",
    "clients"
   ]
  },
  {
   "cell_type": "code",
   "execution_count": 33,
   "id": "ac33ee96-be07-4353-92d5-20802fb1f49f",
   "metadata": {},
   "outputs": [
    {
     "data": {
      "text/plain": [
       "['Rafael', 'Fan', 'Fran']"
      ]
     },
     "execution_count": 33,
     "metadata": {},
     "output_type": "execute_result"
    }
   ],
   "source": [
    "# just to check that the remove worked\n",
    "\n",
    "clients3"
   ]
  },
  {
   "cell_type": "code",
   "execution_count": 34,
   "id": "9238a3da-1e1d-41d1-8918-601cbd04beb1",
   "metadata": {},
   "outputs": [
    {
     "data": {
      "text/plain": [
       "['Kim', 'Angel', 'Rafael', 'Fan', 'Fran']"
      ]
     },
     "execution_count": 34,
     "metadata": {},
     "output_type": "execute_result"
    }
   ],
   "source": [
    "#add items at a specific location\n",
    "\n",
    "clients.insert(0,\"Kim\")\n",
    "clients"
   ]
  },
  {
   "cell_type": "markdown",
   "id": "9150e870-f5ea-4fd6-a706-68e1f165b92f",
   "metadata": {},
   "source": [
    "## Pushing and Popping\n",
    "\n",
    "Stack-like operations"
   ]
  },
  {
   "cell_type": "code",
   "execution_count": null,
   "id": "baf5b8c2-d1cf-4c3e-8824-d66945c3c2fc",
   "metadata": {},
   "outputs": [
    {
     "name": "stdout",
     "output_type": "stream",
     "text": [
      "Fran\n",
      "['Kim', 'Angel', 'Rafael', 'Fan']\n"
     ]
    }
   ],
   "source": [
    "# pop removes the last item in a list and allow you to put it in a new variable\n",
    "#  the value is removed form the list\n",
    "#  this is an implementation of an older programming structure called a \"stack\"\n",
    "# you pushed objects on a stack - appending them to end\n",
    "# and popped them back off, removing them from the end\n",
    "\n",
    "d=clients.pop()\n",
    "print(d)\n",
    "print(clients)"
   ]
  },
  {
   "cell_type": "code",
   "execution_count": null,
   "id": "d63b7ed7-85b3-4842-8ba3-bd1eea0d4859",
   "metadata": {},
   "outputs": [
    {
     "name": "stdout",
     "output_type": "stream",
     "text": [
      "['Angel', 'Fan', 'Kim', 'Rafael']\n"
     ]
    }
   ],
   "source": [
    "# we can sort lists\n",
    "clients.sort()\n",
    "\n",
    "#note: this is a sort in place, it doesn't create a sorted copy,  it sorts the variable\n",
    "\n",
    "print(clients)\n"
   ]
  },
  {
   "cell_type": "code",
   "execution_count": null,
   "id": "115735f2-3ddc-4da3-be20-bf693383eb76",
   "metadata": {},
   "outputs": [
    {
     "data": {
      "text/plain": [
       "['Rafael', 'Kim', 'Fan', 'Angel']"
      ]
     },
     "execution_count": 16,
     "metadata": {},
     "output_type": "execute_result"
    }
   ],
   "source": [
    "clients.reverse()\n",
    "clients"
   ]
  },
  {
   "cell_type": "code",
   "execution_count": null,
   "id": "690dcfa5-4adc-4ad0-a3cc-9bebfa2ce06c",
   "metadata": {},
   "outputs": [],
   "source": [
    "clients3.sort(reverse=True)"
   ]
  },
  {
   "cell_type": "code",
   "execution_count": null,
   "id": "e9d1eb5c-5d13-4208-aaaf-7940d27d8691",
   "metadata": {},
   "outputs": [
    {
     "data": {
      "text/plain": [
       "['Rafael', 'Fran', 'Fan']"
      ]
     },
     "execution_count": 18,
     "metadata": {},
     "output_type": "execute_result"
    }
   ],
   "source": [
    "clients3"
   ]
  },
  {
   "cell_type": "markdown",
   "id": "05d09d8f-a0fa-4c45-abef-2c0a505a2288",
   "metadata": {},
   "source": [
    "# Lists are iterable\n",
    "\n",
    "We can use them in a for loop, as shown below"
   ]
  },
  {
   "cell_type": "code",
   "execution_count": null,
   "id": "0d5046b5-22a2-4313-bd98-f90cc44af924",
   "metadata": {
    "scrolled": true
   },
   "outputs": [
    {
     "name": "stdout",
     "output_type": "stream",
     "text": [
      "Rafael\n",
      "Kim\n",
      "Fan\n",
      "Angel\n"
     ]
    }
   ],
   "source": [
    "for name in clients:\n",
    "    print(name)"
   ]
  },
  {
   "cell_type": "markdown",
   "id": "9bfccac3-5bb2-4278-a4fe-89faacdf9b8d",
   "metadata": {},
   "source": [
    "Notice the syntax \n",
    "\n",
    "we have an iterator (name) that takes on each value in clients, one at a time\n",
    "\n",
    "the for statement ends with a :\n",
    "\n",
    "the body of commands in the loop is indented- python uses indentation to denote code blocks, be careful with this"
   ]
  },
  {
   "cell_type": "markdown",
   "id": "ff28510c-ce01-4e3e-9371-3724120e0f1d",
   "metadata": {},
   "source": [
    "## *Question/Action*\n",
    "\n",
    "Here is a list of numbers\n",
    "\n",
    "Add code to print the number and it's square\n",
    "\n",
    "just go in alter my code"
   ]
  },
  {
   "cell_type": "code",
   "execution_count": 36,
   "id": "d7e3af64-6b9b-4056-a5d8-388ef49213e3",
   "metadata": {
    "scrolled": true
   },
   "outputs": [
    {
     "name": "stdout",
     "output_type": "stream",
     "text": [
      "1 1\n",
      "2 4\n",
      "3 9\n",
      "4 16\n",
      "5 25\n",
      "6 36\n",
      "7 49\n",
      "8 64\n",
      "9 81\n"
     ]
    }
   ],
   "source": [
    "x=[1,2,3,4,5,6,7,8,9]\n",
    "\n",
    "for val in x:\n",
    "    print(val, val**2)"
   ]
  },
  {
   "cell_type": "markdown",
   "id": "d0079a44-a421-4f4b-b415-7ab0ba532260",
   "metadata": {},
   "source": [
    "LIst comprehensions are quick ways to run a loop like operation"
   ]
  },
  {
   "cell_type": "code",
   "execution_count": null,
   "id": "033c7ce3-a636-4c14-8007-3413bc3bd5af",
   "metadata": {
    "scrolled": true
   },
   "outputs": [
    {
     "name": "stdout",
     "output_type": "stream",
     "text": [
      "1 1\n",
      "2 4\n",
      "3 9\n",
      "4 16\n",
      "5 25\n",
      "6 36\n",
      "7 49\n",
      "8 64\n",
      "9 81\n"
     ]
    },
    {
     "data": {
      "text/plain": [
       "[None, None, None, None, None, None, None, None, None]"
      ]
     },
     "execution_count": 21,
     "metadata": {},
     "output_type": "execute_result"
    }
   ],
   "source": [
    "[print(var,var**2) for var in x] "
   ]
  },
  {
   "cell_type": "code",
   "execution_count": null,
   "id": "2bd56729-3f4a-43e0-a199-454c9f533037",
   "metadata": {},
   "outputs": [
    {
     "data": {
      "text/plain": [
       "[1, 8, 27, 64, 125, 216, 343, 512, 729]"
      ]
     },
     "execution_count": 22,
     "metadata": {},
     "output_type": "execute_result"
    }
   ],
   "source": [
    "# we can create a list using a comprehension\n",
    "\n",
    "x_cubed=[var**3 for var in x]\n",
    "\n",
    "x_cubed"
   ]
  }
 ],
 "metadata": {
  "kernelspec": {
   "display_name": "DSE5002",
   "language": "python",
   "name": "python3"
  },
  "language_info": {
   "codemirror_mode": {
    "name": "ipython",
    "version": 3
   },
   "file_extension": ".py",
   "mimetype": "text/x-python",
   "name": "python",
   "nbconvert_exporter": "python",
   "pygments_lexer": "ipython3",
   "version": "3.12.9"
  }
 },
 "nbformat": 4,
 "nbformat_minor": 5
}
