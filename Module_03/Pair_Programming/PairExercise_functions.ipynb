{
 "cells": [
  {
   "cell_type": "markdown",
   "id": "2e919351-f5a7-4924-85e5-ae3ceaaad3de",
   "metadata": {},
   "source": [
    "# Pair Programming exercise   Functions\n",
    "\n",
    "DSE5002,  Module 7,  HD Sheets, July 2024\n",
    "updated 11/13/2024\n",
    "\n",
    "## Writing functions in Python\n",
    "\n",
    "see\n",
    "\n",
    "https://docs.python.org/3/tutorial/controlflow.html#defining-functions"
   ]
  },
  {
   "cell_type": "markdown",
   "id": "37d67449-505e-4047-8455-e4f0e76c1f74",
   "metadata": {},
   "source": [
    "# Functions\n",
    "\n",
    "Function definitions in Python start with the keyword \"def\" which indicates that we are starting\n",
    "a function definition\n",
    "\n",
    "After def,  we state the name of the function and then the input variables\n",
    "\n",
    "Here is a function that computes the squares of  inters up to n\n",
    "\n",
    "The input is n and there is no returned variable\n",
    "\n",
    "The section inside the triple quotes \"\"\" is called the docstring\n",
    "it should explain what the function does and what the output is"
   ]
  },
  {
   "cell_type": "code",
   "execution_count": 20,
   "id": "7a80dfda-f68f-4cd8-b6aa-59756d4b55b6",
   "metadata": {},
   "outputs": [],
   "source": [
    "#define the function\n",
    "\n",
    "def squares2n(n):\n",
    "    \"\"\"\n",
    "    squares2n(n) prints the squares of all integers such that the square is\n",
    "    less than n,  starting from 1\n",
    "    \"\"\"\n",
    "    x=1\n",
    "    while(x**2<n):              # notice the use of a while loop here\n",
    "        print(x,x**2)\n",
    "        x=x+1"
   ]
  },
  {
   "cell_type": "code",
   "execution_count": 8,
   "id": "6a22853b-b08f-4e7e-9e1b-9b9361cefe87",
   "metadata": {},
   "outputs": [],
   "source": [
    "# now run it"
   ]
  },
  {
   "cell_type": "code",
   "execution_count": 22,
   "id": "0a4e127d-54de-49e1-8999-076561d03ba2",
   "metadata": {},
   "outputs": [
    {
     "name": "stdout",
     "output_type": "stream",
     "text": [
      "1 1\n",
      "2 4\n",
      "3 9\n",
      "4 16\n",
      "5 25\n",
      "6 36\n",
      "7 49\n",
      "8 64\n",
      "9 81\n",
      "10 100\n",
      "11 121\n",
      "12 144\n",
      "13 169\n",
      "14 196\n",
      "15 225\n",
      "16 256\n",
      "17 289\n",
      "18 324\n",
      "19 361\n",
      "20 400\n",
      "21 441\n",
      "22 484\n",
      "23 529\n",
      "24 576\n",
      "25 625\n",
      "26 676\n",
      "27 729\n",
      "28 784\n",
      "29 841\n",
      "30 900\n",
      "31 961\n",
      "32 1024\n",
      "33 1089\n",
      "34 1156\n",
      "35 1225\n",
      "36 1296\n",
      "37 1369\n",
      "38 1444\n"
     ]
    }
   ],
   "source": [
    "squares2n(1500)"
   ]
  },
  {
   "cell_type": "code",
   "execution_count": 28,
   "id": "3194e963-56fb-471c-8f06-44f467686258",
   "metadata": {},
   "outputs": [
    {
     "name": "stdout",
     "output_type": "stream",
     "text": [
      "\n",
      "    squares2n(n) prints the squares of all integers such that the square is\n",
      "    less than n,  starting from 1\n",
      "    \n"
     ]
    }
   ],
   "source": [
    "#viewing the docstring, another way to learn about what a function does\n",
    "\n",
    "print(squares2n.__doc__)"
   ]
  },
  {
   "cell_type": "markdown",
   "id": "635754d9-700f-4ad1-8f83-e6a88b4dd39c",
   "metadata": {},
   "source": [
    "Different organizations may have different protocols for what belongs in a docstring\n",
    "and how it should be structured"
   ]
  },
  {
   "cell_type": "markdown",
   "id": "37ae2272-50db-4bef-8e85-041642e81c39",
   "metadata": {},
   "source": [
    "## *Question/Action*\n",
    "\n",
    "Write a function in the cell below that takes in two values, a and b, and prints out the value of the smaller of the two\n",
    "\n",
    "Include a simple doc string\n",
    "\n",
    "use an if-else pair to do this,  you may need to look up  if/else in python\n"
   ]
  },
  {
   "cell_type": "code",
   "execution_count": null,
   "id": "cc0e648e-a3d4-4352-8aa0-9660e42b6286",
   "metadata": {},
   "outputs": [],
   "source": []
  },
  {
   "cell_type": "markdown",
   "id": "d44d35ef-d7d4-43fa-ad31-e035332971b2",
   "metadata": {},
   "source": [
    "# Return values\n",
    "\n",
    "A function can return values,  just as it can in R\n",
    "\n",
    "Here, we will alter squares2n to return a list\n"
   ]
  },
  {
   "cell_type": "code",
   "execution_count": 32,
   "id": "04c8ba76-4b07-4652-bf78-4a7da3acf5d7",
   "metadata": {},
   "outputs": [],
   "source": [
    "#define the function\n",
    "\n",
    "def squares2nlist(n):\n",
    "    \"\"\"\n",
    "    squares2n(n) prints the squares of all integers such that the square is\n",
    "    less than n,  starting from 1\n",
    "\n",
    "    returns a list of the squares\n",
    "    \"\"\"\n",
    "    y=[]\n",
    "    x=1\n",
    "    while(x**2<n):\n",
    "        y.append(x**2)\n",
    "        x=x+1\n",
    "    return y"
   ]
  },
  {
   "cell_type": "code",
   "execution_count": 34,
   "id": "0b7b76f7-898d-4cc3-b026-d30a9f0f2a80",
   "metadata": {},
   "outputs": [
    {
     "data": {
      "text/plain": [
       "[1,\n",
       " 4,\n",
       " 9,\n",
       " 16,\n",
       " 25,\n",
       " 36,\n",
       " 49,\n",
       " 64,\n",
       " 81,\n",
       " 100,\n",
       " 121,\n",
       " 144,\n",
       " 169,\n",
       " 196,\n",
       " 225,\n",
       " 256,\n",
       " 289,\n",
       " 324,\n",
       " 361,\n",
       " 400,\n",
       " 441,\n",
       " 484,\n",
       " 529]"
      ]
     },
     "execution_count": 34,
     "metadata": {},
     "output_type": "execute_result"
    }
   ],
   "source": [
    "#example call\n",
    "\n",
    "a=squares2nlist(560)\n",
    "\n",
    "a"
   ]
  },
  {
   "cell_type": "markdown",
   "id": "f948029b-6bab-45e4-9756-ef2ee6892651",
   "metadata": {},
   "source": [
    "# default values on inputs\n",
    "\n",
    "As in R, we can define default values"
   ]
  },
  {
   "cell_type": "code",
   "execution_count": 44,
   "id": "9f8600b9-6f43-4cc3-9529-bb81a5d8a624",
   "metadata": {},
   "outputs": [],
   "source": [
    "def powers2n(n=100, power=2):\n",
    "    \"\"\"\n",
    "    powers2n(n,power) computes the powers of the integers less than n and returns them as a list\n",
    "\n",
    "    inputs are the value n to stop at and the power used\n",
    "\n",
    "    defaults are n=100, power=2\n",
    "    \"\"\"\n",
    "     \n",
    "    y=[]\n",
    "    x=1\n",
    "    while(x**power<n):\n",
    "        y.append(x**power)\n",
    "        x=x+1\n",
    "    return y\n",
    "    \n"
   ]
  },
  {
   "cell_type": "code",
   "execution_count": 46,
   "id": "b3d7a6f6-65bb-41ea-be3a-ca12f42d1e37",
   "metadata": {},
   "outputs": [
    {
     "data": {
      "text/plain": [
       "[1, 4, 9, 16, 25, 36, 49, 64, 81]"
      ]
     },
     "execution_count": 46,
     "metadata": {},
     "output_type": "execute_result"
    }
   ],
   "source": [
    "a=powers2n()\n",
    "a"
   ]
  },
  {
   "cell_type": "code",
   "execution_count": 48,
   "id": "2ee171c7-4e2e-4b90-84aa-9703b11db797",
   "metadata": {},
   "outputs": [
    {
     "data": {
      "text/plain": [
       "[1, 8, 27, 64, 125]"
      ]
     },
     "execution_count": 48,
     "metadata": {},
     "output_type": "execute_result"
    }
   ],
   "source": [
    "#calling the function using input parametes in order\n",
    "a=powers2n(200,3)\n",
    "a"
   ]
  },
  {
   "cell_type": "code",
   "execution_count": 52,
   "id": "d8e31057-4a27-4049-acc2-53eb453dcbab",
   "metadata": {},
   "outputs": [
    {
     "data": {
      "text/plain": [
       "[1.0,\n",
       " 5.656854249492381,\n",
       " 15.588457268119896,\n",
       " 32.0,\n",
       " 55.90169943749474,\n",
       " 88.18163074019441]"
      ]
     },
     "execution_count": 52,
     "metadata": {},
     "output_type": "execute_result"
    }
   ],
   "source": [
    "# calling the function using named parameters\n",
    "a=powers2n(power=2.5)\n",
    "a"
   ]
  },
  {
   "cell_type": "markdown",
   "id": "050268dc-529d-4a22-a757-9d0bbe7c931a",
   "metadata": {},
   "source": [
    "For more on functions and options to control input parameters,  see\n",
    "\n",
    "https://docs.python.org/3/tutorial/controlflow.html#defining-functions\n"
   ]
  },
  {
   "cell_type": "markdown",
   "id": "63b652e8-d2b5-405f-872c-84e8cc81b38e",
   "metadata": {
    "jp-MarkdownHeadingCollapsed": true
   },
   "source": [
    "## *Question/Action*\n",
    "\n",
    "Modify your function that takes in a and b so that a defaults to 1 and be defaults to 0\n",
    "\n",
    "Alter the function so that it returns the smaller of the two input values"
   ]
  },
  {
   "cell_type": "markdown",
   "id": "4d1618af-730e-4f57-8222-1ea7abdbda3b",
   "metadata": {},
   "source": [
    "# Lambda Functions\n",
    "\n",
    "these are simple, one line functions\n",
    "\n",
    "They are useful when you need to pass a function or operation into another functions,  say if we\n",
    "want to apply the same function all the values along columns of a matrix"
   ]
  },
  {
   "cell_type": "code",
   "execution_count": 54,
   "id": "29d54da3-8e6b-434d-a7bd-ead12e296c8f",
   "metadata": {},
   "outputs": [],
   "source": [
    "#creating a function that creates a decrementor function\n",
    "# this is a function that returns a function which decrements the input by n\n",
    "# this is the first time we have seen a function that returns a function\n",
    "\n",
    "\n",
    "def make_decrementor(n):\n",
    "    return lambda x:x-n\n",
    "\n"
   ]
  },
  {
   "cell_type": "code",
   "execution_count": 56,
   "id": "51081fb5-c04d-49aa-9bad-e12927333f3d",
   "metadata": {},
   "outputs": [
    {
     "data": {
      "text/plain": [
       "9"
      ]
     },
     "execution_count": 56,
     "metadata": {},
     "output_type": "execute_result"
    }
   ],
   "source": [
    "# make a call to create the decrementor\n",
    "\n",
    "my_decrement_by_1=make_decrementor(1)\n",
    "\n",
    "x=10\n",
    "\n",
    "# my_decrement_by_1 is now a function that decreases it's input by 1\n",
    "\n",
    "my_decrement_by_1(x)"
   ]
  },
  {
   "cell_type": "markdown",
   "id": "bf8c5b2e-969e-406a-bd3b-2c476b542fd1",
   "metadata": {},
   "source": [
    "# *Question/Action*\n",
    "\n",
    "write a function that creates a function that multiples by n\n",
    "\n",
    "show that it works"
   ]
  },
  {
   "cell_type": "markdown",
   "id": "fb69a1f8-c58c-4163-a280-b240d1fec2f4",
   "metadata": {},
   "source": [
    "#Lambda functions are helpful for passing a function into another function\n",
    "\n",
    "this example allows use to sort by a specific entry in a list  of lists"
   ]
  },
  {
   "cell_type": "code",
   "execution_count": 64,
   "id": "964e423a-9750-48fd-89de-c6b11388e2ed",
   "metadata": {},
   "outputs": [
    {
     "data": {
      "text/plain": [
       "[(1, 'Lin Ho', 'Zhang'), (2, 'Smith', 'Bob'), (3, 'Fernandes', 'Rita')]"
      ]
     },
     "execution_count": 64,
     "metadata": {},
     "output_type": "execute_result"
    }
   ],
   "source": [
    "customers=[(1,\"Lin Ho\", \"Zhang\"),(2,\"Smith\",\"Bob\"),(3,\"Fernandes\",\"Rita\")]\n",
    "\n",
    "#sort by ID\n",
    "\n",
    "customers.sort(key=lambda x:x[0])\n",
    "customers"
   ]
  },
  {
   "cell_type": "code",
   "execution_count": null,
   "id": "3c424dca-c527-4395-b2ac-41d02a8fef83",
   "metadata": {},
   "outputs": [],
   "source": [
    "# alter this lambda function to sort by the first name"
   ]
  }
 ],
 "metadata": {
  "kernelspec": {
   "display_name": "Python 3 (ipykernel)",
   "language": "python",
   "name": "python3"
  },
  "language_info": {
   "codemirror_mode": {
    "name": "ipython",
    "version": 3
   },
   "file_extension": ".py",
   "mimetype": "text/x-python",
   "name": "python",
   "nbconvert_exporter": "python",
   "pygments_lexer": "ipython3",
   "version": "3.12.3"
  }
 },
 "nbformat": 4,
 "nbformat_minor": 5
}
