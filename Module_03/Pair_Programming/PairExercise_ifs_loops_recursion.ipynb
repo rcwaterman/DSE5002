{
 "cells": [
  {
   "cell_type": "markdown",
   "id": "6612b642-e2a4-4e60-8af8-43cca374b355",
   "metadata": {},
   "source": [
    "# Pair Programming Exercise,  flow control, if/esle, Recursion\n",
    "\n",
    "For DSE5002,   Module 3,   July 2024\n",
    "Updated 11/13/2024, 2/11/2024\n",
    "\n",
    "If, else statements\n",
    "\n",
    "Recursion\n",
    "\n",
    "Loops\n",
    "\n",
    "See discussion in Think Python\n",
    "\n",
    "https://allendowney.github.io/ThinkPython/chap05.html   - ifs and test conditions, recursion\n",
    "\n",
    "https://allendowney.github.io/ThinkPython/chap07.html, Iteration, ie looops\n",
    "\n"
   ]
  },
  {
   "cell_type": "markdown",
   "id": "fd030632-a68d-4abf-8a11-e7b54de9b70f",
   "metadata": {},
   "source": [
    "## If\n",
    "\n",
    "Python has an if statement,  which executes a code block if it is true\n",
    "      \n",
    "    -code blocks are denoted by indentations,  each level of a code block should be indented by 4 spaces\n",
    "      4 spaces is not strictly required,   any consistent number will work, but for consistency use the default 4 spaces\n",
    "      this will help a lot if someone else has to edit your code\n",
    "\n",
    "### Elif    \n",
    "    \n",
    "to go with the if statement, there is an elif (\"else if\") command which uses a second test condition.   If will run the associated code \n",
    "when the if was false and the elif is true\n",
    "\n",
    "### Else\n",
    "\n",
    "this is the same as the else in R, it will run if the if and elif statements before it do not run\n",
    "  "
   ]
  },
  {
   "cell_type": "markdown",
   "id": "3eacd6c3-c101-4d6d-b276-cfbaf8a87ad8",
   "metadata": {},
   "source": [
    "Simple if"
   ]
  },
  {
   "cell_type": "code",
   "execution_count": 1,
   "id": "7c8383ee-fc3e-40de-a315-f38e2d0573ef",
   "metadata": {},
   "outputs": [
    {
     "name": "stdout",
     "output_type": "stream",
     "text": [
      "juvenile\n"
     ]
    }
   ],
   "source": [
    "x=5\n",
    "if x<=5:\n",
    "    age=\"juvenile\"\n",
    "    print(age)\n"
   ]
  },
  {
   "cell_type": "markdown",
   "id": "4e5810a5-ab08-4267-9a9f-fdf3985a4d90",
   "metadata": {},
   "source": [
    "here is an if-else pairing"
   ]
  },
  {
   "cell_type": "code",
   "execution_count": 2,
   "id": "2d5dea0e-e85d-4dec-b6d9-badb82b35468",
   "metadata": {},
   "outputs": [
    {
     "name": "stdout",
     "output_type": "stream",
     "text": [
      "adult\n"
     ]
    }
   ],
   "source": [
    "x=6\n",
    "\n",
    "if x<=5:\n",
    "    age='juvenile'\n",
    "else:\n",
    "    age=\"adult\"\n",
    "    \n",
    "print(age)"
   ]
  },
  {
   "cell_type": "markdown",
   "id": "49f6e809-f3ab-4c91-83c2-c1bd34b3d5cb",
   "metadata": {
    "jp-MarkdownHeadingCollapsed": true
   },
   "source": [
    "## *Question/Action*\n",
    "\n",
    "Alter the code above to produce the juvenile answer"
   ]
  },
  {
   "cell_type": "markdown",
   "id": "e8433d90-ae40-480e-816e-fa548a1907cc",
   "metadata": {},
   "source": [
    "## *Question/Action*\n",
    "\n",
    "write code that will test to see if the variable home_state is \"Ma\" or not,  and set y = 0 for \"Ma\" and y=1 otherwise\n",
    "\n",
    "print out the value of y at the end\n",
    "\n"
   ]
  },
  {
   "cell_type": "code",
   "execution_count": null,
   "id": "97b713a3-3462-45ec-b89e-9b76b8ffb391",
   "metadata": {},
   "outputs": [],
   "source": []
  },
  {
   "cell_type": "markdown",
   "id": "ba974d03-ec9e-4ac3-8be0-09cf40e5bf48",
   "metadata": {},
   "source": [
    "## Using a chain of if, elif and else\n",
    "\n",
    "Lets set y to be\n",
    "\n",
    "1-for \"Ma\"\n",
    "2-for \"Ny\"\n",
    "3-for \"Ct\"\n",
    "4 for all other states\n"
   ]
  },
  {
   "cell_type": "code",
   "execution_count": 5,
   "id": "e7760e1a-bb35-40e2-ad8e-e55d54ce8f5c",
   "metadata": {},
   "outputs": [
    {
     "name": "stdout",
     "output_type": "stream",
     "text": [
      "4\n"
     ]
    }
   ],
   "source": [
    "home_state=\"Ne\"\n",
    "\n",
    "if(home_state==\"Ma\"):\n",
    "    y=1\n",
    "elif(home_state==\"Ny\"):\n",
    "    y=2\n",
    "elif(home_state==\"Ct\"):\n",
    "    y=3\n",
    "else:\n",
    "    y=4\n",
    "\n",
    "print(y)"
   ]
  },
  {
   "cell_type": "markdown",
   "id": "d0723494-4218-4e2b-8ce9-faff7c91af71",
   "metadata": {},
   "source": [
    "# For Loop\n",
    "\n",
    "when we use a for loop, we can loop through any iterable variable type, so a list,or tuple, but not a set\n"
   ]
  },
  {
   "cell_type": "code",
   "execution_count": 8,
   "id": "84b232af-eef1-4acc-bd51-871cd49c795d",
   "metadata": {},
   "outputs": [
    {
     "name": "stdout",
     "output_type": "stream",
     "text": [
      "1 1\n",
      "2 4\n",
      "3 9\n",
      "4 16\n",
      "5 25\n",
      "6 36\n",
      "7 49\n",
      "8 64\n",
      "9 81\n",
      "10 100\n"
     ]
    }
   ],
   "source": [
    "x=[1,2,3,4,5,6,7,8,9,10]\n",
    "\n",
    "for i in x:\n",
    "    print(i, i**2)"
   ]
  },
  {
   "cell_type": "code",
   "execution_count": 15,
   "id": "4ea53dc6-7f32-4011-a920-c61dd04f9359",
   "metadata": {},
   "outputs": [
    {
     "data": {
      "text/plain": [
       "array([[ 0,  1,  2],\n",
       "       [ 3,  4,  5],\n",
       "       [ 6,  7,  8],\n",
       "       [ 9, 10, 11],\n",
       "       [12, 13, 14]])"
      ]
     },
     "execution_count": 15,
     "metadata": {},
     "output_type": "execute_result"
    }
   ],
   "source": [
    "#Iterating on a numpy matrix\n",
    "\n",
    "import numpy as np\n",
    "\n",
    "z=np.arange(15).reshape(5,3)\n",
    "\n",
    "z\n"
   ]
  },
  {
   "cell_type": "code",
   "execution_count": 19,
   "id": "c6ca33bb-8870-4d5f-950d-72226b6dcbb6",
   "metadata": {},
   "outputs": [
    {
     "name": "stdout",
     "output_type": "stream",
     "text": [
      "[0 1 2]\n",
      "[3 4 5]\n",
      "[6 7 8]\n",
      "[ 9 10 11]\n",
      "[12 13 14]\n"
     ]
    }
   ],
   "source": [
    "#iterate on rows of an numply matrix\n",
    "\n",
    "nrows=z.shape[0]                             # shape gives use the dimension of the matrix as (nrows, ncolumns)\n",
    "\n",
    "for k in np.arange(nrows):\n",
    "    print(z[k,:])"
   ]
  },
  {
   "cell_type": "code",
   "execution_count": 20,
   "id": "34f95db6-1721-4dda-b426-1c6924fe9100",
   "metadata": {},
   "outputs": [
    {
     "name": "stdout",
     "output_type": "stream",
     "text": [
      "[ 0  3  6  9 12]\n",
      "[ 1  4  7 10 13]\n",
      "[ 2  5  8 11 14]\n"
     ]
    }
   ],
   "source": [
    "#iterate on columns of an numply matrix\n",
    "\n",
    "ncols=z.shape[1]                             # shape gives use the dimension of the matrix as (nrows, ncolumns)\n",
    "\n",
    "for k in np.arange(ncols):\n",
    "    print(z[:,k])"
   ]
  },
  {
   "cell_type": "code",
   "execution_count": 13,
   "id": "2e4efcd4-7fad-4a20-b18d-9fd238166813",
   "metadata": {},
   "outputs": [
    {
     "name": "stdout",
     "output_type": "stream",
     "text": [
      "Bob\n",
      "Shauna\n",
      "Seung\n",
      "Jose\n",
      "1 Jose\n",
      "2 Jose\n",
      "3 Jose\n",
      "4 Jose\n"
     ]
    }
   ],
   "source": [
    "y={1:\"Bob\",2:\"Shauna\",3:\"Seung\",4:\"Jose\"}\n",
    "\n",
    "#we cannot loop directly on a dictionary,  but we can loop on the values\n",
    "\n",
    "for value in y.values():\n",
    "    print(value)\n",
    "\n",
    "# we can iterate on both the key and the value, using the items function\n",
    "    \n",
    "for key,values in y.items():\n",
    "    print(key,value)"
   ]
  },
  {
   "cell_type": "markdown",
   "id": "b20cca46-ff96-41e4-a42c-bddcf6643930",
   "metadata": {},
   "source": [
    "# While Loop\n",
    "\n",
    "Python also has a while loop, that continues until a max value is reached"
   ]
  },
  {
   "cell_type": "code",
   "execution_count": 30,
   "id": "3e1a8615-55b1-4135-b7cf-b434f7c1fe0f",
   "metadata": {},
   "outputs": [
    {
     "name": "stdout",
     "output_type": "stream",
     "text": [
      "[0, 1, 9, 25, 49, 81, 121]\n"
     ]
    }
   ],
   "source": [
    "x=[0]\n",
    "n=1\n",
    "\n",
    "while(n<13):\n",
    "    x.append(n**2)\n",
    "    n=n+2\n",
    "\n",
    "print(x)\n"
   ]
  },
  {
   "cell_type": "code",
   "execution_count": null,
   "id": "853cb3fe-a937-44fb-9ebc-11ea65a606aa",
   "metadata": {},
   "outputs": [],
   "source": [
    "# Nested Loops\n",
    "\n",
    "\n",
    "Given a list of values, which pairs of values in the list, if any, add up to a target sum?\n",
    "\n",
    "Use two nested loops to compare the sums of all possible combinations in the list to the target sum value"
   ]
  },
  {
   "cell_type": "code",
   "execution_count": 49,
   "id": "d238bb77-11b2-41da-b58e-050c256f409d",
   "metadata": {},
   "outputs": [
    {
     "name": "stdout",
     "output_type": "stream",
     "text": [
      "4 23\n",
      "10 17\n",
      "17 10\n",
      "23 4\n",
      "\n",
      "110\n"
     ]
    }
   ],
   "source": [
    "x=[1,2,4,6,9,10,15,17,20,23,24]\n",
    "target_sum=27\n",
    "\n",
    "nsteps_nested=0\n",
    "\n",
    "for i in np.arange(len(x)):\n",
    "    for j in np.arange(len(x)-1): \n",
    "      nsteps_nested=nsteps_nested+1\n",
    "      if ((x[i] != x[j+1]) & ((x[i] + x[j+1]) == target_sum)):\n",
    "        print(x[i], x[j+1])\n",
    "      \n",
    "print()\n",
    "print(nsteps_nested)\n",
    "  "
   ]
  },
  {
   "cell_type": "code",
   "execution_count": null,
   "id": "343b6768-bfaf-4b50-bed3-1fcabaea4bd4",
   "metadata": {},
   "outputs": [],
   "source": [
    "# Hashed based method,   allows us to use only one loop iteration\n",
    "\n",
    "The python dictionary is hashed storage\n",
    "\n",
    "So what will do is set up an entry dictionary, \n",
    "\n",
    "then we will loop through x once, \n",
    "\n",
    "For a given value in x,  x[i], we will use vector operations to find if there is a value in x\n",
    "that sums with x[i] to the target_sum,   if there is, we will use x[i] as the key, and the value that with x[i] equals target_sum\n",
    "as the value in the dictionary.\n",
    "\n",
    "After one loop iteration, the key and value pairs of the dictionary hold the paired values that add up to target_sum"
   ]
  },
  {
   "cell_type": "code",
   "execution_count": 66,
   "id": "eca9834a-4a11-43e1-81d6-65354b366dfb",
   "metadata": {},
   "outputs": [
    {
     "name": "stdout",
     "output_type": "stream",
     "text": [
      "dict_items([(4, 23), (10, 17), (17, 10), (23, 4)])\n",
      "\n",
      "11\n"
     ]
    }
   ],
   "source": [
    "x=np.array([1,2,4,6,9,10,15,17,20,23,24])\n",
    "target_sum=27\n",
    "\n",
    "nsteps_hash=0\n",
    "\n",
    "h={}    # an empty dictionary\n",
    "\n",
    "for i in np.arange(len(x)):\n",
    "    nsteps_hash=nsteps_hash+1\n",
    "    if any((x[i]+x)==target_sum)&(x[i]!=target_sum/2):\n",
    "        h[x[i]]=(x[(x[i]+x)==target_sum])[0]\n",
    "                  \n",
    "print(h.items())\n",
    "print()           \n",
    "print(nsteps_hash)"
   ]
  },
  {
   "cell_type": "markdown",
   "id": "d2706730-5a15-4d7f-b6a4-b57bf1455340",
   "metadata": {},
   "source": [
    "Notice that the number of loop iterations for the nested loop was 110, and the number of loop operations in the\n",
    "hashed or dictionary version was 11.\n",
    "\n",
    "In a large problem, this difference would really add up.\n",
    "\n",
    "\n",
    "To figure out how to cover a nested loop to a single loop with a hash (dictionary)\n",
    "\n",
    "a.) Loop at the inner loop and figure out how to vectorize that operation\n",
    "\n",
    "b.) Set up an empty dictionary\n",
    "\n",
    "c.) set up the outer loop, and put the vectorized operation within the outer loop.  For each step of the outer loop, store the \n",
    "key value pairing from your vectorized calculation into the dictionary.   Use the value from the outer loop as the key, and other\n",
    "value, or the calculated value as the value in the dictionary.\n",
    "\n"
   ]
  },
  {
   "cell_type": "code",
   "execution_count": null,
   "id": "b9e0b70b-5fb5-4de2-b5a1-5a9ef1735a5d",
   "metadata": {},
   "outputs": [],
   "source": []
  },
  {
   "cell_type": "markdown",
   "id": "70d877ef-9019-4424-ba18-e31620bf54b8",
   "metadata": {},
   "source": [
    "## *Recursion*\n",
    "\n",
    "This is a method in which a function calls itself repeatedly\n",
    "\n",
    "One classical example is to compute n! (n factoriaL) by repeatedly calling a function.\n",
    "\n",
    "The function returns 1 when n=0,   0! is defined as 1.\n",
    "\n",
    "For other values, it computes N x (N-1)! by recursively calling the factorial fucntion\n",
    "\n",
    "Note: There is a lot of overhead involved in calling recursive functions"
   ]
  },
  {
   "cell_type": "code",
   "execution_count": 11,
   "id": "1aabc1bd-354e-4c8f-83b5-de1979924dce",
   "metadata": {},
   "outputs": [],
   "source": [
    "def rec_factorial(n):\n",
    "    if n==0:\n",
    "        return(1)\n",
    "    else:\n",
    "        return(n*rec_factorial(n-1))\n",
    "        "
   ]
  },
  {
   "cell_type": "code",
   "execution_count": 13,
   "id": "f4a0bf05-678d-491c-90a3-2b57b60f8ded",
   "metadata": {},
   "outputs": [
    {
     "data": {
      "text/plain": [
       "2"
      ]
     },
     "execution_count": 13,
     "metadata": {},
     "output_type": "execute_result"
    }
   ],
   "source": [
    "rec_factorial(2)"
   ]
  },
  {
   "cell_type": "code",
   "execution_count": null,
   "id": "011f2ffa-364d-492a-a774-c4eab9d5565d",
   "metadata": {},
   "outputs": [],
   "source": [
    "## *Question/Action*\n",
    "\n",
    "Write a function that recursively counts down toward zero\n",
    "\n",
    "If n is zero, it should print zero\n",
    "\n",
    "Otherwise it should print n with a linefeed and then call itself again with an input of (n-1)"
   ]
  }
 ],
 "metadata": {
  "kernelspec": {
   "display_name": "Python 3 (ipykernel)",
   "language": "python",
   "name": "python3"
  },
  "language_info": {
   "codemirror_mode": {
    "name": "ipython",
    "version": 3
   },
   "file_extension": ".py",
   "mimetype": "text/x-python",
   "name": "python",
   "nbconvert_exporter": "python",
   "pygments_lexer": "ipython3",
   "version": "3.12.3"
  }
 },
 "nbformat": 4,
 "nbformat_minor": 5
}
